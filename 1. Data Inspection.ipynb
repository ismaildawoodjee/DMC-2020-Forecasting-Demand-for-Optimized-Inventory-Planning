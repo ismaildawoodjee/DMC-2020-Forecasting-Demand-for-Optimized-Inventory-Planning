{
 "cells": [
  {
   "cell_type": "markdown",
   "metadata": {},
   "source": [
    "### Findings\n",
    "\n",
    "**NOTE:** Column names will be referred by attaching their dataset name after an underscore, to easily identify which dataset that column belongs in.\n",
    "\n",
    "- There are **10463** unique items, same as the number of rows in the `infos` and `items` datasets. \n",
    "- There are a total of **2181955** orders over a period of 6 months. \n",
    "- Only **1843** items were put on promotion, judging by the number of non-null entries in the `promotion_infos` column.\n",
    "- There are no empty entries in all three datasets, except for the non-promoted items.\n",
    "- The `itemID` column is shared across all three datasets.\n",
    "- There are three different prices: `simulationPrice_infos`, `recommendedRetailPrice_items` and `salesPrice_orders`.\n",
    "- Categorical features are `order_orders`, `brand + manufacturer + category1 + category2 + category3_items` \n",
    "- Numerical features are `customerRating_items` and the three `Price` columns.\n",
    "- Datetime features are `time_orders` and comma-separated `promotion_infos`.\n",
    "\n",
    "\n",
    "### Tasks \n",
    "\n",
    "- Converted `time_orders` to `datetime` type to reduce memory usage.\n",
    "- Saved the modified `orders` dataset to home directory (not the original DMC-2020 folder) in pickle format.\n",
    "- Saved `infos` and `items` to home directory in pickle format as well. Pickling will drastically reduce time spent on reading in datasets.\n",
    "\n",
    "**Ismail Dawoodjee 11:27 AM 26-May-2020**"
   ]
  },
  {
   "cell_type": "markdown",
   "metadata": {},
   "source": [
    "# Data Inspection\n",
    "\n",
    "Import libraries, read data from original folder, copy datasets and inspect them.\n",
    "\n",
    "- `infos` dataset: contains list of items, their price and promo dates\n",
    "- `items` dataset: contains descriptive features of all items\n",
    "- `orders` dataset: contains all item orders over 6 months"
   ]
  },
  {
   "cell_type": "code",
   "execution_count": 8,
   "metadata": {},
   "outputs": [],
   "source": [
    "import numpy as np\n",
    "import pandas as pd"
   ]
  },
  {
   "cell_type": "code",
   "execution_count": 47,
   "metadata": {},
   "outputs": [],
   "source": [
    "infos  = pd.read_csv('../DMC-2020-Task/DMC20_Data/infos.csv', sep = '|') \n",
    "items  = pd.read_csv('../DMC-2020-Task/DMC20_Data/items.csv', sep = '|') \n",
    "orders = pd.read_csv('../DMC-2020-Task/DMC20_Data/orders.csv', sep = '|') "
   ]
  },
  {
   "cell_type": "code",
   "execution_count": 3,
   "metadata": {},
   "outputs": [],
   "source": [
    "infos_original  = infos.copy()\n",
    "items_original  = items.copy()  \n",
    "orders_original = orders.copy() "
   ]
  },
  {
   "cell_type": "code",
   "execution_count": 4,
   "metadata": {},
   "outputs": [
    {
     "data": {
      "text/plain": [
       "((10463, 3), (10463, 8), (2181955, 5))"
      ]
     },
     "execution_count": 4,
     "metadata": {},
     "output_type": "execute_result"
    }
   ],
   "source": [
    "infos.shape, items.shape, orders.shape"
   ]
  },
  {
   "cell_type": "code",
   "execution_count": 5,
   "metadata": {},
   "outputs": [
    {
     "data": {
      "text/plain": [
       "(['itemID', 'simulationPrice', 'promotion'],\n",
       " ['itemID',\n",
       "  'brand',\n",
       "  'manufacturer',\n",
       "  'customerRating',\n",
       "  'category1',\n",
       "  'category2',\n",
       "  'category3',\n",
       "  'recommendedRetailPrice'],\n",
       " ['time', 'transactID', 'itemID', 'order', 'salesPrice'])"
      ]
     },
     "execution_count": 5,
     "metadata": {},
     "output_type": "execute_result"
    }
   ],
   "source": [
    "list(infos.columns), list(items.columns), list(orders.columns)"
   ]
  },
  {
   "cell_type": "code",
   "execution_count": 6,
   "metadata": {},
   "outputs": [
    {
     "name": "stdout",
     "output_type": "stream",
     "text": [
      "<class 'pandas.core.frame.DataFrame'>\n",
      "RangeIndex: 10463 entries, 0 to 10462\n",
      "Data columns (total 3 columns):\n",
      " #   Column           Non-Null Count  Dtype  \n",
      "---  ------           --------------  -----  \n",
      " 0   itemID           10463 non-null  int64  \n",
      " 1   simulationPrice  10463 non-null  float64\n",
      " 2   promotion        1843 non-null   object \n",
      "dtypes: float64(1), int64(1), object(1)\n",
      "memory usage: 245.4+ KB\n"
     ]
    }
   ],
   "source": [
    "infos.info()"
   ]
  },
  {
   "cell_type": "code",
   "execution_count": 7,
   "metadata": {},
   "outputs": [
    {
     "name": "stdout",
     "output_type": "stream",
     "text": [
      "<class 'pandas.core.frame.DataFrame'>\n",
      "RangeIndex: 10463 entries, 0 to 10462\n",
      "Data columns (total 8 columns):\n",
      " #   Column                  Non-Null Count  Dtype  \n",
      "---  ------                  --------------  -----  \n",
      " 0   itemID                  10463 non-null  int64  \n",
      " 1   brand                   10463 non-null  int64  \n",
      " 2   manufacturer            10463 non-null  int64  \n",
      " 3   customerRating          10463 non-null  float64\n",
      " 4   category1               10463 non-null  int64  \n",
      " 5   category2               10463 non-null  int64  \n",
      " 6   category3               10463 non-null  int64  \n",
      " 7   recommendedRetailPrice  10463 non-null  float64\n",
      "dtypes: float64(2), int64(6)\n",
      "memory usage: 654.1 KB\n"
     ]
    }
   ],
   "source": [
    "items.info()"
   ]
  },
  {
   "cell_type": "code",
   "execution_count": 8,
   "metadata": {},
   "outputs": [
    {
     "name": "stdout",
     "output_type": "stream",
     "text": [
      "<class 'pandas.core.frame.DataFrame'>\n",
      "RangeIndex: 2181955 entries, 0 to 2181954\n",
      "Data columns (total 5 columns):\n",
      " #   Column      Dtype  \n",
      "---  ------      -----  \n",
      " 0   time        object \n",
      " 1   transactID  int64  \n",
      " 2   itemID      int64  \n",
      " 3   order       int64  \n",
      " 4   salesPrice  float64\n",
      "dtypes: float64(1), int64(3), object(1)\n",
      "memory usage: 83.2+ MB\n"
     ]
    }
   ],
   "source": [
    "orders.info()"
   ]
  },
  {
   "cell_type": "code",
   "execution_count": 23,
   "metadata": {},
   "outputs": [
    {
     "data": {
      "text/plain": [
       "time          0\n",
       "transactID    0\n",
       "itemID        0\n",
       "order         0\n",
       "salesPrice    0\n",
       "dtype: int64"
      ]
     },
     "execution_count": 23,
     "metadata": {},
     "output_type": "execute_result"
    }
   ],
   "source": [
    "orders.isnull().sum()"
   ]
  },
  {
   "cell_type": "code",
   "execution_count": 9,
   "metadata": {},
   "outputs": [
    {
     "data": {
      "text/html": [
       "<div>\n",
       "<style scoped>\n",
       "    .dataframe tbody tr th:only-of-type {\n",
       "        vertical-align: middle;\n",
       "    }\n",
       "\n",
       "    .dataframe tbody tr th {\n",
       "        vertical-align: top;\n",
       "    }\n",
       "\n",
       "    .dataframe thead th {\n",
       "        text-align: right;\n",
       "    }\n",
       "</style>\n",
       "<table border=\"1\" class=\"dataframe\">\n",
       "  <thead>\n",
       "    <tr style=\"text-align: right;\">\n",
       "      <th></th>\n",
       "      <th>itemID</th>\n",
       "      <th>simulationPrice</th>\n",
       "      <th>promotion</th>\n",
       "    </tr>\n",
       "  </thead>\n",
       "  <tbody>\n",
       "    <tr>\n",
       "      <th>0</th>\n",
       "      <td>1</td>\n",
       "      <td>3.43</td>\n",
       "      <td>NaN</td>\n",
       "    </tr>\n",
       "    <tr>\n",
       "      <th>1</th>\n",
       "      <td>2</td>\n",
       "      <td>9.15</td>\n",
       "      <td>NaN</td>\n",
       "    </tr>\n",
       "    <tr>\n",
       "      <th>2</th>\n",
       "      <td>3</td>\n",
       "      <td>14.04</td>\n",
       "      <td>NaN</td>\n",
       "    </tr>\n",
       "    <tr>\n",
       "      <th>3</th>\n",
       "      <td>4</td>\n",
       "      <td>14.10</td>\n",
       "      <td>NaN</td>\n",
       "    </tr>\n",
       "    <tr>\n",
       "      <th>4</th>\n",
       "      <td>5</td>\n",
       "      <td>7.48</td>\n",
       "      <td>NaN</td>\n",
       "    </tr>\n",
       "  </tbody>\n",
       "</table>\n",
       "</div>"
      ],
      "text/plain": [
       "   itemID  simulationPrice promotion\n",
       "0       1             3.43       NaN\n",
       "1       2             9.15       NaN\n",
       "2       3            14.04       NaN\n",
       "3       4            14.10       NaN\n",
       "4       5             7.48       NaN"
      ]
     },
     "execution_count": 9,
     "metadata": {},
     "output_type": "execute_result"
    }
   ],
   "source": [
    "infos.head()"
   ]
  },
  {
   "cell_type": "code",
   "execution_count": 10,
   "metadata": {},
   "outputs": [
    {
     "data": {
      "text/html": [
       "<div>\n",
       "<style scoped>\n",
       "    .dataframe tbody tr th:only-of-type {\n",
       "        vertical-align: middle;\n",
       "    }\n",
       "\n",
       "    .dataframe tbody tr th {\n",
       "        vertical-align: top;\n",
       "    }\n",
       "\n",
       "    .dataframe thead th {\n",
       "        text-align: right;\n",
       "    }\n",
       "</style>\n",
       "<table border=\"1\" class=\"dataframe\">\n",
       "  <thead>\n",
       "    <tr style=\"text-align: right;\">\n",
       "      <th></th>\n",
       "      <th>itemID</th>\n",
       "      <th>brand</th>\n",
       "      <th>manufacturer</th>\n",
       "      <th>customerRating</th>\n",
       "      <th>category1</th>\n",
       "      <th>category2</th>\n",
       "      <th>category3</th>\n",
       "      <th>recommendedRetailPrice</th>\n",
       "    </tr>\n",
       "  </thead>\n",
       "  <tbody>\n",
       "    <tr>\n",
       "      <th>0</th>\n",
       "      <td>1</td>\n",
       "      <td>0</td>\n",
       "      <td>1</td>\n",
       "      <td>4.38</td>\n",
       "      <td>1</td>\n",
       "      <td>1</td>\n",
       "      <td>1</td>\n",
       "      <td>8.84</td>\n",
       "    </tr>\n",
       "    <tr>\n",
       "      <th>1</th>\n",
       "      <td>2</td>\n",
       "      <td>0</td>\n",
       "      <td>2</td>\n",
       "      <td>3.00</td>\n",
       "      <td>1</td>\n",
       "      <td>2</td>\n",
       "      <td>1</td>\n",
       "      <td>16.92</td>\n",
       "    </tr>\n",
       "    <tr>\n",
       "      <th>2</th>\n",
       "      <td>3</td>\n",
       "      <td>0</td>\n",
       "      <td>3</td>\n",
       "      <td>5.00</td>\n",
       "      <td>1</td>\n",
       "      <td>3</td>\n",
       "      <td>1</td>\n",
       "      <td>15.89</td>\n",
       "    </tr>\n",
       "    <tr>\n",
       "      <th>3</th>\n",
       "      <td>4</td>\n",
       "      <td>0</td>\n",
       "      <td>2</td>\n",
       "      <td>4.44</td>\n",
       "      <td>1</td>\n",
       "      <td>2</td>\n",
       "      <td>1</td>\n",
       "      <td>40.17</td>\n",
       "    </tr>\n",
       "    <tr>\n",
       "      <th>4</th>\n",
       "      <td>5</td>\n",
       "      <td>0</td>\n",
       "      <td>2</td>\n",
       "      <td>2.33</td>\n",
       "      <td>1</td>\n",
       "      <td>1</td>\n",
       "      <td>1</td>\n",
       "      <td>17.04</td>\n",
       "    </tr>\n",
       "  </tbody>\n",
       "</table>\n",
       "</div>"
      ],
      "text/plain": [
       "   itemID  brand  manufacturer  customerRating  category1  category2  \\\n",
       "0       1      0             1            4.38          1          1   \n",
       "1       2      0             2            3.00          1          2   \n",
       "2       3      0             3            5.00          1          3   \n",
       "3       4      0             2            4.44          1          2   \n",
       "4       5      0             2            2.33          1          1   \n",
       "\n",
       "   category3  recommendedRetailPrice  \n",
       "0          1                    8.84  \n",
       "1          1                   16.92  \n",
       "2          1                   15.89  \n",
       "3          1                   40.17  \n",
       "4          1                   17.04  "
      ]
     },
     "execution_count": 10,
     "metadata": {},
     "output_type": "execute_result"
    }
   ],
   "source": [
    "items.head()"
   ]
  },
  {
   "cell_type": "code",
   "execution_count": 11,
   "metadata": {},
   "outputs": [
    {
     "data": {
      "text/html": [
       "<div>\n",
       "<style scoped>\n",
       "    .dataframe tbody tr th:only-of-type {\n",
       "        vertical-align: middle;\n",
       "    }\n",
       "\n",
       "    .dataframe tbody tr th {\n",
       "        vertical-align: top;\n",
       "    }\n",
       "\n",
       "    .dataframe thead th {\n",
       "        text-align: right;\n",
       "    }\n",
       "</style>\n",
       "<table border=\"1\" class=\"dataframe\">\n",
       "  <thead>\n",
       "    <tr style=\"text-align: right;\">\n",
       "      <th></th>\n",
       "      <th>time</th>\n",
       "      <th>transactID</th>\n",
       "      <th>itemID</th>\n",
       "      <th>order</th>\n",
       "      <th>salesPrice</th>\n",
       "    </tr>\n",
       "  </thead>\n",
       "  <tbody>\n",
       "    <tr>\n",
       "      <th>0</th>\n",
       "      <td>2018-01-01 00:01:56</td>\n",
       "      <td>2278968</td>\n",
       "      <td>450</td>\n",
       "      <td>1</td>\n",
       "      <td>17.42</td>\n",
       "    </tr>\n",
       "    <tr>\n",
       "      <th>1</th>\n",
       "      <td>2018-01-01 00:01:56</td>\n",
       "      <td>2278968</td>\n",
       "      <td>83</td>\n",
       "      <td>1</td>\n",
       "      <td>5.19</td>\n",
       "    </tr>\n",
       "    <tr>\n",
       "      <th>2</th>\n",
       "      <td>2018-01-01 00:07:11</td>\n",
       "      <td>2255797</td>\n",
       "      <td>7851</td>\n",
       "      <td>2</td>\n",
       "      <td>20.47</td>\n",
       "    </tr>\n",
       "    <tr>\n",
       "      <th>3</th>\n",
       "      <td>2018-01-01 00:09:24</td>\n",
       "      <td>2278968</td>\n",
       "      <td>450</td>\n",
       "      <td>1</td>\n",
       "      <td>17.42</td>\n",
       "    </tr>\n",
       "    <tr>\n",
       "      <th>4</th>\n",
       "      <td>2018-01-01 00:09:24</td>\n",
       "      <td>2278968</td>\n",
       "      <td>83</td>\n",
       "      <td>1</td>\n",
       "      <td>5.19</td>\n",
       "    </tr>\n",
       "  </tbody>\n",
       "</table>\n",
       "</div>"
      ],
      "text/plain": [
       "                  time  transactID  itemID  order  salesPrice\n",
       "0  2018-01-01 00:01:56     2278968     450      1       17.42\n",
       "1  2018-01-01 00:01:56     2278968      83      1        5.19\n",
       "2  2018-01-01 00:07:11     2255797    7851      2       20.47\n",
       "3  2018-01-01 00:09:24     2278968     450      1       17.42\n",
       "4  2018-01-01 00:09:24     2278968      83      1        5.19"
      ]
     },
     "execution_count": 11,
     "metadata": {},
     "output_type": "execute_result"
    }
   ],
   "source": [
    "orders.head()"
   ]
  },
  {
   "cell_type": "code",
   "execution_count": 13,
   "metadata": {},
   "outputs": [
    {
     "data": {
      "text/plain": [
       "10463"
      ]
     },
     "execution_count": 13,
     "metadata": {},
     "output_type": "execute_result"
    }
   ],
   "source": [
    "infos['itemID'].nunique()"
   ]
  },
  {
   "cell_type": "markdown",
   "metadata": {},
   "source": [
    "- Convert `time_orders` from object to datetime and save the modified `orders` dataset to home directory in pickle format (not in the original DMC-2020 folder). Do the same for the other datasets as well."
   ]
  },
  {
   "cell_type": "code",
   "execution_count": 54,
   "metadata": {},
   "outputs": [],
   "source": [
    "orders['time'] = pd.to_datetime(orders['time'], infer_datetime_format = True)"
   ]
  },
  {
   "cell_type": "code",
   "execution_count": 57,
   "metadata": {},
   "outputs": [
    {
     "name": "stdout",
     "output_type": "stream",
     "text": [
      "<class 'pandas.core.frame.DataFrame'>\n",
      "RangeIndex: 2181955 entries, 0 to 2181954\n",
      "Data columns (total 5 columns):\n",
      " #   Column      Dtype         \n",
      "---  ------      -----         \n",
      " 0   time        datetime64[ns]\n",
      " 1   transactID  int64         \n",
      " 2   itemID      int64         \n",
      " 3   order       int64         \n",
      " 4   salesPrice  float64       \n",
      "dtypes: datetime64[ns](1), float64(1), int64(3)\n",
      "memory usage: 83.2 MB\n"
     ]
    }
   ],
   "source": [
    "orders.info()"
   ]
  },
  {
   "cell_type": "code",
   "execution_count": 59,
   "metadata": {},
   "outputs": [],
   "source": [
    "infos.to_pickle('../DMC-2020-Task/infos.pkl')\n",
    "items.to_pickle('../DMC-2020-Task/items.pkl')\n",
    "orders.to_pickle('../DMC-2020-Task/orders.pkl')"
   ]
  },
  {
   "cell_type": "code",
   "execution_count": 5,
   "metadata": {},
   "outputs": [],
   "source": [
    "p1 = pd.read_csv('promo1.csv')"
   ]
  },
  {
   "cell_type": "code",
   "execution_count": 6,
   "metadata": {},
   "outputs": [
    {
     "name": "stdout",
     "output_type": "stream",
     "text": [
      "<class 'pandas.core.frame.DataFrame'>\n",
      "RangeIndex: 1653 entries, 0 to 1652\n",
      "Data columns (total 3 columns):\n",
      " #   Column           Non-Null Count  Dtype  \n",
      "---  ------           --------------  -----  \n",
      " 0   itemID           1653 non-null   int64  \n",
      " 1   simulationPrice  1653 non-null   float64\n",
      " 2   promotion        1653 non-null   object \n",
      "dtypes: float64(1), int64(1), object(1)\n",
      "memory usage: 38.9+ KB\n"
     ]
    }
   ],
   "source": [
    "p1.info()"
   ]
  },
  {
   "cell_type": "code",
   "execution_count": 4,
   "metadata": {},
   "outputs": [
    {
     "data": {
      "text/html": [
       "<div>\n",
       "<style scoped>\n",
       "    .dataframe tbody tr th:only-of-type {\n",
       "        vertical-align: middle;\n",
       "    }\n",
       "\n",
       "    .dataframe tbody tr th {\n",
       "        vertical-align: top;\n",
       "    }\n",
       "\n",
       "    .dataframe thead th {\n",
       "        text-align: right;\n",
       "    }\n",
       "</style>\n",
       "<table border=\"1\" class=\"dataframe\">\n",
       "  <thead>\n",
       "    <tr style=\"text-align: right;\">\n",
       "      <th></th>\n",
       "      <th>itemID</th>\n",
       "      <th>simulationPrice</th>\n",
       "      <th>promotion</th>\n",
       "    </tr>\n",
       "  </thead>\n",
       "  <tbody>\n",
       "    <tr>\n",
       "      <th>0</th>\n",
       "      <td>1</td>\n",
       "      <td>3.43</td>\n",
       "      <td>NaN</td>\n",
       "    </tr>\n",
       "    <tr>\n",
       "      <th>1</th>\n",
       "      <td>2</td>\n",
       "      <td>9.15</td>\n",
       "      <td>NaN</td>\n",
       "    </tr>\n",
       "    <tr>\n",
       "      <th>2</th>\n",
       "      <td>3</td>\n",
       "      <td>14.04</td>\n",
       "      <td>NaN</td>\n",
       "    </tr>\n",
       "    <tr>\n",
       "      <th>3</th>\n",
       "      <td>4</td>\n",
       "      <td>14.10</td>\n",
       "      <td>NaN</td>\n",
       "    </tr>\n",
       "    <tr>\n",
       "      <th>4</th>\n",
       "      <td>5</td>\n",
       "      <td>7.48</td>\n",
       "      <td>NaN</td>\n",
       "    </tr>\n",
       "    <tr>\n",
       "      <th>...</th>\n",
       "      <td>...</td>\n",
       "      <td>...</td>\n",
       "      <td>...</td>\n",
       "    </tr>\n",
       "    <tr>\n",
       "      <th>10458</th>\n",
       "      <td>10459</td>\n",
       "      <td>14.71</td>\n",
       "      <td>NaN</td>\n",
       "    </tr>\n",
       "    <tr>\n",
       "      <th>10459</th>\n",
       "      <td>10460</td>\n",
       "      <td>325.67</td>\n",
       "      <td>NaN</td>\n",
       "    </tr>\n",
       "    <tr>\n",
       "      <th>10460</th>\n",
       "      <td>10461</td>\n",
       "      <td>190.53</td>\n",
       "      <td>NaN</td>\n",
       "    </tr>\n",
       "    <tr>\n",
       "      <th>10461</th>\n",
       "      <td>10462</td>\n",
       "      <td>304.30</td>\n",
       "      <td>NaN</td>\n",
       "    </tr>\n",
       "    <tr>\n",
       "      <th>10462</th>\n",
       "      <td>10463</td>\n",
       "      <td>282.16</td>\n",
       "      <td>NaN</td>\n",
       "    </tr>\n",
       "  </tbody>\n",
       "</table>\n",
       "<p>10463 rows × 3 columns</p>\n",
       "</div>"
      ],
      "text/plain": [
       "       itemID  simulationPrice promotion\n",
       "0           1             3.43       NaN\n",
       "1           2             9.15       NaN\n",
       "2           3            14.04       NaN\n",
       "3           4            14.10       NaN\n",
       "4           5             7.48       NaN\n",
       "...       ...              ...       ...\n",
       "10458   10459            14.71       NaN\n",
       "10459   10460           325.67       NaN\n",
       "10460   10461           190.53       NaN\n",
       "10461   10462           304.30       NaN\n",
       "10462   10463           282.16       NaN\n",
       "\n",
       "[10463 rows x 3 columns]"
      ]
     },
     "execution_count": 4,
     "metadata": {},
     "output_type": "execute_result"
    }
   ],
   "source": [
    "pd.read_pickle('infos.pkl')"
   ]
  },
  {
   "cell_type": "code",
   "execution_count": null,
   "metadata": {},
   "outputs": [],
   "source": []
  }
 ],
 "metadata": {
  "kernelspec": {
   "display_name": "Python 3.7.5 64-bit ('nlp_course': conda)",
   "language": "python",
   "name": "python37564bitnlpcourseconda86a5b05d218b4c1395806f05482c8d94"
  },
  "language_info": {
   "codemirror_mode": {
    "name": "ipython",
    "version": 3
   },
   "file_extension": ".py",
   "mimetype": "text/x-python",
   "name": "python",
   "nbconvert_exporter": "python",
   "pygments_lexer": "ipython3",
   "version": "3.7.5"
  }
 },
 "nbformat": 4,
 "nbformat_minor": 2
}
