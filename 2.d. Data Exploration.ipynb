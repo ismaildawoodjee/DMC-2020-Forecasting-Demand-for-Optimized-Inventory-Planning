{
 "cells": [
  {
   "cell_type": "markdown",
   "metadata": {},
   "source": [
    "### Findings\n",
    "\n",
    "- There are **757904** unique orders over the 6 month period from 01-Jan-2016 to 30-June-2016.\n",
    "\n",
    "\n",
    "- Simultaneous orders (at the same time) can be made by different customers at the same exact second of time.\n",
    "\n",
    "\n",
    "- Out of 10463 items, **623** products remained unsold over the 6 month period. That doesn't mean they will not get purchased in the upcoming 2 weeks.\n",
    "\n",
    "\n",
    "- Up to 100 units (also 20, 30 and 60 units) of a single product was purchased.\n",
    "\n",
    "\n",
    "- The two most popular items, Item 5035 and 7789 had over 10000 units purchased.\n",
    "\n",
    "\n",
    "### Tasks\n",
    "\n",
    "\n",
    "- Completed univariate exploration of the `orders` dataset, although not in depth.\n",
    "\n",
    "\n",
    "- Determined all the scenarios of customer purchases that can be observed in the `orders` dataset.\n",
    "\n",
    "\n",
    "**Ismail Dawoodjee | 8:42 PM 04-June-2020**"
   ]
  },
  {
   "cell_type": "markdown",
   "metadata": {},
   "source": [
    "# Data Exploration Part 4\n",
    "\n",
    "This notebook will explore the third and final dataset called `orders`."
   ]
  },
  {
   "cell_type": "code",
   "execution_count": 1,
   "metadata": {},
   "outputs": [],
   "source": [
    "import numpy as np\n",
    "import pandas as pd\n",
    "import seaborn as sns\n",
    "import matplotlib.pyplot as plt\n",
    "%matplotlib inline\n",
    "sns.set(style = 'whitegrid')"
   ]
  },
  {
   "cell_type": "code",
   "execution_count": 2,
   "metadata": {},
   "outputs": [],
   "source": [
    "orders = pd.read_pickle('orders.pkl')"
   ]
  },
  {
   "cell_type": "code",
   "execution_count": 4,
   "metadata": {},
   "outputs": [
    {
     "data": {
      "text/plain": [
       "(2181955, 5)"
      ]
     },
     "execution_count": 4,
     "metadata": {},
     "output_type": "execute_result"
    }
   ],
   "source": [
    "orders.shape"
   ]
  },
  {
   "cell_type": "code",
   "execution_count": 5,
   "metadata": {},
   "outputs": [
    {
     "data": {
      "text/plain": [
       "Index(['time', 'transactID', 'itemID', 'order', 'salesPrice'], dtype='object')"
      ]
     },
     "execution_count": 5,
     "metadata": {},
     "output_type": "execute_result"
    }
   ],
   "source": [
    "orders.columns"
   ]
  },
  {
   "cell_type": "code",
   "execution_count": 6,
   "metadata": {},
   "outputs": [
    {
     "name": "stdout",
     "output_type": "stream",
     "text": [
      "<class 'pandas.core.frame.DataFrame'>\n",
      "RangeIndex: 2181955 entries, 0 to 2181954\n",
      "Data columns (total 5 columns):\n",
      " #   Column      Dtype         \n",
      "---  ------      -----         \n",
      " 0   time        datetime64[ns]\n",
      " 1   transactID  int64         \n",
      " 2   itemID      int64         \n",
      " 3   order       int64         \n",
      " 4   salesPrice  float64       \n",
      "dtypes: datetime64[ns](1), float64(1), int64(3)\n",
      "memory usage: 83.2 MB\n"
     ]
    }
   ],
   "source": [
    "orders.info()"
   ]
  },
  {
   "cell_type": "code",
   "execution_count": 7,
   "metadata": {},
   "outputs": [
    {
     "data": {
      "text/html": [
       "<div>\n",
       "<style scoped>\n",
       "    .dataframe tbody tr th:only-of-type {\n",
       "        vertical-align: middle;\n",
       "    }\n",
       "\n",
       "    .dataframe tbody tr th {\n",
       "        vertical-align: top;\n",
       "    }\n",
       "\n",
       "    .dataframe thead th {\n",
       "        text-align: right;\n",
       "    }\n",
       "</style>\n",
       "<table border=\"1\" class=\"dataframe\">\n",
       "  <thead>\n",
       "    <tr style=\"text-align: right;\">\n",
       "      <th></th>\n",
       "      <th>transactID</th>\n",
       "      <th>itemID</th>\n",
       "      <th>order</th>\n",
       "      <th>salesPrice</th>\n",
       "    </tr>\n",
       "  </thead>\n",
       "  <tbody>\n",
       "    <tr>\n",
       "      <th>count</th>\n",
       "      <td>2.181955e+06</td>\n",
       "      <td>2.181955e+06</td>\n",
       "      <td>2.181955e+06</td>\n",
       "      <td>2.181955e+06</td>\n",
       "    </tr>\n",
       "    <tr>\n",
       "      <th>mean</th>\n",
       "      <td>1.073262e+06</td>\n",
       "      <td>5.247717e+03</td>\n",
       "      <td>1.244553e+00</td>\n",
       "      <td>3.668124e+01</td>\n",
       "    </tr>\n",
       "    <tr>\n",
       "      <th>std</th>\n",
       "      <td>6.312578e+05</td>\n",
       "      <td>2.454623e+03</td>\n",
       "      <td>6.665127e-01</td>\n",
       "      <td>1.261080e+02</td>\n",
       "    </tr>\n",
       "    <tr>\n",
       "      <th>min</th>\n",
       "      <td>1.000000e+00</td>\n",
       "      <td>1.000000e+00</td>\n",
       "      <td>1.000000e+00</td>\n",
       "      <td>0.000000e+00</td>\n",
       "    </tr>\n",
       "    <tr>\n",
       "      <th>25%</th>\n",
       "      <td>5.313775e+05</td>\n",
       "      <td>3.605000e+03</td>\n",
       "      <td>1.000000e+00</td>\n",
       "      <td>7.120000e+00</td>\n",
       "    </tr>\n",
       "    <tr>\n",
       "      <th>50%</th>\n",
       "      <td>1.065659e+06</td>\n",
       "      <td>5.200000e+03</td>\n",
       "      <td>1.000000e+00</td>\n",
       "      <td>1.668000e+01</td>\n",
       "    </tr>\n",
       "    <tr>\n",
       "      <th>75%</th>\n",
       "      <td>1.600670e+06</td>\n",
       "      <td>7.314000e+03</td>\n",
       "      <td>1.000000e+00</td>\n",
       "      <td>3.462000e+01</td>\n",
       "    </tr>\n",
       "    <tr>\n",
       "      <th>max</th>\n",
       "      <td>2.294042e+06</td>\n",
       "      <td>1.046300e+04</td>\n",
       "      <td>1.000000e+02</td>\n",
       "      <td>9.387020e+03</td>\n",
       "    </tr>\n",
       "  </tbody>\n",
       "</table>\n",
       "</div>"
      ],
      "text/plain": [
       "         transactID        itemID         order    salesPrice\n",
       "count  2.181955e+06  2.181955e+06  2.181955e+06  2.181955e+06\n",
       "mean   1.073262e+06  5.247717e+03  1.244553e+00  3.668124e+01\n",
       "std    6.312578e+05  2.454623e+03  6.665127e-01  1.261080e+02\n",
       "min    1.000000e+00  1.000000e+00  1.000000e+00  0.000000e+00\n",
       "25%    5.313775e+05  3.605000e+03  1.000000e+00  7.120000e+00\n",
       "50%    1.065659e+06  5.200000e+03  1.000000e+00  1.668000e+01\n",
       "75%    1.600670e+06  7.314000e+03  1.000000e+00  3.462000e+01\n",
       "max    2.294042e+06  1.046300e+04  1.000000e+02  9.387020e+03"
      ]
     },
     "execution_count": 7,
     "metadata": {},
     "output_type": "execute_result"
    }
   ],
   "source": [
    "orders.describe()"
   ]
  },
  {
   "cell_type": "code",
   "execution_count": 20,
   "metadata": {},
   "outputs": [
    {
     "data": {
      "text/html": [
       "<div>\n",
       "<style scoped>\n",
       "    .dataframe tbody tr th:only-of-type {\n",
       "        vertical-align: middle;\n",
       "    }\n",
       "\n",
       "    .dataframe tbody tr th {\n",
       "        vertical-align: top;\n",
       "    }\n",
       "\n",
       "    .dataframe thead th {\n",
       "        text-align: right;\n",
       "    }\n",
       "</style>\n",
       "<table border=\"1\" class=\"dataframe\">\n",
       "  <thead>\n",
       "    <tr style=\"text-align: right;\">\n",
       "      <th></th>\n",
       "      <th>time</th>\n",
       "      <th>transactID</th>\n",
       "      <th>itemID</th>\n",
       "      <th>order</th>\n",
       "      <th>salesPrice</th>\n",
       "    </tr>\n",
       "  </thead>\n",
       "  <tbody>\n",
       "    <tr>\n",
       "      <th>0</th>\n",
       "      <td>2018-01-01 00:01:56</td>\n",
       "      <td>2278968</td>\n",
       "      <td>450</td>\n",
       "      <td>1</td>\n",
       "      <td>17.42</td>\n",
       "    </tr>\n",
       "    <tr>\n",
       "      <th>1</th>\n",
       "      <td>2018-01-01 00:01:56</td>\n",
       "      <td>2278968</td>\n",
       "      <td>83</td>\n",
       "      <td>1</td>\n",
       "      <td>5.19</td>\n",
       "    </tr>\n",
       "    <tr>\n",
       "      <th>2</th>\n",
       "      <td>2018-01-01 00:07:11</td>\n",
       "      <td>2255797</td>\n",
       "      <td>7851</td>\n",
       "      <td>2</td>\n",
       "      <td>20.47</td>\n",
       "    </tr>\n",
       "    <tr>\n",
       "      <th>3</th>\n",
       "      <td>2018-01-01 00:09:24</td>\n",
       "      <td>2278968</td>\n",
       "      <td>450</td>\n",
       "      <td>1</td>\n",
       "      <td>17.42</td>\n",
       "    </tr>\n",
       "    <tr>\n",
       "      <th>4</th>\n",
       "      <td>2018-01-01 00:09:24</td>\n",
       "      <td>2278968</td>\n",
       "      <td>83</td>\n",
       "      <td>1</td>\n",
       "      <td>5.19</td>\n",
       "    </tr>\n",
       "    <tr>\n",
       "      <th>...</th>\n",
       "      <td>...</td>\n",
       "      <td>...</td>\n",
       "      <td>...</td>\n",
       "      <td>...</td>\n",
       "      <td>...</td>\n",
       "    </tr>\n",
       "    <tr>\n",
       "      <th>2181950</th>\n",
       "      <td>2018-06-29 23:54:22</td>\n",
       "      <td>2040347</td>\n",
       "      <td>9217</td>\n",
       "      <td>1</td>\n",
       "      <td>23.50</td>\n",
       "    </tr>\n",
       "    <tr>\n",
       "      <th>2181951</th>\n",
       "      <td>2018-06-29 23:55:09</td>\n",
       "      <td>2260943</td>\n",
       "      <td>2175</td>\n",
       "      <td>1</td>\n",
       "      <td>11.60</td>\n",
       "    </tr>\n",
       "    <tr>\n",
       "      <th>2181952</th>\n",
       "      <td>2018-06-29 23:55:09</td>\n",
       "      <td>2260943</td>\n",
       "      <td>2061</td>\n",
       "      <td>1</td>\n",
       "      <td>1.03</td>\n",
       "    </tr>\n",
       "    <tr>\n",
       "      <th>2181953</th>\n",
       "      <td>2018-06-29 23:55:09</td>\n",
       "      <td>2260943</td>\n",
       "      <td>2195</td>\n",
       "      <td>1</td>\n",
       "      <td>18.73</td>\n",
       "    </tr>\n",
       "    <tr>\n",
       "      <th>2181954</th>\n",
       "      <td>2018-06-29 23:57:01</td>\n",
       "      <td>2525</td>\n",
       "      <td>8462</td>\n",
       "      <td>1</td>\n",
       "      <td>18.93</td>\n",
       "    </tr>\n",
       "  </tbody>\n",
       "</table>\n",
       "<p>2181955 rows × 5 columns</p>\n",
       "</div>"
      ],
      "text/plain": [
       "                       time  transactID  itemID  order  salesPrice\n",
       "0       2018-01-01 00:01:56     2278968     450      1       17.42\n",
       "1       2018-01-01 00:01:56     2278968      83      1        5.19\n",
       "2       2018-01-01 00:07:11     2255797    7851      2       20.47\n",
       "3       2018-01-01 00:09:24     2278968     450      1       17.42\n",
       "4       2018-01-01 00:09:24     2278968      83      1        5.19\n",
       "...                     ...         ...     ...    ...         ...\n",
       "2181950 2018-06-29 23:54:22     2040347    9217      1       23.50\n",
       "2181951 2018-06-29 23:55:09     2260943    2175      1       11.60\n",
       "2181952 2018-06-29 23:55:09     2260943    2061      1        1.03\n",
       "2181953 2018-06-29 23:55:09     2260943    2195      1       18.73\n",
       "2181954 2018-06-29 23:57:01        2525    8462      1       18.93\n",
       "\n",
       "[2181955 rows x 5 columns]"
      ]
     },
     "execution_count": 20,
     "metadata": {},
     "output_type": "execute_result"
    }
   ],
   "source": [
    "orders"
   ]
  },
  {
   "cell_type": "markdown",
   "metadata": {},
   "source": [
    "### Variable `time`\n",
    "\n",
    "The variable `time` indicates the exact time stamp of a product purchase."
   ]
  },
  {
   "cell_type": "code",
   "execution_count": 14,
   "metadata": {},
   "outputs": [
    {
     "data": {
      "text/plain": [
       "Timedelta('179 days 23:55:05')"
      ]
     },
     "execution_count": 14,
     "metadata": {},
     "output_type": "execute_result"
    }
   ],
   "source": [
    "orders.iloc[-1,0] - orders.iloc[0,0]"
   ]
  },
  {
   "cell_type": "code",
   "execution_count": 27,
   "metadata": {},
   "outputs": [
    {
     "data": {
      "text/plain": [
       "757904"
      ]
     },
     "execution_count": 27,
     "metadata": {},
     "output_type": "execute_result"
    }
   ],
   "source": [
    "orders['time'].nunique()"
   ]
  },
  {
   "cell_type": "markdown",
   "metadata": {},
   "source": [
    "- There are 757904 unique orders over a period of 6 months, starting from 01-Jan-2018 to 29-Jun-2018."
   ]
  },
  {
   "cell_type": "markdown",
   "metadata": {},
   "source": [
    "### Variable `transactID`\n",
    "\n",
    "The variable `transactID` is a transaction ID number to track the orders of different products by a single customer in a single shopping session. For example, a customer can purchase and order products at 4 pm, and then again at 4:15 pm without logging out (e.g. by pressing the \"continue shopping\" button after making the 4 pm order). The two orders will have different timestamps but the same transaction ID. However, multiple customers can make orders at the same time, resulting in different transaction IDs in the same timestamp. All 8 possible scenarios are outlined below, according to my own understanding:\n",
    "\n",
    "\n",
    "- Same time, same transactID, same itemID: single order by a single customer purchasing multiple of the same item (order number > 1)\n",
    "- Same time, same transactID, diff itemID__: single order by a single customer purchasing multiple items\n",
    "- Same time, diff transactID, same itemID__: multiple customers ordering the same item at the same time\n",
    "- Same time, diff transactID, diff itemID____: multiple customers ordering different items at the same time\n",
    "- Diff time, same transactID, same itemID__: multiple orders (at different times) by a single customer purchasing the same item without logging out.\n",
    "- Diff time, same transactID, diff itemID____: multiple orders (at different times) by a single customer purchasing different items\n",
    "- Diff time, diff transactID, same itemID____: multiple customers making their own orders of the same item (or) returning/same customer ordering the same item again at different times after logging out.\n",
    "- Diff time, diff transactID, diff itemID______: multiple customers making their own orders of different items before and after logging out (or) returning/same customer ordering a different item after logging out\n",
    "\n",
    "The uniqueness of customers cannot be determined clearly unless in the case of Scenarios 2 and 3."
   ]
  },
  {
   "cell_type": "code",
   "execution_count": 26,
   "metadata": {},
   "outputs": [
    {
     "data": {
      "text/plain": [
       "2076066"
      ]
     },
     "execution_count": 26,
     "metadata": {},
     "output_type": "execute_result"
    }
   ],
   "source": [
    "orders['transactID'].nunique()"
   ]
  },
  {
   "cell_type": "code",
   "execution_count": 6,
   "metadata": {},
   "outputs": [],
   "source": [
    "uniq_times = orders.groupby(by = 'time').nunique()"
   ]
  },
  {
   "cell_type": "code",
   "execution_count": 9,
   "metadata": {},
   "outputs": [
    {
     "data": {
      "text/html": [
       "<div>\n",
       "<style scoped>\n",
       "    .dataframe tbody tr th:only-of-type {\n",
       "        vertical-align: middle;\n",
       "    }\n",
       "\n",
       "    .dataframe tbody tr th {\n",
       "        vertical-align: top;\n",
       "    }\n",
       "\n",
       "    .dataframe thead th {\n",
       "        text-align: right;\n",
       "    }\n",
       "</style>\n",
       "<table border=\"1\" class=\"dataframe\">\n",
       "  <thead>\n",
       "    <tr style=\"text-align: right;\">\n",
       "      <th></th>\n",
       "      <th>time</th>\n",
       "      <th>transactID</th>\n",
       "      <th>itemID</th>\n",
       "      <th>order</th>\n",
       "      <th>salesPrice</th>\n",
       "    </tr>\n",
       "    <tr>\n",
       "      <th>time</th>\n",
       "      <th></th>\n",
       "      <th></th>\n",
       "      <th></th>\n",
       "      <th></th>\n",
       "      <th></th>\n",
       "    </tr>\n",
       "  </thead>\n",
       "  <tbody>\n",
       "    <tr>\n",
       "      <th>2018-01-01 00:01:56</th>\n",
       "      <td>1</td>\n",
       "      <td>1</td>\n",
       "      <td>2</td>\n",
       "      <td>1</td>\n",
       "      <td>2</td>\n",
       "    </tr>\n",
       "    <tr>\n",
       "      <th>2018-01-01 00:07:11</th>\n",
       "      <td>1</td>\n",
       "      <td>1</td>\n",
       "      <td>1</td>\n",
       "      <td>1</td>\n",
       "      <td>1</td>\n",
       "    </tr>\n",
       "    <tr>\n",
       "      <th>2018-01-01 00:09:24</th>\n",
       "      <td>1</td>\n",
       "      <td>1</td>\n",
       "      <td>2</td>\n",
       "      <td>1</td>\n",
       "      <td>2</td>\n",
       "    </tr>\n",
       "    <tr>\n",
       "      <th>2018-01-01 00:39:26</th>\n",
       "      <td>1</td>\n",
       "      <td>1</td>\n",
       "      <td>1</td>\n",
       "      <td>1</td>\n",
       "      <td>1</td>\n",
       "    </tr>\n",
       "    <tr>\n",
       "      <th>2018-01-01 00:51:59</th>\n",
       "      <td>1</td>\n",
       "      <td>1</td>\n",
       "      <td>6</td>\n",
       "      <td>1</td>\n",
       "      <td>6</td>\n",
       "    </tr>\n",
       "    <tr>\n",
       "      <th>...</th>\n",
       "      <td>...</td>\n",
       "      <td>...</td>\n",
       "      <td>...</td>\n",
       "      <td>...</td>\n",
       "      <td>...</td>\n",
       "    </tr>\n",
       "    <tr>\n",
       "      <th>2018-06-29 23:54:20</th>\n",
       "      <td>1</td>\n",
       "      <td>4</td>\n",
       "      <td>1</td>\n",
       "      <td>1</td>\n",
       "      <td>1</td>\n",
       "    </tr>\n",
       "    <tr>\n",
       "      <th>2018-06-29 23:54:21</th>\n",
       "      <td>1</td>\n",
       "      <td>3</td>\n",
       "      <td>1</td>\n",
       "      <td>1</td>\n",
       "      <td>1</td>\n",
       "    </tr>\n",
       "    <tr>\n",
       "      <th>2018-06-29 23:54:22</th>\n",
       "      <td>1</td>\n",
       "      <td>2</td>\n",
       "      <td>1</td>\n",
       "      <td>1</td>\n",
       "      <td>1</td>\n",
       "    </tr>\n",
       "    <tr>\n",
       "      <th>2018-06-29 23:55:09</th>\n",
       "      <td>1</td>\n",
       "      <td>1</td>\n",
       "      <td>3</td>\n",
       "      <td>1</td>\n",
       "      <td>3</td>\n",
       "    </tr>\n",
       "    <tr>\n",
       "      <th>2018-06-29 23:57:01</th>\n",
       "      <td>1</td>\n",
       "      <td>1</td>\n",
       "      <td>1</td>\n",
       "      <td>1</td>\n",
       "      <td>1</td>\n",
       "    </tr>\n",
       "  </tbody>\n",
       "</table>\n",
       "<p>757904 rows × 5 columns</p>\n",
       "</div>"
      ],
      "text/plain": [
       "                     time  transactID  itemID  order  salesPrice\n",
       "time                                                            \n",
       "2018-01-01 00:01:56     1           1       2      1           2\n",
       "2018-01-01 00:07:11     1           1       1      1           1\n",
       "2018-01-01 00:09:24     1           1       2      1           2\n",
       "2018-01-01 00:39:26     1           1       1      1           1\n",
       "2018-01-01 00:51:59     1           1       6      1           6\n",
       "...                   ...         ...     ...    ...         ...\n",
       "2018-06-29 23:54:20     1           4       1      1           1\n",
       "2018-06-29 23:54:21     1           3       1      1           1\n",
       "2018-06-29 23:54:22     1           2       1      1           1\n",
       "2018-06-29 23:55:09     1           1       3      1           3\n",
       "2018-06-29 23:57:01     1           1       1      1           1\n",
       "\n",
       "[757904 rows x 5 columns]"
      ]
     },
     "execution_count": 9,
     "metadata": {},
     "output_type": "execute_result"
    }
   ],
   "source": [
    "uniq_times"
   ]
  },
  {
   "cell_type": "code",
   "execution_count": 8,
   "metadata": {},
   "outputs": [
    {
     "data": {
      "text/plain": [
       "3    437215\n",
       "4    118470\n",
       "2    108904\n",
       "1     91636\n",
       "5      1664\n",
       "6        15\n",
       "Name: transactID, dtype: int64"
      ]
     },
     "execution_count": 8,
     "metadata": {},
     "output_type": "execute_result"
    }
   ],
   "source": [
    "# number of customers making simultaneous orders (left column) and the frequency of occurrence (right column)\n",
    "uniq_times['transactID'].value_counts()"
   ]
  },
  {
   "cell_type": "markdown",
   "metadata": {},
   "source": [
    "- The above shows the number of different customers making orders at the same instance of time, and the frequency of this occurrence. \n",
    "- For example, 6 unique customers made simultaneous orders and this happened 15 times over the past 6 months."
   ]
  },
  {
   "cell_type": "markdown",
   "metadata": {},
   "source": [
    "### Variable `itemID`\n",
    "\n",
    "The variable `itemID` is a unique identifier for each product in the store. "
   ]
  },
  {
   "cell_type": "code",
   "execution_count": 13,
   "metadata": {},
   "outputs": [
    {
     "data": {
      "text/plain": [
       "9840"
      ]
     },
     "execution_count": 13,
     "metadata": {},
     "output_type": "execute_result"
    }
   ],
   "source": [
    "orders['itemID'].nunique()"
   ]
  },
  {
   "cell_type": "markdown",
   "metadata": {},
   "source": [
    "- Out of the 10463 unique products available at the store, **9840** products were purchased by customers and **623** products were unsold. \n",
    "- More exploration can be done here, to find the items that were sold/unsold, their ratings, prices and similarities of unsold items with sold ones. \n",
    "- Just because an item is unpurchased in the past 6 months doesn't mean it is not going to be sold in the next 2 weeks."
   ]
  },
  {
   "cell_type": "markdown",
   "metadata": {},
   "source": [
    "### Variable `order`\n",
    "\n",
    "The variable `order` is the number of sold units of a product in one transaction."
   ]
  },
  {
   "cell_type": "code",
   "execution_count": 21,
   "metadata": {},
   "outputs": [
    {
     "data": {
      "text/plain": [
       "21"
      ]
     },
     "execution_count": 21,
     "metadata": {},
     "output_type": "execute_result"
    }
   ],
   "source": [
    "orders['order'].nunique()"
   ]
  },
  {
   "cell_type": "code",
   "execution_count": 24,
   "metadata": {},
   "outputs": [
    {
     "data": {
      "text/plain": [
       "{1, 2, 3, 4, 5, 6, 7, 8, 9, 10, 11, 12, 13, 14, 15, 16, 18, 20, 30, 60, 100}"
      ]
     },
     "execution_count": 24,
     "metadata": {},
     "output_type": "execute_result"
    }
   ],
   "source": [
    "set(orders['order'])"
   ]
  },
  {
   "cell_type": "code",
   "execution_count": 25,
   "metadata": {},
   "outputs": [
    {
     "data": {
      "text/plain": [
       "1      1791146\n",
       "2       307746\n",
       "3        52928\n",
       "4        16846\n",
       "5         7491\n",
       "6         2578\n",
       "10        1735\n",
       "8          605\n",
       "7          433\n",
       "9          388\n",
       "15          30\n",
       "12           7\n",
       "11           6\n",
       "13           5\n",
       "60           4\n",
       "14           2\n",
       "16           1\n",
       "18           1\n",
       "20           1\n",
       "30           1\n",
       "100          1\n",
       "Name: order, dtype: int64"
      ]
     },
     "execution_count": 25,
     "metadata": {},
     "output_type": "execute_result"
    }
   ],
   "source": [
    "orders['order'].value_counts()"
   ]
  },
  {
   "cell_type": "code",
   "execution_count": 46,
   "metadata": {},
   "outputs": [
    {
     "data": {
      "text/plain": [
       "Text(0, 0.5, 'number of transactions')"
      ]
     },
     "execution_count": 46,
     "metadata": {},
     "output_type": "execute_result"
    },
    {
     "data": {
      "image/png": "[encoded data removed]",
      "text/plain": [
       "<Figure size 432x288 with 1 Axes>"
      ]
     },
     "metadata": {},
     "output_type": "display_data"
    }
   ],
   "source": [
    "sns.countplot(orders['order'])\n",
    "plt.yscale('log')\n",
    "plt.xlabel('number of units sold')\n",
    "plt.ylabel('number of transactions')"
   ]
  },
  {
   "cell_type": "markdown",
   "metadata": {},
   "source": [
    "- The value counts and the above plot by themselves does not tell us much about the number of items sold. \n",
    "- To see the popularity of items, aggregation has to be done first."
   ]
  },
  {
   "cell_type": "code",
   "execution_count": 34,
   "metadata": {},
   "outputs": [],
   "source": [
    "sum_items = orders.groupby(by = 'itemID').sum()"
   ]
  },
  {
   "cell_type": "code",
   "execution_count": 55,
   "metadata": {},
   "outputs": [
    {
     "data": {
      "text/html": [
       "<div>\n",
       "<style scoped>\n",
       "    .dataframe tbody tr th:only-of-type {\n",
       "        vertical-align: middle;\n",
       "    }\n",
       "\n",
       "    .dataframe tbody tr th {\n",
       "        vertical-align: top;\n",
       "    }\n",
       "\n",
       "    .dataframe thead th {\n",
       "        text-align: right;\n",
       "    }\n",
       "</style>\n",
       "<table border=\"1\" class=\"dataframe\">\n",
       "  <thead>\n",
       "    <tr style=\"text-align: right;\">\n",
       "      <th></th>\n",
       "      <th>transactID</th>\n",
       "      <th>order</th>\n",
       "      <th>salesPrice</th>\n",
       "    </tr>\n",
       "    <tr>\n",
       "      <th>itemID</th>\n",
       "      <th></th>\n",
       "      <th></th>\n",
       "      <th></th>\n",
       "    </tr>\n",
       "  </thead>\n",
       "  <tbody>\n",
       "    <tr>\n",
       "      <th>10463</th>\n",
       "      <td>2262034</td>\n",
       "      <td>1</td>\n",
       "      <td>282.16</td>\n",
       "    </tr>\n",
       "    <tr>\n",
       "      <th>9715</th>\n",
       "      <td>2270445</td>\n",
       "      <td>1</td>\n",
       "      <td>83.96</td>\n",
       "    </tr>\n",
       "    <tr>\n",
       "      <th>4821</th>\n",
       "      <td>2277621</td>\n",
       "      <td>1</td>\n",
       "      <td>33.69</td>\n",
       "    </tr>\n",
       "    <tr>\n",
       "      <th>4820</th>\n",
       "      <td>2275383</td>\n",
       "      <td>1</td>\n",
       "      <td>25.89</td>\n",
       "    </tr>\n",
       "    <tr>\n",
       "      <th>4819</th>\n",
       "      <td>2264359</td>\n",
       "      <td>1</td>\n",
       "      <td>22.48</td>\n",
       "    </tr>\n",
       "    <tr>\n",
       "      <th>...</th>\n",
       "      <td>...</td>\n",
       "      <td>...</td>\n",
       "      <td>...</td>\n",
       "    </tr>\n",
       "    <tr>\n",
       "      <th>5039</th>\n",
       "      <td>3187359915</td>\n",
       "      <td>8444</td>\n",
       "      <td>21543.41</td>\n",
       "    </tr>\n",
       "    <tr>\n",
       "      <th>4297</th>\n",
       "      <td>2353185494</td>\n",
       "      <td>8675</td>\n",
       "      <td>29062.80</td>\n",
       "    </tr>\n",
       "    <tr>\n",
       "      <th>5117</th>\n",
       "      <td>5845174608</td>\n",
       "      <td>9100</td>\n",
       "      <td>156487.53</td>\n",
       "    </tr>\n",
       "    <tr>\n",
       "      <th>5035</th>\n",
       "      <td>7656050606</td>\n",
       "      <td>11908</td>\n",
       "      <td>369170.19</td>\n",
       "    </tr>\n",
       "    <tr>\n",
       "      <th>7789</th>\n",
       "      <td>8431730760</td>\n",
       "      <td>12184</td>\n",
       "      <td>100413.99</td>\n",
       "    </tr>\n",
       "  </tbody>\n",
       "</table>\n",
       "<p>9840 rows × 3 columns</p>\n",
       "</div>"
      ],
      "text/plain": [
       "        transactID  order  salesPrice\n",
       "itemID                               \n",
       "10463      2262034      1      282.16\n",
       "9715       2270445      1       83.96\n",
       "4821       2277621      1       33.69\n",
       "4820       2275383      1       25.89\n",
       "4819       2264359      1       22.48\n",
       "...            ...    ...         ...\n",
       "5039    3187359915   8444    21543.41\n",
       "4297    2353185494   8675    29062.80\n",
       "5117    5845174608   9100   156487.53\n",
       "5035    7656050606  11908   369170.19\n",
       "7789    8431730760  12184   100413.99\n",
       "\n",
       "[9840 rows x 3 columns]"
      ]
     },
     "execution_count": 55,
     "metadata": {},
     "output_type": "execute_result"
    }
   ],
   "source": [
    "sum_items.sort_values(by = 'order')"
   ]
  },
  {
   "cell_type": "code",
   "execution_count": 58,
   "metadata": {},
   "outputs": [
    {
     "data": {
      "text/plain": [
       "Text(0, 0.5, 'number of items')"
      ]
     },
     "execution_count": 58,
     "metadata": {},
     "output_type": "execute_result"
    },
    {
     "data": {
      "image/png": "[encoded data removed]",
      "text/plain": [
       "<Figure size 432x288 with 1 Axes>"
      ]
     },
     "metadata": {},
     "output_type": "display_data"
    }
   ],
   "source": [
    "sns.distplot(sum_items['order'], kde = False, bins = 20, hist_kws = dict(edgecolor = \"k\"))\n",
    "plt.yscale('log')\n",
    "plt.xlabel('total number of orders')\n",
    "plt.ylabel('number of items')"
   ]
  },
  {
   "cell_type": "markdown",
   "metadata": {},
   "source": [
    "- Items 7789, 5035 and 5117 are the three most popular and bought products."
   ]
  },
  {
   "cell_type": "markdown",
   "metadata": {},
   "source": [
    "### Variable `salesPrice`\n",
    "\n",
    "The variable `salesPrice_orders` is the actual price point of a product at the time of buying. This is different from `recommendedRetailPrice_items`, which is the retail price recommended by the manufacturer and `simulationPrice_infos`, which is the price of a product in the simulation period (what is the simulation period?)."
   ]
  },
  {
   "cell_type": "code",
   "execution_count": 62,
   "metadata": {},
   "outputs": [
    {
     "data": {
      "text/plain": [
       "(0.0, 9387.02)"
      ]
     },
     "execution_count": 62,
     "metadata": {},
     "output_type": "execute_result"
    }
   ],
   "source": [
    "min(orders['salesPrice']), max(orders['salesPrice'])"
   ]
  },
  {
   "cell_type": "code",
   "execution_count": 67,
   "metadata": {},
   "outputs": [
    {
     "data": {
      "text/plain": [
       "(36.68, 126.11)"
      ]
     },
     "execution_count": 67,
     "metadata": {},
     "output_type": "execute_result"
    }
   ],
   "source": [
    "round(np.mean(orders['salesPrice']), 2), round(np.std(orders['salesPrice']), 2)"
   ]
  },
  {
   "cell_type": "code",
   "execution_count": 85,
   "metadata": {},
   "outputs": [
    {
     "data": {
      "text/plain": [
       "Text(0, 0.5, 'Frequency')"
      ]
     },
     "execution_count": 85,
     "metadata": {},
     "output_type": "execute_result"
    },
    {
     "data": {
      "image/png": "[encoded data removed]",
      "text/plain": [
       "<Figure size 432x288 with 1 Axes>"
      ]
     },
     "metadata": {},
     "output_type": "display_data"
    }
   ],
   "source": [
    "sns.distplot(orders['salesPrice'], kde = False, bins = 19, hist_kws = dict(edgecolor = \"k\"))\n",
    "plt.yscale('log')\n",
    "plt.ylabel('Frequency')"
   ]
  },
  {
   "cell_type": "code",
   "execution_count": null,
   "metadata": {},
   "outputs": [],
   "source": []
  }
 ],
 "metadata": {
  "kernelspec": {
   "display_name": "Python 3.7.5 64-bit ('nlp_course': conda)",
   "language": "python",
   "name": "python37564bitnlpcourseconda86a5b05d218b4c1395806f05482c8d94"
  },
  "language_info": {
   "codemirror_mode": {
    "name": "ipython",
    "version": 3
   },
   "file_extension": ".py",
   "mimetype": "text/x-python",
   "name": "python",
   "nbconvert_exporter": "python",
   "pygments_lexer": "ipython3",
   "version": "3.7.5"
  }
 },
 "nbformat": 4,
 "nbformat_minor": 2
}
