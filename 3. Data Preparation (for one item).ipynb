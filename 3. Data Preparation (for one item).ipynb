{
 "cells": [
  {
   "cell_type": "markdown",
   "metadata": {},
   "source": [
    "### Findings\n",
    "\n",
    "\n",
    "- Item 5117 was the third most popular item, and the first most popular one without a promotion date.\n",
    "\n",
    "\n",
    "- Item 5117 has a stable price, within the range 18-22 and its orders were mostly few quantities of 1-3.\n",
    "\n",
    "\n",
    "- Most purchases occurred during the hours from 9:00 to 22:00, on Days 9, 17 and 21, during the months Jan, March and May, and on Mondays, Tuesdays and Saturdays.\n",
    "\n",
    "\n",
    "- Spikes in demand were seen on specific days of the month, so daily resampled data should not be ignored when making forecasts.\n",
    "\n",
    "\n",
    "- Hence, daily, weekly and biweekly resampled data would be most appropriate to make forecasts on since daily resampling offers high resolution data while biweekly resampling offers a broader view.\n",
    "\n",
    "\n",
    "### Tasks\n",
    "\n",
    "\n",
    "- Item 5117 was chosen to be the product of study because there are no promotions for it.\n",
    "\n",
    "\n",
    "- Item 5117 was extracted from the `orders` dataset and its features were explored in detail with barplots.\n",
    "\n",
    "\n",
    "- `Hour`, `Day`, `Month` and `Day of Week` columns were added to the `item5117` dataset to explore the demand at different times.\n",
    "\n",
    "\n",
    "- The prepared dataset (with the added columns) was saved as a pickle file into the home directory.\n",
    "\n",
    "\n",
    "- Afterwards, the index was changed to the `time` column to make it a time series and the time dependency of Item 5117 demand was investigated by resampling data in terms of hourly, daily, weekly, biweekly and monthly data.\n",
    "\n",
    "\n",
    "**Ismail Dawoodjee | 12:25 PM 09-June-2020**"
   ]
  },
  {
   "cell_type": "markdown",
   "metadata": {},
   "source": [
    "# Data Preparation \n",
    "\n",
    "This notebook will document the process of extracting one particular product to make a forecast on and the preparation methods for doing that."
   ]
  },
  {
   "cell_type": "code",
   "execution_count": 28,
   "metadata": {},
   "outputs": [],
   "source": [
    "import numpy as np\n",
    "import pandas as pd\n",
    "import seaborn as sns\n",
    "import matplotlib.pyplot as plt\n",
    "%matplotlib inline\n",
    "sns.set(style = 'whitegrid')"
   ]
  },
  {
   "cell_type": "code",
   "execution_count": 2,
   "metadata": {},
   "outputs": [],
   "source": [
    "#from pandas import Series\n",
    "import datetime as dt"
   ]
  },
  {
   "cell_type": "code",
   "execution_count": 3,
   "metadata": {},
   "outputs": [],
   "source": [
    "infos = pd.read_pickle('infos.pkl')\n",
    "items = pd.read_pickle('items.pkl')\n",
    "orders = pd.read_pickle('orders.pkl')"
   ]
  },
  {
   "cell_type": "markdown",
   "metadata": {},
   "source": [
    "### Choosing an Item to Study"
   ]
  },
  {
   "cell_type": "code",
   "execution_count": 28,
   "metadata": {},
   "outputs": [
    {
     "data": {
      "text/html": [
       "<div>\n",
       "<style scoped>\n",
       "    .dataframe tbody tr th:only-of-type {\n",
       "        vertical-align: middle;\n",
       "    }\n",
       "\n",
       "    .dataframe tbody tr th {\n",
       "        vertical-align: top;\n",
       "    }\n",
       "\n",
       "    .dataframe thead th {\n",
       "        text-align: right;\n",
       "    }\n",
       "</style>\n",
       "<table border=\"1\" class=\"dataframe\">\n",
       "  <thead>\n",
       "    <tr style=\"text-align: right;\">\n",
       "      <th></th>\n",
       "      <th>transactID</th>\n",
       "      <th>order</th>\n",
       "      <th>salesPrice</th>\n",
       "    </tr>\n",
       "    <tr>\n",
       "      <th>itemID</th>\n",
       "      <th></th>\n",
       "      <th></th>\n",
       "      <th></th>\n",
       "    </tr>\n",
       "  </thead>\n",
       "  <tbody>\n",
       "    <tr>\n",
       "      <th>10463</th>\n",
       "      <td>2262034</td>\n",
       "      <td>1</td>\n",
       "      <td>282.16</td>\n",
       "    </tr>\n",
       "    <tr>\n",
       "      <th>9715</th>\n",
       "      <td>2270445</td>\n",
       "      <td>1</td>\n",
       "      <td>83.96</td>\n",
       "    </tr>\n",
       "    <tr>\n",
       "      <th>4821</th>\n",
       "      <td>2277621</td>\n",
       "      <td>1</td>\n",
       "      <td>33.69</td>\n",
       "    </tr>\n",
       "    <tr>\n",
       "      <th>4820</th>\n",
       "      <td>2275383</td>\n",
       "      <td>1</td>\n",
       "      <td>25.89</td>\n",
       "    </tr>\n",
       "    <tr>\n",
       "      <th>4819</th>\n",
       "      <td>2264359</td>\n",
       "      <td>1</td>\n",
       "      <td>22.48</td>\n",
       "    </tr>\n",
       "    <tr>\n",
       "      <th>...</th>\n",
       "      <td>...</td>\n",
       "      <td>...</td>\n",
       "      <td>...</td>\n",
       "    </tr>\n",
       "    <tr>\n",
       "      <th>5039</th>\n",
       "      <td>3187359915</td>\n",
       "      <td>8444</td>\n",
       "      <td>21543.41</td>\n",
       "    </tr>\n",
       "    <tr>\n",
       "      <th>4297</th>\n",
       "      <td>2353185494</td>\n",
       "      <td>8675</td>\n",
       "      <td>29062.80</td>\n",
       "    </tr>\n",
       "    <tr>\n",
       "      <th>5117</th>\n",
       "      <td>5845174608</td>\n",
       "      <td>9100</td>\n",
       "      <td>156487.53</td>\n",
       "    </tr>\n",
       "    <tr>\n",
       "      <th>5035</th>\n",
       "      <td>7656050606</td>\n",
       "      <td>11908</td>\n",
       "      <td>369170.19</td>\n",
       "    </tr>\n",
       "    <tr>\n",
       "      <th>7789</th>\n",
       "      <td>8431730760</td>\n",
       "      <td>12184</td>\n",
       "      <td>100413.99</td>\n",
       "    </tr>\n",
       "  </tbody>\n",
       "</table>\n",
       "<p>9840 rows × 3 columns</p>\n",
       "</div>"
      ],
      "text/plain": [
       "        transactID  order  salesPrice\n",
       "itemID                               \n",
       "10463      2262034      1      282.16\n",
       "9715       2270445      1       83.96\n",
       "4821       2277621      1       33.69\n",
       "4820       2275383      1       25.89\n",
       "4819       2264359      1       22.48\n",
       "...            ...    ...         ...\n",
       "5039    3187359915   8444    21543.41\n",
       "4297    2353185494   8675    29062.80\n",
       "5117    5845174608   9100   156487.53\n",
       "5035    7656050606  11908   369170.19\n",
       "7789    8431730760  12184   100413.99\n",
       "\n",
       "[9840 rows x 3 columns]"
      ]
     },
     "execution_count": 28,
     "metadata": {},
     "output_type": "execute_result"
    }
   ],
   "source": [
    "orders.groupby(by = 'itemID').sum().sort_values(by = 'order')"
   ]
  },
  {
   "cell_type": "code",
   "execution_count": 50,
   "metadata": {},
   "outputs": [
    {
     "data": {
      "text/html": [
       "<div>\n",
       "<style scoped>\n",
       "    .dataframe tbody tr th:only-of-type {\n",
       "        vertical-align: middle;\n",
       "    }\n",
       "\n",
       "    .dataframe tbody tr th {\n",
       "        vertical-align: top;\n",
       "    }\n",
       "\n",
       "    .dataframe thead th {\n",
       "        text-align: right;\n",
       "    }\n",
       "</style>\n",
       "<table border=\"1\" class=\"dataframe\">\n",
       "  <thead>\n",
       "    <tr style=\"text-align: right;\">\n",
       "      <th></th>\n",
       "      <th>itemID</th>\n",
       "      <th>simulationPrice</th>\n",
       "      <th>promotion</th>\n",
       "    </tr>\n",
       "  </thead>\n",
       "  <tbody>\n",
       "    <tr>\n",
       "      <th>7788</th>\n",
       "      <td>7789</td>\n",
       "      <td>12.14</td>\n",
       "      <td>2018-06-30</td>\n",
       "    </tr>\n",
       "  </tbody>\n",
       "</table>\n",
       "</div>"
      ],
      "text/plain": [
       "      itemID  simulationPrice   promotion\n",
       "7788    7789            12.14  2018-06-30"
      ]
     },
     "execution_count": 50,
     "metadata": {},
     "output_type": "execute_result"
    }
   ],
   "source": [
    "infos[infos['itemID'] == 7789]"
   ]
  },
  {
   "cell_type": "code",
   "execution_count": 51,
   "metadata": {},
   "outputs": [
    {
     "data": {
      "text/html": [
       "<div>\n",
       "<style scoped>\n",
       "    .dataframe tbody tr th:only-of-type {\n",
       "        vertical-align: middle;\n",
       "    }\n",
       "\n",
       "    .dataframe tbody tr th {\n",
       "        vertical-align: top;\n",
       "    }\n",
       "\n",
       "    .dataframe thead th {\n",
       "        text-align: right;\n",
       "    }\n",
       "</style>\n",
       "<table border=\"1\" class=\"dataframe\">\n",
       "  <thead>\n",
       "    <tr style=\"text-align: right;\">\n",
       "      <th></th>\n",
       "      <th>itemID</th>\n",
       "      <th>simulationPrice</th>\n",
       "      <th>promotion</th>\n",
       "    </tr>\n",
       "  </thead>\n",
       "  <tbody>\n",
       "    <tr>\n",
       "      <th>5034</th>\n",
       "      <td>5035</td>\n",
       "      <td>31.44</td>\n",
       "      <td>2018-07-04</td>\n",
       "    </tr>\n",
       "  </tbody>\n",
       "</table>\n",
       "</div>"
      ],
      "text/plain": [
       "      itemID  simulationPrice   promotion\n",
       "5034    5035            31.44  2018-07-04"
      ]
     },
     "execution_count": 51,
     "metadata": {},
     "output_type": "execute_result"
    }
   ],
   "source": [
    "infos[infos['itemID'] == 5035]"
   ]
  },
  {
   "cell_type": "code",
   "execution_count": 52,
   "metadata": {},
   "outputs": [
    {
     "data": {
      "text/html": [
       "<div>\n",
       "<style scoped>\n",
       "    .dataframe tbody tr th:only-of-type {\n",
       "        vertical-align: middle;\n",
       "    }\n",
       "\n",
       "    .dataframe tbody tr th {\n",
       "        vertical-align: top;\n",
       "    }\n",
       "\n",
       "    .dataframe thead th {\n",
       "        text-align: right;\n",
       "    }\n",
       "</style>\n",
       "<table border=\"1\" class=\"dataframe\">\n",
       "  <thead>\n",
       "    <tr style=\"text-align: right;\">\n",
       "      <th></th>\n",
       "      <th>itemID</th>\n",
       "      <th>simulationPrice</th>\n",
       "      <th>promotion</th>\n",
       "    </tr>\n",
       "  </thead>\n",
       "  <tbody>\n",
       "    <tr>\n",
       "      <th>5116</th>\n",
       "      <td>5117</td>\n",
       "      <td>18.61</td>\n",
       "      <td>NaN</td>\n",
       "    </tr>\n",
       "  </tbody>\n",
       "</table>\n",
       "</div>"
      ],
      "text/plain": [
       "      itemID  simulationPrice promotion\n",
       "5116    5117            18.61       NaN"
      ]
     },
     "execution_count": 52,
     "metadata": {},
     "output_type": "execute_result"
    }
   ],
   "source": [
    "infos[infos['itemID'] == 5117]"
   ]
  },
  {
   "cell_type": "markdown",
   "metadata": {},
   "source": [
    "- From the previous exploration, we found Item 7789 to be the most popular product, with 12184 units sold. \n",
    "- However, Item 7789 and 5035 has promotion dates, making the forecast a tad more complex to do.\n",
    "- Hence, **Item 5117** will be chosen to be studied in this notebook, because it is the 3rd most popular product (more data for the forecasting algorithms to work with) and because there are no promotions for it.\n",
    "- Items with promotions will be dealt with separately."
   ]
  },
  {
   "cell_type": "markdown",
   "metadata": {},
   "source": [
    "### Item 5117\n",
    "\n",
    "Extract Item 5117 orders and explore it in detail."
   ]
  },
  {
   "cell_type": "code",
   "execution_count": 54,
   "metadata": {},
   "outputs": [
    {
     "data": {
      "text/html": [
       "<div>\n",
       "<style scoped>\n",
       "    .dataframe tbody tr th:only-of-type {\n",
       "        vertical-align: middle;\n",
       "    }\n",
       "\n",
       "    .dataframe tbody tr th {\n",
       "        vertical-align: top;\n",
       "    }\n",
       "\n",
       "    .dataframe thead th {\n",
       "        text-align: right;\n",
       "    }\n",
       "</style>\n",
       "<table border=\"1\" class=\"dataframe\">\n",
       "  <thead>\n",
       "    <tr style=\"text-align: right;\">\n",
       "      <th></th>\n",
       "      <th>itemID</th>\n",
       "      <th>brand</th>\n",
       "      <th>manufacturer</th>\n",
       "      <th>customerRating</th>\n",
       "      <th>modifiedRating</th>\n",
       "      <th>category1</th>\n",
       "      <th>category2</th>\n",
       "      <th>category3</th>\n",
       "      <th>recommendedRetailPrice</th>\n",
       "    </tr>\n",
       "  </thead>\n",
       "  <tbody>\n",
       "    <tr>\n",
       "      <th>5116</th>\n",
       "      <td>5117</td>\n",
       "      <td>90</td>\n",
       "      <td>80</td>\n",
       "      <td>3.26</td>\n",
       "      <td>3.5</td>\n",
       "      <td>5</td>\n",
       "      <td>21</td>\n",
       "      <td>4</td>\n",
       "      <td>26.68</td>\n",
       "    </tr>\n",
       "  </tbody>\n",
       "</table>\n",
       "</div>"
      ],
      "text/plain": [
       "      itemID  brand  manufacturer  customerRating  modifiedRating  category1  \\\n",
       "5116    5117     90            80            3.26             3.5          5   \n",
       "\n",
       "      category2  category3  recommendedRetailPrice  \n",
       "5116         21          4                   26.68  "
      ]
     },
     "execution_count": 54,
     "metadata": {},
     "output_type": "execute_result"
    }
   ],
   "source": [
    "items[items['itemID'] == 5117]"
   ]
  },
  {
   "cell_type": "code",
   "execution_count": 9,
   "metadata": {},
   "outputs": [],
   "source": [
    "item5117 = orders[orders['itemID'] == 5117]"
   ]
  },
  {
   "cell_type": "code",
   "execution_count": 59,
   "metadata": {},
   "outputs": [
    {
     "data": {
      "text/plain": [
       "(8063, 5)"
      ]
     },
     "execution_count": 59,
     "metadata": {},
     "output_type": "execute_result"
    }
   ],
   "source": [
    "item5117.shape"
   ]
  },
  {
   "cell_type": "code",
   "execution_count": 60,
   "metadata": {},
   "outputs": [
    {
     "data": {
      "text/plain": [
       "Index(['time', 'transactID', 'itemID', 'order', 'salesPrice'], dtype='object')"
      ]
     },
     "execution_count": 60,
     "metadata": {},
     "output_type": "execute_result"
    }
   ],
   "source": [
    "item5117.columns"
   ]
  },
  {
   "cell_type": "code",
   "execution_count": 91,
   "metadata": {},
   "outputs": [
    {
     "name": "stdout",
     "output_type": "stream",
     "text": [
      "<class 'pandas.core.frame.DataFrame'>\n",
      "Int64Index: 8063 entries, 22772 to 2143692\n",
      "Data columns (total 5 columns):\n",
      " #   Column      Non-Null Count  Dtype         \n",
      "---  ------      --------------  -----         \n",
      " 0   time        8063 non-null   datetime64[ns]\n",
      " 1   transactID  8063 non-null   int64         \n",
      " 2   itemID      8063 non-null   int64         \n",
      " 3   order       8063 non-null   int64         \n",
      " 4   salesPrice  8063 non-null   float64       \n",
      "dtypes: datetime64[ns](1), float64(1), int64(3)\n",
      "memory usage: 378.0 KB\n"
     ]
    }
   ],
   "source": [
    "item5117.info()"
   ]
  },
  {
   "cell_type": "code",
   "execution_count": 62,
   "metadata": {},
   "outputs": [
    {
     "data": {
      "text/html": [
       "<div>\n",
       "<style scoped>\n",
       "    .dataframe tbody tr th:only-of-type {\n",
       "        vertical-align: middle;\n",
       "    }\n",
       "\n",
       "    .dataframe tbody tr th {\n",
       "        vertical-align: top;\n",
       "    }\n",
       "\n",
       "    .dataframe thead th {\n",
       "        text-align: right;\n",
       "    }\n",
       "</style>\n",
       "<table border=\"1\" class=\"dataframe\">\n",
       "  <thead>\n",
       "    <tr style=\"text-align: right;\">\n",
       "      <th></th>\n",
       "      <th>transactID</th>\n",
       "      <th>itemID</th>\n",
       "      <th>order</th>\n",
       "      <th>salesPrice</th>\n",
       "    </tr>\n",
       "  </thead>\n",
       "  <tbody>\n",
       "    <tr>\n",
       "      <th>count</th>\n",
       "      <td>8.063000e+03</td>\n",
       "      <td>8063.0</td>\n",
       "      <td>8063.000000</td>\n",
       "      <td>8063.000000</td>\n",
       "    </tr>\n",
       "    <tr>\n",
       "      <th>mean</th>\n",
       "      <td>7.249379e+05</td>\n",
       "      <td>5117.0</td>\n",
       "      <td>1.128612</td>\n",
       "      <td>19.408102</td>\n",
       "    </tr>\n",
       "    <tr>\n",
       "      <th>std</th>\n",
       "      <td>5.948575e+05</td>\n",
       "      <td>0.0</td>\n",
       "      <td>0.434443</td>\n",
       "      <td>1.183708</td>\n",
       "    </tr>\n",
       "    <tr>\n",
       "      <th>min</th>\n",
       "      <td>3.820000e+02</td>\n",
       "      <td>5117.0</td>\n",
       "      <td>1.000000</td>\n",
       "      <td>10.830000</td>\n",
       "    </tr>\n",
       "    <tr>\n",
       "      <th>25%</th>\n",
       "      <td>5.446750e+04</td>\n",
       "      <td>5117.0</td>\n",
       "      <td>1.000000</td>\n",
       "      <td>18.690000</td>\n",
       "    </tr>\n",
       "    <tr>\n",
       "      <th>50%</th>\n",
       "      <td>6.230860e+05</td>\n",
       "      <td>5117.0</td>\n",
       "      <td>1.000000</td>\n",
       "      <td>18.690000</td>\n",
       "    </tr>\n",
       "    <tr>\n",
       "      <th>75%</th>\n",
       "      <td>1.454220e+06</td>\n",
       "      <td>5117.0</td>\n",
       "      <td>1.000000</td>\n",
       "      <td>21.020000</td>\n",
       "    </tr>\n",
       "    <tr>\n",
       "      <th>max</th>\n",
       "      <td>2.293289e+06</td>\n",
       "      <td>5117.0</td>\n",
       "      <td>10.000000</td>\n",
       "      <td>21.790000</td>\n",
       "    </tr>\n",
       "  </tbody>\n",
       "</table>\n",
       "</div>"
      ],
      "text/plain": [
       "         transactID  itemID        order   salesPrice\n",
       "count  8.063000e+03  8063.0  8063.000000  8063.000000\n",
       "mean   7.249379e+05  5117.0     1.128612    19.408102\n",
       "std    5.948575e+05     0.0     0.434443     1.183708\n",
       "min    3.820000e+02  5117.0     1.000000    10.830000\n",
       "25%    5.446750e+04  5117.0     1.000000    18.690000\n",
       "50%    6.230860e+05  5117.0     1.000000    18.690000\n",
       "75%    1.454220e+06  5117.0     1.000000    21.020000\n",
       "max    2.293289e+06  5117.0    10.000000    21.790000"
      ]
     },
     "execution_count": 62,
     "metadata": {},
     "output_type": "execute_result"
    }
   ],
   "source": [
    "item5117.describe()"
   ]
  },
  {
   "cell_type": "code",
   "execution_count": 10,
   "metadata": {},
   "outputs": [
    {
     "data": {
      "text/html": [
       "<div>\n",
       "<style scoped>\n",
       "    .dataframe tbody tr th:only-of-type {\n",
       "        vertical-align: middle;\n",
       "    }\n",
       "\n",
       "    .dataframe tbody tr th {\n",
       "        vertical-align: top;\n",
       "    }\n",
       "\n",
       "    .dataframe thead th {\n",
       "        text-align: right;\n",
       "    }\n",
       "</style>\n",
       "<table border=\"1\" class=\"dataframe\">\n",
       "  <thead>\n",
       "    <tr style=\"text-align: right;\">\n",
       "      <th></th>\n",
       "      <th>time</th>\n",
       "      <th>transactID</th>\n",
       "      <th>itemID</th>\n",
       "      <th>order</th>\n",
       "      <th>salesPrice</th>\n",
       "    </tr>\n",
       "  </thead>\n",
       "  <tbody>\n",
       "    <tr>\n",
       "      <th>22772</th>\n",
       "      <td>2018-01-05 16:39:57</td>\n",
       "      <td>2263797</td>\n",
       "      <td>5117</td>\n",
       "      <td>1</td>\n",
       "      <td>10.83</td>\n",
       "    </tr>\n",
       "    <tr>\n",
       "      <th>28163</th>\n",
       "      <td>2018-01-05 22:22:29</td>\n",
       "      <td>2274466</td>\n",
       "      <td>5117</td>\n",
       "      <td>1</td>\n",
       "      <td>10.83</td>\n",
       "    </tr>\n",
       "    <tr>\n",
       "      <th>28172</th>\n",
       "      <td>2018-01-05 22:45:16</td>\n",
       "      <td>2263621</td>\n",
       "      <td>5117</td>\n",
       "      <td>1</td>\n",
       "      <td>10.83</td>\n",
       "    </tr>\n",
       "    <tr>\n",
       "      <th>30232</th>\n",
       "      <td>2018-01-06 22:19:42</td>\n",
       "      <td>2258538</td>\n",
       "      <td>5117</td>\n",
       "      <td>1</td>\n",
       "      <td>10.83</td>\n",
       "    </tr>\n",
       "    <tr>\n",
       "      <th>31498</th>\n",
       "      <td>2018-01-07 12:07:15</td>\n",
       "      <td>2283579</td>\n",
       "      <td>5117</td>\n",
       "      <td>1</td>\n",
       "      <td>10.83</td>\n",
       "    </tr>\n",
       "    <tr>\n",
       "      <th>...</th>\n",
       "      <td>...</td>\n",
       "      <td>...</td>\n",
       "      <td>...</td>\n",
       "      <td>...</td>\n",
       "      <td>...</td>\n",
       "    </tr>\n",
       "    <tr>\n",
       "      <th>2095502</th>\n",
       "      <td>2018-06-25 06:14:24</td>\n",
       "      <td>1959904</td>\n",
       "      <td>5117</td>\n",
       "      <td>1</td>\n",
       "      <td>17.13</td>\n",
       "    </tr>\n",
       "    <tr>\n",
       "      <th>2095525</th>\n",
       "      <td>2018-06-25 06:27:58</td>\n",
       "      <td>1959926</td>\n",
       "      <td>5117</td>\n",
       "      <td>1</td>\n",
       "      <td>17.13</td>\n",
       "    </tr>\n",
       "    <tr>\n",
       "      <th>2098671</th>\n",
       "      <td>2018-06-25 13:53:11</td>\n",
       "      <td>2291800</td>\n",
       "      <td>5117</td>\n",
       "      <td>1</td>\n",
       "      <td>17.13</td>\n",
       "    </tr>\n",
       "    <tr>\n",
       "      <th>2116125</th>\n",
       "      <td>2018-06-26 18:14:06</td>\n",
       "      <td>2267480</td>\n",
       "      <td>5117</td>\n",
       "      <td>1</td>\n",
       "      <td>18.61</td>\n",
       "    </tr>\n",
       "    <tr>\n",
       "      <th>2143692</th>\n",
       "      <td>2018-06-28 09:42:25</td>\n",
       "      <td>2004926</td>\n",
       "      <td>5117</td>\n",
       "      <td>2</td>\n",
       "      <td>18.61</td>\n",
       "    </tr>\n",
       "  </tbody>\n",
       "</table>\n",
       "<p>8063 rows × 5 columns</p>\n",
       "</div>"
      ],
      "text/plain": [
       "                       time  transactID  itemID  order  salesPrice\n",
       "22772   2018-01-05 16:39:57     2263797    5117      1       10.83\n",
       "28163   2018-01-05 22:22:29     2274466    5117      1       10.83\n",
       "28172   2018-01-05 22:45:16     2263621    5117      1       10.83\n",
       "30232   2018-01-06 22:19:42     2258538    5117      1       10.83\n",
       "31498   2018-01-07 12:07:15     2283579    5117      1       10.83\n",
       "...                     ...         ...     ...    ...         ...\n",
       "2095502 2018-06-25 06:14:24     1959904    5117      1       17.13\n",
       "2095525 2018-06-25 06:27:58     1959926    5117      1       17.13\n",
       "2098671 2018-06-25 13:53:11     2291800    5117      1       17.13\n",
       "2116125 2018-06-26 18:14:06     2267480    5117      1       18.61\n",
       "2143692 2018-06-28 09:42:25     2004926    5117      2       18.61\n",
       "\n",
       "[8063 rows x 5 columns]"
      ]
     },
     "execution_count": 10,
     "metadata": {},
     "output_type": "execute_result"
    }
   ],
   "source": [
    "item5117"
   ]
  },
  {
   "cell_type": "code",
   "execution_count": 68,
   "metadata": {},
   "outputs": [
    {
     "data": {
      "text/plain": [
       "1     7225\n",
       "2      704\n",
       "3       95\n",
       "4       22\n",
       "5       12\n",
       "6        4\n",
       "10       1\n",
       "Name: order, dtype: int64"
      ]
     },
     "execution_count": 68,
     "metadata": {},
     "output_type": "execute_result"
    }
   ],
   "source": [
    "item5117['order'].value_counts()"
   ]
  },
  {
   "cell_type": "code",
   "execution_count": 69,
   "metadata": {},
   "outputs": [
    {
     "data": {
      "image/png": "[encoded data removed]",
      "text/plain": [
       "<Figure size 432x288 with 1 Axes>"
      ]
     },
     "metadata": {},
     "output_type": "display_data"
    }
   ],
   "source": [
    "sns.countplot(item5117['order'])\n",
    "plt.yscale('log')"
   ]
  },
  {
   "cell_type": "code",
   "execution_count": 74,
   "metadata": {},
   "outputs": [
    {
     "data": {
      "text/plain": [
       "<matplotlib.axes._subplots.AxesSubplot at 0x16a95330f08>"
      ]
     },
     "execution_count": 74,
     "metadata": {},
     "output_type": "execute_result"
    },
    {
     "data": {
      "image/png": "[encoded data removed]",
      "text/plain": [
       "<Figure size 432x288 with 1 Axes>"
      ]
     },
     "metadata": {},
     "output_type": "display_data"
    }
   ],
   "source": [
    "sns.distplot(item5117['salesPrice'], kde = False, bins = 11, hist_kws = dict(edgecolor = \"k\"))"
   ]
  },
  {
   "cell_type": "code",
   "execution_count": 75,
   "metadata": {},
   "outputs": [
    {
     "data": {
      "image/png": "[encoded data removed]",
      "text/plain": [
       "<Figure size 432x288 with 1 Axes>"
      ]
     },
     "metadata": {},
     "output_type": "display_data"
    }
   ],
   "source": [
    "sns.distplot(item5117['salesPrice'], kde = False, bins = 11, hist_kws = dict(edgecolor = \"k\"))\n",
    "plt.yscale('log')"
   ]
  },
  {
   "cell_type": "markdown",
   "metadata": {},
   "source": [
    "- Item 5117 has a fairly stable price, with a mean of 19.41 and a low standard deviation of 1.18.\n",
    "- The majority of orders (over 8000) are in the range 1-3.\n",
    "- Although the median price is 18.69, prices can increase up to 21.79, in the 20-22 range, and occasionally decrease down to about 16 and 11.\n",
    "\n",
    "\n",
    "- Add hour, day, month and day of week columns to the `item5117` dataset.\n",
    "- Remove the `transactID` and `itemID` columns."
   ]
  },
  {
   "cell_type": "code",
   "execution_count": 12,
   "metadata": {},
   "outputs": [],
   "source": [
    "item5117.loc[:,'Hour'] = item5117['time'].dt.hour\n",
    "item5117.loc[:,'Day'] = item5117['time'].dt.day\n",
    "item5117.loc[:,'Month'] = item5117['time'].dt.month\n",
    "item5117.loc[:,'Day of Week'] = item5117['time'].dt.dayofweek # 0 is Monday, 6 is Sunday"
   ]
  },
  {
   "cell_type": "code",
   "execution_count": 13,
   "metadata": {},
   "outputs": [
    {
     "name": "stderr",
     "output_type": "stream",
     "text": [
      "C:\\Anaconda3\\envs\\nlp_course\\lib\\site-packages\\pandas\\core\\frame.py:3997: SettingWithCopyWarning: \n",
      "A value is trying to be set on a copy of a slice from a DataFrame\n",
      "\n",
      "See the caveats in the documentation: https://pandas.pydata.org/pandas-docs/stable/user_guide/indexing.html#returning-a-view-versus-a-copy\n",
      "  errors=errors,\n"
     ]
    }
   ],
   "source": [
    "item5117.drop(labels = ['transactID','itemID'], axis = 1, inplace = True)"
   ]
  },
  {
   "cell_type": "code",
   "execution_count": 14,
   "metadata": {},
   "outputs": [],
   "source": [
    "item5117.reset_index(drop = True, inplace = True)"
   ]
  },
  {
   "cell_type": "code",
   "execution_count": 15,
   "metadata": {},
   "outputs": [
    {
     "data": {
      "text/html": [
       "<div>\n",
       "<style scoped>\n",
       "    .dataframe tbody tr th:only-of-type {\n",
       "        vertical-align: middle;\n",
       "    }\n",
       "\n",
       "    .dataframe tbody tr th {\n",
       "        vertical-align: top;\n",
       "    }\n",
       "\n",
       "    .dataframe thead th {\n",
       "        text-align: right;\n",
       "    }\n",
       "</style>\n",
       "<table border=\"1\" class=\"dataframe\">\n",
       "  <thead>\n",
       "    <tr style=\"text-align: right;\">\n",
       "      <th></th>\n",
       "      <th>time</th>\n",
       "      <th>order</th>\n",
       "      <th>salesPrice</th>\n",
       "      <th>Hour</th>\n",
       "      <th>Day</th>\n",
       "      <th>Month</th>\n",
       "      <th>Day of Week</th>\n",
       "    </tr>\n",
       "  </thead>\n",
       "  <tbody>\n",
       "    <tr>\n",
       "      <th>0</th>\n",
       "      <td>2018-01-05 16:39:57</td>\n",
       "      <td>1</td>\n",
       "      <td>10.83</td>\n",
       "      <td>16</td>\n",
       "      <td>5</td>\n",
       "      <td>1</td>\n",
       "      <td>4</td>\n",
       "    </tr>\n",
       "    <tr>\n",
       "      <th>1</th>\n",
       "      <td>2018-01-05 22:22:29</td>\n",
       "      <td>1</td>\n",
       "      <td>10.83</td>\n",
       "      <td>22</td>\n",
       "      <td>5</td>\n",
       "      <td>1</td>\n",
       "      <td>4</td>\n",
       "    </tr>\n",
       "    <tr>\n",
       "      <th>2</th>\n",
       "      <td>2018-01-05 22:45:16</td>\n",
       "      <td>1</td>\n",
       "      <td>10.83</td>\n",
       "      <td>22</td>\n",
       "      <td>5</td>\n",
       "      <td>1</td>\n",
       "      <td>4</td>\n",
       "    </tr>\n",
       "    <tr>\n",
       "      <th>3</th>\n",
       "      <td>2018-01-06 22:19:42</td>\n",
       "      <td>1</td>\n",
       "      <td>10.83</td>\n",
       "      <td>22</td>\n",
       "      <td>6</td>\n",
       "      <td>1</td>\n",
       "      <td>5</td>\n",
       "    </tr>\n",
       "    <tr>\n",
       "      <th>4</th>\n",
       "      <td>2018-01-07 12:07:15</td>\n",
       "      <td>1</td>\n",
       "      <td>10.83</td>\n",
       "      <td>12</td>\n",
       "      <td>7</td>\n",
       "      <td>1</td>\n",
       "      <td>6</td>\n",
       "    </tr>\n",
       "  </tbody>\n",
       "</table>\n",
       "</div>"
      ],
      "text/plain": [
       "                 time  order  salesPrice  Hour  Day  Month  Day of Week\n",
       "0 2018-01-05 16:39:57      1       10.83    16    5      1            4\n",
       "1 2018-01-05 22:22:29      1       10.83    22    5      1            4\n",
       "2 2018-01-05 22:45:16      1       10.83    22    5      1            4\n",
       "3 2018-01-06 22:19:42      1       10.83    22    6      1            5\n",
       "4 2018-01-07 12:07:15      1       10.83    12    7      1            6"
      ]
     },
     "execution_count": 15,
     "metadata": {},
     "output_type": "execute_result"
    }
   ],
   "source": [
    "item5117.head()"
   ]
  },
  {
   "cell_type": "markdown",
   "metadata": {},
   "source": [
    "- The above `item5117` dataset is prepared for further exploration and analysis.\n",
    "- Save this dataset to the home directory in pickle format to preserve datetime type."
   ]
  },
  {
   "cell_type": "code",
   "execution_count": 30,
   "metadata": {},
   "outputs": [],
   "source": [
    "item5117.to_pickle('item5117.pkl')"
   ]
  },
  {
   "cell_type": "markdown",
   "metadata": {},
   "source": [
    "- Now, the dataset can be converted to a time series by changing its index to the `time` column."
   ]
  },
  {
   "cell_type": "code",
   "execution_count": 19,
   "metadata": {},
   "outputs": [],
   "source": [
    "item5117 = item5117.set_index('time')"
   ]
  },
  {
   "cell_type": "code",
   "execution_count": 21,
   "metadata": {},
   "outputs": [
    {
     "data": {
      "text/html": [
       "<div>\n",
       "<style scoped>\n",
       "    .dataframe tbody tr th:only-of-type {\n",
       "        vertical-align: middle;\n",
       "    }\n",
       "\n",
       "    .dataframe tbody tr th {\n",
       "        vertical-align: top;\n",
       "    }\n",
       "\n",
       "    .dataframe thead th {\n",
       "        text-align: right;\n",
       "    }\n",
       "</style>\n",
       "<table border=\"1\" class=\"dataframe\">\n",
       "  <thead>\n",
       "    <tr style=\"text-align: right;\">\n",
       "      <th></th>\n",
       "      <th>order</th>\n",
       "      <th>salesPrice</th>\n",
       "      <th>Hour</th>\n",
       "      <th>Day</th>\n",
       "      <th>Month</th>\n",
       "      <th>Day of Week</th>\n",
       "    </tr>\n",
       "    <tr>\n",
       "      <th>time</th>\n",
       "      <th></th>\n",
       "      <th></th>\n",
       "      <th></th>\n",
       "      <th></th>\n",
       "      <th></th>\n",
       "      <th></th>\n",
       "    </tr>\n",
       "  </thead>\n",
       "  <tbody>\n",
       "    <tr>\n",
       "      <th>2018-01-05 16:39:57</th>\n",
       "      <td>1</td>\n",
       "      <td>10.83</td>\n",
       "      <td>16</td>\n",
       "      <td>5</td>\n",
       "      <td>1</td>\n",
       "      <td>4</td>\n",
       "    </tr>\n",
       "    <tr>\n",
       "      <th>2018-01-05 22:22:29</th>\n",
       "      <td>1</td>\n",
       "      <td>10.83</td>\n",
       "      <td>22</td>\n",
       "      <td>5</td>\n",
       "      <td>1</td>\n",
       "      <td>4</td>\n",
       "    </tr>\n",
       "    <tr>\n",
       "      <th>2018-01-05 22:45:16</th>\n",
       "      <td>1</td>\n",
       "      <td>10.83</td>\n",
       "      <td>22</td>\n",
       "      <td>5</td>\n",
       "      <td>1</td>\n",
       "      <td>4</td>\n",
       "    </tr>\n",
       "    <tr>\n",
       "      <th>2018-01-06 22:19:42</th>\n",
       "      <td>1</td>\n",
       "      <td>10.83</td>\n",
       "      <td>22</td>\n",
       "      <td>6</td>\n",
       "      <td>1</td>\n",
       "      <td>5</td>\n",
       "    </tr>\n",
       "    <tr>\n",
       "      <th>2018-01-07 12:07:15</th>\n",
       "      <td>1</td>\n",
       "      <td>10.83</td>\n",
       "      <td>12</td>\n",
       "      <td>7</td>\n",
       "      <td>1</td>\n",
       "      <td>6</td>\n",
       "    </tr>\n",
       "  </tbody>\n",
       "</table>\n",
       "</div>"
      ],
      "text/plain": [
       "                     order  salesPrice  Hour  Day  Month  Day of Week\n",
       "time                                                                 \n",
       "2018-01-05 16:39:57      1       10.83    16    5      1            4\n",
       "2018-01-05 22:22:29      1       10.83    22    5      1            4\n",
       "2018-01-05 22:45:16      1       10.83    22    5      1            4\n",
       "2018-01-06 22:19:42      1       10.83    22    6      1            5\n",
       "2018-01-07 12:07:15      1       10.83    12    7      1            6"
      ]
     },
     "execution_count": 21,
     "metadata": {},
     "output_type": "execute_result"
    }
   ],
   "source": [
    "item5117.head()"
   ]
  },
  {
   "cell_type": "code",
   "execution_count": 20,
   "metadata": {},
   "outputs": [
    {
     "data": {
      "text/plain": [
       "<matplotlib.axes._subplots.AxesSubplot at 0x1b987ff9248>"
      ]
     },
     "execution_count": 20,
     "metadata": {},
     "output_type": "execute_result"
    },
    {
     "data": {
      "image/png": "[encoded data removed]",
      "text/plain": [
       "<Figure size 432x288 with 1 Axes>"
      ]
     },
     "metadata": {},
     "output_type": "display_data"
    }
   ],
   "source": [
    "item5117.groupby(by = 'Hour')['order'].sum().plot.bar()\n",
    "#plt.yscale('log')"
   ]
  },
  {
   "cell_type": "code",
   "execution_count": 53,
   "metadata": {},
   "outputs": [
    {
     "data": {
      "text/plain": [
       "<matplotlib.axes._subplots.AxesSubplot at 0x1c579b25108>"
      ]
     },
     "execution_count": 53,
     "metadata": {},
     "output_type": "execute_result"
    },
    {
     "data": {
      "image/png": "[encoded data removed]",
      "text/plain": [
       "<Figure size 432x288 with 1 Axes>"
      ]
     },
     "metadata": {},
     "output_type": "display_data"
    }
   ],
   "source": [
    "item5117.groupby(by = 'Day')['order'].sum().plot.bar()\n",
    "#plt.yscale('log')"
   ]
  },
  {
   "cell_type": "code",
   "execution_count": 45,
   "metadata": {},
   "outputs": [
    {
     "data": {
      "text/plain": [
       "<matplotlib.axes._subplots.AxesSubplot at 0x1c5796dc548>"
      ]
     },
     "execution_count": 45,
     "metadata": {},
     "output_type": "execute_result"
    },
    {
     "data": {
      "image/png": "[encoded data removed]",
      "text/plain": [
       "<Figure size 432x288 with 1 Axes>"
      ]
     },
     "metadata": {},
     "output_type": "display_data"
    }
   ],
   "source": [
    "item5117.groupby(by = 'Month')['order'].sum().plot.bar()"
   ]
  },
  {
   "cell_type": "code",
   "execution_count": 22,
   "metadata": {},
   "outputs": [
    {
     "data": {
      "text/plain": [
       "<matplotlib.axes._subplots.AxesSubplot at 0x1b9880ad708>"
      ]
     },
     "execution_count": 22,
     "metadata": {},
     "output_type": "execute_result"
    },
    {
     "data": {
      "image/png": "[encoded data removed]",
      "text/plain": [
       "<Figure size 432x288 with 1 Axes>"
      ]
     },
     "metadata": {},
     "output_type": "display_data"
    }
   ],
   "source": [
    "item5117.groupby(by = 'Day of Week')['order'].sum().plot.bar()"
   ]
  },
  {
   "cell_type": "markdown",
   "metadata": {},
   "source": [
    "- Most purchases occurred during the hours from 9:00 to 22:00, on Days 9, 17 and 21, during the months Jan, March and May, and on Mondays, Tuesdays and Saturdays. \n",
    "- These patterns may be useful information to know but they are not enough for making a forecast.\n",
    "\n",
    "\n",
    "- The time dependency of price and quantity demanded can be explored by resampling the data as a time series in the hourly, daily, weekly, bi-weekly and monthly intervals."
   ]
  },
  {
   "cell_type": "code",
   "execution_count": 26,
   "metadata": {},
   "outputs": [],
   "source": [
    "hourly5117_orders = item5117['order'].resample('H').sum # can't plot hourly resampled data\n",
    "daily5117_orders = item5117['order'].resample('D').sum()\n",
    "weekly5117_orders = item5117['order'].resample('W').sum()\n",
    "biweekly5117_orders = item5117['order'].resample('2W').sum()\n",
    "monthly5117_orders = item5117['order'].resample('M').sum()"
   ]
  },
  {
   "cell_type": "code",
   "execution_count": 29,
   "metadata": {},
   "outputs": [
    {
     "data": {
      "text/plain": [
       "<matplotlib.axes._subplots.AxesSubplot at 0x1b9880ade88>"
      ]
     },
     "execution_count": 29,
     "metadata": {},
     "output_type": "execute_result"
    },
    {
     "data": {
      "image/png": "[encoded data removed]",
      "text/plain": [
       "<Figure size 1080x576 with 1 Axes>"
      ]
     },
     "metadata": {},
     "output_type": "display_data"
    }
   ],
   "source": [
    "daily5117_orders.plot(figsize=(15,8))"
   ]
  },
  {
   "cell_type": "code",
   "execution_count": 40,
   "metadata": {},
   "outputs": [
    {
     "data": {
      "text/plain": [
       "time\n",
       "2018-01-09    2719\n",
       "2018-02-15     370\n",
       "2018-03-17    2506\n",
       "2018-03-29     575\n",
       "2018-05-21    2687\n",
       "Name: order, dtype: int64"
      ]
     },
     "execution_count": 40,
     "metadata": {},
     "output_type": "execute_result"
    }
   ],
   "source": [
    "daily5117_orders[daily5117_orders > 20]"
   ]
  },
  {
   "cell_type": "markdown",
   "metadata": {},
   "source": [
    "- These are the days at which demand spikes way above 20 units occurred for some reason."
   ]
  },
  {
   "cell_type": "code",
   "execution_count": 30,
   "metadata": {},
   "outputs": [
    {
     "data": {
      "text/plain": [
       "<matplotlib.axes._subplots.AxesSubplot at 0x1b9880adc48>"
      ]
     },
     "execution_count": 30,
     "metadata": {},
     "output_type": "execute_result"
    },
    {
     "data": {
      "image/png": "[encoded data removed]",
      "text/plain": [
       "<Figure size 1080x576 with 1 Axes>"
      ]
     },
     "metadata": {},
     "output_type": "display_data"
    }
   ],
   "source": [
    "weekly5117_orders.plot(figsize=(15,8))"
   ]
  },
  {
   "cell_type": "code",
   "execution_count": 31,
   "metadata": {},
   "outputs": [
    {
     "data": {
      "text/plain": [
       "<matplotlib.axes._subplots.AxesSubplot at 0x1b9881afe48>"
      ]
     },
     "execution_count": 31,
     "metadata": {},
     "output_type": "execute_result"
    },
    {
     "data": {
      "image/png": "[encoded data removed]",
      "text/plain": [
       "<Figure size 1080x576 with 1 Axes>"
      ]
     },
     "metadata": {},
     "output_type": "display_data"
    }
   ],
   "source": [
    "biweekly5117_orders.plot(figsize=(15,8))\n",
    "#plt.yscale('log')"
   ]
  },
  {
   "cell_type": "code",
   "execution_count": 32,
   "metadata": {},
   "outputs": [
    {
     "data": {
      "text/plain": [
       "<matplotlib.axes._subplots.AxesSubplot at 0x1b9881d4088>"
      ]
     },
     "execution_count": 32,
     "metadata": {},
     "output_type": "execute_result"
    },
    {
     "data": {
      "image/png": "[encoded data removed]",
      "text/plain": [
       "<Figure size 1080x576 with 1 Axes>"
      ]
     },
     "metadata": {},
     "output_type": "display_data"
    }
   ],
   "source": [
    "monthly5117_orders.plot(figsize=(15,8))"
   ]
  },
  {
   "cell_type": "markdown",
   "metadata": {},
   "source": [
    "- Certain spikes in the purchasing frequency can be seen on certain days and months, in accordance with the barplots plotted previously.\n",
    "\n",
    "- The demand is highly dependent on certain days, so daily resampling data should not be ignored when making forecasts."
   ]
  },
  {
   "cell_type": "code",
   "execution_count": null,
   "metadata": {},
   "outputs": [],
   "source": []
  }
 ],
 "metadata": {
  "kernelspec": {
   "display_name": "Python 3.7.5 64-bit ('nlp_course': conda)",
   "language": "python",
   "name": "python37564bitnlpcourseconda86a5b05d218b4c1395806f05482c8d94"
  },
  "language_info": {
   "codemirror_mode": {
    "name": "ipython",
    "version": 3
   },
   "file_extension": ".py",
   "mimetype": "text/x-python",
   "name": "python",
   "nbconvert_exporter": "python",
   "pygments_lexer": "ipython3",
   "version": "3.7.5"
  }
 },
 "nbformat": 4,
 "nbformat_minor": 2
}
