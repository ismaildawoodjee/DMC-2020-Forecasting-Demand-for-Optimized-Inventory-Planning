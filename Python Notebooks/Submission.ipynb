{
 "cells": [
  {
   "cell_type": "code",
   "execution_count": 3,
   "metadata": {},
   "outputs": [],
   "source": [
    "import numpy as np\n",
    "import pandas as pd\n",
    "import seaborn as sns\n",
    "import matplotlib.pyplot as plt\n",
    "\n",
    "from tqdm import tqdm"
   ]
  },
  {
   "cell_type": "code",
   "execution_count": 155,
   "metadata": {},
   "outputs": [],
   "source": [
    "tsb = pd.read_csv('Uni_APU_2_tsb.csv')\n",
    "ets = pd.read_csv('Uni_APU_2_ets.csv')\n",
    "mean = pd.read_csv('Uni_APU_2_mean.csv')"
   ]
  },
  {
   "cell_type": "code",
   "execution_count": 14,
   "metadata": {},
   "outputs": [],
   "source": [
    "infos = pd.read_pickle('infos.pkl')\n",
    "items = pd.read_pickle('items.pkl')\n",
    "sorted_orders = pd.read_pickle('sorted_orders.pkl')\n",
    "daily_orders = pd.read_csv('daily_orders.csv')"
   ]
  },
  {
   "cell_type": "code",
   "execution_count": 164,
   "metadata": {},
   "outputs": [],
   "source": [
    "tsb.rename({'demandPrediction': 'demand_tsb'}, axis = 1, inplace = True)"
   ]
  },
  {
   "cell_type": "code",
   "execution_count": 165,
   "metadata": {},
   "outputs": [],
   "source": [
    "tsb['demand_ets'] = ets['demandPrediction']"
   ]
  },
  {
   "cell_type": "code",
   "execution_count": 174,
   "metadata": {},
   "outputs": [],
   "source": [
    "tsb['demand_mean'] = (tsb['demand_tsb'] + tsb['demand_ets']) / 2"
   ]
  },
  {
   "cell_type": "code",
   "execution_count": 181,
   "metadata": {},
   "outputs": [
    {
     "data": {
      "text/plain": [
       "itemID         5.111543e+07\n",
       "demand_tsb     2.157761e+05\n",
       "demand_ets     3.811917e+05\n",
       "demand_mean    2.984839e+05\n",
       "dtype: float64"
      ]
     },
     "execution_count": 181,
     "metadata": {},
     "output_type": "execute_result"
    }
   ],
   "source": [
    "tsb.sum()"
   ]
  },
  {
   "cell_type": "markdown",
   "metadata": {},
   "source": [
    "Right off the bat, I like that `demand_mean` predicts the expected amount of **297933** items, which follows the increasing demand trend. The TSB predictions are underforecasts and ETS ones are overforecasts but their mean seems to be just the right amount."
   ]
  },
  {
   "cell_type": "code",
   "execution_count": 182,
   "metadata": {},
   "outputs": [],
   "source": [
    "tsb.to_csv('forecasts.csv', index = False)"
   ]
  },
  {
   "cell_type": "code",
   "execution_count": 183,
   "metadata": {},
   "outputs": [],
   "source": [
    "df = pd.read_csv('forecasts.csv')"
   ]
  },
  {
   "cell_type": "code",
   "execution_count": 184,
   "metadata": {},
   "outputs": [
    {
     "data": {
      "text/html": [
       "<div>\n",
       "<style scoped>\n",
       "    .dataframe tbody tr th:only-of-type {\n",
       "        vertical-align: middle;\n",
       "    }\n",
       "\n",
       "    .dataframe tbody tr th {\n",
       "        vertical-align: top;\n",
       "    }\n",
       "\n",
       "    .dataframe thead th {\n",
       "        text-align: right;\n",
       "    }\n",
       "</style>\n",
       "<table border=\"1\" class=\"dataframe\">\n",
       "  <thead>\n",
       "    <tr style=\"text-align: right;\">\n",
       "      <th></th>\n",
       "      <th>itemID</th>\n",
       "      <th>demand_tsb</th>\n",
       "      <th>demand_ets</th>\n",
       "      <th>demand_mean</th>\n",
       "    </tr>\n",
       "  </thead>\n",
       "  <tbody>\n",
       "    <tr>\n",
       "      <th>0</th>\n",
       "      <td>1</td>\n",
       "      <td>49.158814</td>\n",
       "      <td>53.863913</td>\n",
       "      <td>51.511363</td>\n",
       "    </tr>\n",
       "    <tr>\n",
       "      <th>1</th>\n",
       "      <td>2</td>\n",
       "      <td>0.364125</td>\n",
       "      <td>0.392323</td>\n",
       "      <td>0.378224</td>\n",
       "    </tr>\n",
       "    <tr>\n",
       "      <th>2</th>\n",
       "      <td>3</td>\n",
       "      <td>29.292589</td>\n",
       "      <td>25.701549</td>\n",
       "      <td>27.497069</td>\n",
       "    </tr>\n",
       "    <tr>\n",
       "      <th>3</th>\n",
       "      <td>4</td>\n",
       "      <td>17.916622</td>\n",
       "      <td>15.419364</td>\n",
       "      <td>16.667993</td>\n",
       "    </tr>\n",
       "    <tr>\n",
       "      <th>4</th>\n",
       "      <td>5</td>\n",
       "      <td>13.570625</td>\n",
       "      <td>14.085350</td>\n",
       "      <td>13.827988</td>\n",
       "    </tr>\n",
       "    <tr>\n",
       "      <th>...</th>\n",
       "      <td>...</td>\n",
       "      <td>...</td>\n",
       "      <td>...</td>\n",
       "      <td>...</td>\n",
       "    </tr>\n",
       "    <tr>\n",
       "      <th>9835</th>\n",
       "      <td>10450</td>\n",
       "      <td>11.057287</td>\n",
       "      <td>30.379691</td>\n",
       "      <td>20.718489</td>\n",
       "    </tr>\n",
       "    <tr>\n",
       "      <th>9836</th>\n",
       "      <td>10459</td>\n",
       "      <td>0.041685</td>\n",
       "      <td>0.077831</td>\n",
       "      <td>0.059758</td>\n",
       "    </tr>\n",
       "    <tr>\n",
       "      <th>9837</th>\n",
       "      <td>10460</td>\n",
       "      <td>0.015735</td>\n",
       "      <td>0.077828</td>\n",
       "      <td>0.046781</td>\n",
       "    </tr>\n",
       "    <tr>\n",
       "      <th>9838</th>\n",
       "      <td>10462</td>\n",
       "      <td>0.021403</td>\n",
       "      <td>0.077829</td>\n",
       "      <td>0.049616</td>\n",
       "    </tr>\n",
       "    <tr>\n",
       "      <th>9839</th>\n",
       "      <td>10463</td>\n",
       "      <td>0.116266</td>\n",
       "      <td>0.077826</td>\n",
       "      <td>0.097046</td>\n",
       "    </tr>\n",
       "  </tbody>\n",
       "</table>\n",
       "<p>9840 rows × 4 columns</p>\n",
       "</div>"
      ],
      "text/plain": [
       "      itemID  demand_tsb  demand_ets  demand_mean\n",
       "0          1   49.158814   53.863913    51.511363\n",
       "1          2    0.364125    0.392323     0.378224\n",
       "2          3   29.292589   25.701549    27.497069\n",
       "3          4   17.916622   15.419364    16.667993\n",
       "4          5   13.570625   14.085350    13.827988\n",
       "...      ...         ...         ...          ...\n",
       "9835   10450   11.057287   30.379691    20.718489\n",
       "9836   10459    0.041685    0.077831     0.059758\n",
       "9837   10460    0.015735    0.077828     0.046781\n",
       "9838   10462    0.021403    0.077829     0.049616\n",
       "9839   10463    0.116266    0.077826     0.097046\n",
       "\n",
       "[9840 rows x 4 columns]"
      ]
     },
     "execution_count": 184,
     "metadata": {},
     "output_type": "execute_result"
    }
   ],
   "source": [
    "df"
   ]
  },
  {
   "cell_type": "code",
   "execution_count": 185,
   "metadata": {},
   "outputs": [],
   "source": [
    "price_df = pd.DataFrame(sorted_orders.groupby('itemID')['salesPrice'].mean())\n",
    "price_df.reset_index(inplace = True)\n",
    "items_df = pd.DataFrame(items['itemID'], columns = ['itemID'])"
   ]
  },
  {
   "cell_type": "code",
   "execution_count": 186,
   "metadata": {},
   "outputs": [],
   "source": [
    "df['price'] = price_df['salesPrice']\n",
    "df = items_df.join(df.set_index('itemID'), on = 'itemID')\n",
    "df['promotion'] = infos['promotion']"
   ]
  },
  {
   "cell_type": "code",
   "execution_count": 187,
   "metadata": {},
   "outputs": [
    {
     "data": {
      "text/html": [
       "<div>\n",
       "<style scoped>\n",
       "    .dataframe tbody tr th:only-of-type {\n",
       "        vertical-align: middle;\n",
       "    }\n",
       "\n",
       "    .dataframe tbody tr th {\n",
       "        vertical-align: top;\n",
       "    }\n",
       "\n",
       "    .dataframe thead th {\n",
       "        text-align: right;\n",
       "    }\n",
       "</style>\n",
       "<table border=\"1\" class=\"dataframe\">\n",
       "  <thead>\n",
       "    <tr style=\"text-align: right;\">\n",
       "      <th></th>\n",
       "      <th>itemID</th>\n",
       "      <th>demand_tsb</th>\n",
       "      <th>demand_ets</th>\n",
       "      <th>demand_mean</th>\n",
       "      <th>price</th>\n",
       "      <th>promotion</th>\n",
       "    </tr>\n",
       "  </thead>\n",
       "  <tbody>\n",
       "    <tr>\n",
       "      <th>0</th>\n",
       "      <td>1</td>\n",
       "      <td>49.158814</td>\n",
       "      <td>53.863913</td>\n",
       "      <td>51.511363</td>\n",
       "      <td>3.111661</td>\n",
       "      <td>NaN</td>\n",
       "    </tr>\n",
       "    <tr>\n",
       "      <th>1</th>\n",
       "      <td>2</td>\n",
       "      <td>0.364125</td>\n",
       "      <td>0.392323</td>\n",
       "      <td>0.378224</td>\n",
       "      <td>9.150000</td>\n",
       "      <td>NaN</td>\n",
       "    </tr>\n",
       "    <tr>\n",
       "      <th>2</th>\n",
       "      <td>3</td>\n",
       "      <td>29.292589</td>\n",
       "      <td>25.701549</td>\n",
       "      <td>27.497069</td>\n",
       "      <td>12.733253</td>\n",
       "      <td>NaN</td>\n",
       "    </tr>\n",
       "    <tr>\n",
       "      <th>3</th>\n",
       "      <td>4</td>\n",
       "      <td>17.916622</td>\n",
       "      <td>15.419364</td>\n",
       "      <td>16.667993</td>\n",
       "      <td>13.798895</td>\n",
       "      <td>NaN</td>\n",
       "    </tr>\n",
       "    <tr>\n",
       "      <th>4</th>\n",
       "      <td>5</td>\n",
       "      <td>13.570625</td>\n",
       "      <td>14.085350</td>\n",
       "      <td>13.827988</td>\n",
       "      <td>7.735556</td>\n",
       "      <td>NaN</td>\n",
       "    </tr>\n",
       "    <tr>\n",
       "      <th>...</th>\n",
       "      <td>...</td>\n",
       "      <td>...</td>\n",
       "      <td>...</td>\n",
       "      <td>...</td>\n",
       "      <td>...</td>\n",
       "      <td>...</td>\n",
       "    </tr>\n",
       "    <tr>\n",
       "      <th>10458</th>\n",
       "      <td>10459</td>\n",
       "      <td>0.041685</td>\n",
       "      <td>0.077831</td>\n",
       "      <td>0.059758</td>\n",
       "      <td>14.710000</td>\n",
       "      <td>NaN</td>\n",
       "    </tr>\n",
       "    <tr>\n",
       "      <th>10459</th>\n",
       "      <td>10460</td>\n",
       "      <td>0.015735</td>\n",
       "      <td>0.077828</td>\n",
       "      <td>0.046781</td>\n",
       "      <td>325.670000</td>\n",
       "      <td>NaN</td>\n",
       "    </tr>\n",
       "    <tr>\n",
       "      <th>10460</th>\n",
       "      <td>10461</td>\n",
       "      <td>NaN</td>\n",
       "      <td>NaN</td>\n",
       "      <td>NaN</td>\n",
       "      <td>NaN</td>\n",
       "      <td>NaN</td>\n",
       "    </tr>\n",
       "    <tr>\n",
       "      <th>10461</th>\n",
       "      <td>10462</td>\n",
       "      <td>0.021403</td>\n",
       "      <td>0.077829</td>\n",
       "      <td>0.049616</td>\n",
       "      <td>304.300000</td>\n",
       "      <td>NaN</td>\n",
       "    </tr>\n",
       "    <tr>\n",
       "      <th>10462</th>\n",
       "      <td>10463</td>\n",
       "      <td>0.116266</td>\n",
       "      <td>0.077826</td>\n",
       "      <td>0.097046</td>\n",
       "      <td>282.160000</td>\n",
       "      <td>NaN</td>\n",
       "    </tr>\n",
       "  </tbody>\n",
       "</table>\n",
       "<p>10463 rows × 6 columns</p>\n",
       "</div>"
      ],
      "text/plain": [
       "       itemID  demand_tsb  demand_ets  demand_mean       price promotion\n",
       "0           1   49.158814   53.863913    51.511363    3.111661       NaN\n",
       "1           2    0.364125    0.392323     0.378224    9.150000       NaN\n",
       "2           3   29.292589   25.701549    27.497069   12.733253       NaN\n",
       "3           4   17.916622   15.419364    16.667993   13.798895       NaN\n",
       "4           5   13.570625   14.085350    13.827988    7.735556       NaN\n",
       "...       ...         ...         ...          ...         ...       ...\n",
       "10458   10459    0.041685    0.077831     0.059758   14.710000       NaN\n",
       "10459   10460    0.015735    0.077828     0.046781  325.670000       NaN\n",
       "10460   10461         NaN         NaN          NaN         NaN       NaN\n",
       "10461   10462    0.021403    0.077829     0.049616  304.300000       NaN\n",
       "10462   10463    0.116266    0.077826     0.097046  282.160000       NaN\n",
       "\n",
       "[10463 rows x 6 columns]"
      ]
     },
     "execution_count": 187,
     "metadata": {},
     "output_type": "execute_result"
    }
   ],
   "source": [
    "df"
   ]
  },
  {
   "cell_type": "code",
   "execution_count": 188,
   "metadata": {},
   "outputs": [],
   "source": [
    "df['price'].fillna(value = 0, inplace = True)"
   ]
  },
  {
   "cell_type": "code",
   "execution_count": 189,
   "metadata": {},
   "outputs": [],
   "source": [
    "df_copy = df.copy()"
   ]
  },
  {
   "cell_type": "code",
   "execution_count": 190,
   "metadata": {},
   "outputs": [],
   "source": [
    "df.fillna(-1, inplace = True)"
   ]
  },
  {
   "cell_type": "code",
   "execution_count": 191,
   "metadata": {},
   "outputs": [],
   "source": [
    "df['promotion'] = [str(x) for x in df['promotion']]"
   ]
  },
  {
   "cell_type": "code",
   "execution_count": 192,
   "metadata": {},
   "outputs": [
    {
     "name": "stderr",
     "output_type": "stream",
     "text": [
      "100%|██████████████████████████████████████████████████████████████████████████| 10463/10463 [00:07<00:00, 1361.22it/s]\n"
     ]
    }
   ],
   "source": [
    "for i in tqdm(list(range(len(df)))):\n",
    "    \n",
    "    item = df.iloc[i,:]\n",
    "    \n",
    "    # for those items in the promotion, round up. otherwise, round normally\n",
    "    if item['promotion'] != '-1':\n",
    "        df.loc[i,'demand_mean'] = np.ceil(df.loc[i,'demand_mean'])\n",
    "    else:\n",
    "        df.loc[i,'demand_mean'] = round(df.loc[i,'demand_mean'])\n",
    "        \n",
    "    # for those unsold items not in the promotion, predict 0. otherwise predict 1\n",
    "    if (item['demand_mean'] == -1) and (item['promotion'] == '-1'):\n",
    "        df.loc[i,'demand_mean'] = 0\n",
    "    elif (item['demand_mean'] == -1) and (item['promotion'] != '-1'):\n",
    "        df.loc[i,'demand_mean'] = 1\n",
    "    else:\n",
    "        pass\n",
    "    \n",
    "    # for one day promotion items that are predicted 0, make them 1\n",
    "    if (item['demand_mean'] == 0) and (len(item['promotion']) == 10):\n",
    "        df.loc[i,'demand_mean'] = 1\n",
    "    # for two day promotion items that are predicted <= 1, make them 2\n",
    "    elif (item['demand_mean'] <= 1) and (len(item['promotion']) == 21):\n",
    "        df.loc[i,'demand_mean'] = 2\n",
    "    # for three day promotion items that are predicted <= 2, make them 3\n",
    "    elif (item['demand_mean'] <= 2) and (len(item['promotion']) == 32):\n",
    "        df.loc[i,'demand_mean'] = 3\n",
    "    else:\n",
    "        pass\n"
   ]
  },
  {
   "cell_type": "code",
   "execution_count": 193,
   "metadata": {},
   "outputs": [
    {
     "name": "stdout",
     "output_type": "stream",
     "text": [
      "<class 'pandas.core.frame.DataFrame'>\n",
      "RangeIndex: 10463 entries, 0 to 10462\n",
      "Data columns (total 6 columns):\n",
      " #   Column       Non-Null Count  Dtype  \n",
      "---  ------       --------------  -----  \n",
      " 0   itemID       10463 non-null  int64  \n",
      " 1   demand_tsb   10463 non-null  float64\n",
      " 2   demand_ets   10463 non-null  float64\n",
      " 3   demand_mean  10463 non-null  float64\n",
      " 4   price        10463 non-null  float64\n",
      " 5   promotion    10463 non-null  object \n",
      "dtypes: float64(4), int64(1), object(1)\n",
      "memory usage: 490.6+ KB\n"
     ]
    }
   ],
   "source": [
    "df.info()"
   ]
  },
  {
   "cell_type": "code",
   "execution_count": 194,
   "metadata": {},
   "outputs": [
    {
     "data": {
      "text/plain": [
       "8386552.693521747"
      ]
     },
     "execution_count": 194,
     "metadata": {},
     "output_type": "execute_result"
    }
   ],
   "source": [
    "(df_copy['demand_mean'] * df_copy['price']).sum()"
   ]
  },
  {
   "cell_type": "code",
   "execution_count": 200,
   "metadata": {},
   "outputs": [
    {
     "data": {
      "text/plain": [
       "299604.0"
      ]
     },
     "execution_count": 200,
     "metadata": {},
     "output_type": "execute_result"
    }
   ],
   "source": [
    "df['demand_mean'].sum()"
   ]
  },
  {
   "cell_type": "markdown",
   "metadata": {},
   "source": [
    "Can do the same preprocessing for `demand_tsb` and `demand_ets` but nah."
   ]
  },
  {
   "cell_type": "code",
   "execution_count": 207,
   "metadata": {},
   "outputs": [],
   "source": [
    "df['demand_mean'] = [int(x) for x in df['demand_mean']]"
   ]
  },
  {
   "cell_type": "code",
   "execution_count": 210,
   "metadata": {},
   "outputs": [],
   "source": [
    "submission = df[['itemID', 'demand_mean']]"
   ]
  },
  {
   "cell_type": "code",
   "execution_count": 212,
   "metadata": {},
   "outputs": [
    {
     "name": "stderr",
     "output_type": "stream",
     "text": [
      "C:\\Anaconda3\\envs\\nlp_course\\lib\\site-packages\\pandas\\core\\frame.py:4133: SettingWithCopyWarning: \n",
      "A value is trying to be set on a copy of a slice from a DataFrame\n",
      "\n",
      "See the caveats in the documentation: https://pandas.pydata.org/pandas-docs/stable/user_guide/indexing.html#returning-a-view-versus-a-copy\n",
      "  errors=errors,\n"
     ]
    }
   ],
   "source": [
    "submission.rename({'demand_mean': 'demandPrediction'}, axis = 1, inplace = True)"
   ]
  },
  {
   "cell_type": "code",
   "execution_count": 214,
   "metadata": {},
   "outputs": [
    {
     "data": {
      "text/html": [
       "<div>\n",
       "<style scoped>\n",
       "    .dataframe tbody tr th:only-of-type {\n",
       "        vertical-align: middle;\n",
       "    }\n",
       "\n",
       "    .dataframe tbody tr th {\n",
       "        vertical-align: top;\n",
       "    }\n",
       "\n",
       "    .dataframe thead th {\n",
       "        text-align: right;\n",
       "    }\n",
       "</style>\n",
       "<table border=\"1\" class=\"dataframe\">\n",
       "  <thead>\n",
       "    <tr style=\"text-align: right;\">\n",
       "      <th></th>\n",
       "      <th>itemID</th>\n",
       "      <th>demandPrediction</th>\n",
       "    </tr>\n",
       "  </thead>\n",
       "  <tbody>\n",
       "    <tr>\n",
       "      <th>0</th>\n",
       "      <td>1</td>\n",
       "      <td>52</td>\n",
       "    </tr>\n",
       "    <tr>\n",
       "      <th>1</th>\n",
       "      <td>2</td>\n",
       "      <td>0</td>\n",
       "    </tr>\n",
       "    <tr>\n",
       "      <th>2</th>\n",
       "      <td>3</td>\n",
       "      <td>27</td>\n",
       "    </tr>\n",
       "    <tr>\n",
       "      <th>3</th>\n",
       "      <td>4</td>\n",
       "      <td>17</td>\n",
       "    </tr>\n",
       "    <tr>\n",
       "      <th>4</th>\n",
       "      <td>5</td>\n",
       "      <td>14</td>\n",
       "    </tr>\n",
       "    <tr>\n",
       "      <th>...</th>\n",
       "      <td>...</td>\n",
       "      <td>...</td>\n",
       "    </tr>\n",
       "    <tr>\n",
       "      <th>10458</th>\n",
       "      <td>10459</td>\n",
       "      <td>0</td>\n",
       "    </tr>\n",
       "    <tr>\n",
       "      <th>10459</th>\n",
       "      <td>10460</td>\n",
       "      <td>0</td>\n",
       "    </tr>\n",
       "    <tr>\n",
       "      <th>10460</th>\n",
       "      <td>10461</td>\n",
       "      <td>0</td>\n",
       "    </tr>\n",
       "    <tr>\n",
       "      <th>10461</th>\n",
       "      <td>10462</td>\n",
       "      <td>0</td>\n",
       "    </tr>\n",
       "    <tr>\n",
       "      <th>10462</th>\n",
       "      <td>10463</td>\n",
       "      <td>0</td>\n",
       "    </tr>\n",
       "  </tbody>\n",
       "</table>\n",
       "<p>10463 rows × 2 columns</p>\n",
       "</div>"
      ],
      "text/plain": [
       "       itemID  demandPrediction\n",
       "0           1                52\n",
       "1           2                 0\n",
       "2           3                27\n",
       "3           4                17\n",
       "4           5                14\n",
       "...       ...               ...\n",
       "10458   10459                 0\n",
       "10459   10460                 0\n",
       "10460   10461                 0\n",
       "10461   10462                 0\n",
       "10462   10463                 0\n",
       "\n",
       "[10463 rows x 2 columns]"
      ]
     },
     "execution_count": 214,
     "metadata": {},
     "output_type": "execute_result"
    }
   ],
   "source": [
    "submission"
   ]
  },
  {
   "cell_type": "code",
   "execution_count": 216,
   "metadata": {},
   "outputs": [],
   "source": [
    "submission.to_csv('veryfinal.csv', sep = '|', index = False)"
   ]
  },
  {
   "cell_type": "code",
   "execution_count": 217,
   "metadata": {},
   "outputs": [],
   "source": [
    "test = pd.read_csv('../DMC-2020-Task/Submissions/Uni_APU_2.csv', sep = '|')"
   ]
  },
  {
   "cell_type": "code",
   "execution_count": 220,
   "metadata": {},
   "outputs": [
    {
     "data": {
      "text/html": [
       "<div>\n",
       "<style scoped>\n",
       "    .dataframe tbody tr th:only-of-type {\n",
       "        vertical-align: middle;\n",
       "    }\n",
       "\n",
       "    .dataframe tbody tr th {\n",
       "        vertical-align: top;\n",
       "    }\n",
       "\n",
       "    .dataframe thead th {\n",
       "        text-align: right;\n",
       "    }\n",
       "</style>\n",
       "<table border=\"1\" class=\"dataframe\">\n",
       "  <thead>\n",
       "    <tr style=\"text-align: right;\">\n",
       "      <th></th>\n",
       "      <th>itemID</th>\n",
       "      <th>demandPrediction</th>\n",
       "    </tr>\n",
       "  </thead>\n",
       "  <tbody>\n",
       "    <tr>\n",
       "      <th>0</th>\n",
       "      <td>1</td>\n",
       "      <td>52</td>\n",
       "    </tr>\n",
       "    <tr>\n",
       "      <th>1</th>\n",
       "      <td>2</td>\n",
       "      <td>0</td>\n",
       "    </tr>\n",
       "    <tr>\n",
       "      <th>2</th>\n",
       "      <td>3</td>\n",
       "      <td>27</td>\n",
       "    </tr>\n",
       "    <tr>\n",
       "      <th>3</th>\n",
       "      <td>4</td>\n",
       "      <td>17</td>\n",
       "    </tr>\n",
       "    <tr>\n",
       "      <th>4</th>\n",
       "      <td>5</td>\n",
       "      <td>14</td>\n",
       "    </tr>\n",
       "    <tr>\n",
       "      <th>...</th>\n",
       "      <td>...</td>\n",
       "      <td>...</td>\n",
       "    </tr>\n",
       "    <tr>\n",
       "      <th>10458</th>\n",
       "      <td>10459</td>\n",
       "      <td>0</td>\n",
       "    </tr>\n",
       "    <tr>\n",
       "      <th>10459</th>\n",
       "      <td>10460</td>\n",
       "      <td>0</td>\n",
       "    </tr>\n",
       "    <tr>\n",
       "      <th>10460</th>\n",
       "      <td>10461</td>\n",
       "      <td>0</td>\n",
       "    </tr>\n",
       "    <tr>\n",
       "      <th>10461</th>\n",
       "      <td>10462</td>\n",
       "      <td>0</td>\n",
       "    </tr>\n",
       "    <tr>\n",
       "      <th>10462</th>\n",
       "      <td>10463</td>\n",
       "      <td>0</td>\n",
       "    </tr>\n",
       "  </tbody>\n",
       "</table>\n",
       "<p>10463 rows × 2 columns</p>\n",
       "</div>"
      ],
      "text/plain": [
       "       itemID  demandPrediction\n",
       "0           1                52\n",
       "1           2                 0\n",
       "2           3                27\n",
       "3           4                17\n",
       "4           5                14\n",
       "...       ...               ...\n",
       "10458   10459                 0\n",
       "10459   10460                 0\n",
       "10460   10461                 0\n",
       "10461   10462                 0\n",
       "10462   10463                 0\n",
       "\n",
       "[10463 rows x 2 columns]"
      ]
     },
     "execution_count": 220,
     "metadata": {},
     "output_type": "execute_result"
    }
   ],
   "source": [
    "test"
   ]
  },
  {
   "cell_type": "markdown",
   "metadata": {},
   "source": [
    "## Final iteration of the forecasts, using the mean of TSB and ETS, was submitted on 17-June-2020 12:08 PM"
   ]
  },
  {
   "cell_type": "code",
   "execution_count": null,
   "metadata": {},
   "outputs": [],
   "source": []
  }
 ],
 "metadata": {
  "kernelspec": {
   "display_name": "Python 3.7.5 64-bit ('nlp_course': conda)",
   "language": "python",
   "name": "python37564bitnlpcourseconda86a5b05d218b4c1395806f05482c8d94"
  },
  "language_info": {
   "codemirror_mode": {
    "name": "ipython",
    "version": 3
   },
   "file_extension": ".py",
   "mimetype": "text/x-python",
   "name": "python",
   "nbconvert_exporter": "python",
   "pygments_lexer": "ipython3",
   "version": "3.7.5"
  }
 },
 "nbformat": 4,
 "nbformat_minor": 2
}
