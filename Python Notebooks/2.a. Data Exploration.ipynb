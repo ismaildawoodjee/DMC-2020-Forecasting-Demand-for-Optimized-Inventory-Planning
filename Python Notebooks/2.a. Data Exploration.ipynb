{
 "cells": [
  {
   "cell_type": "markdown",
   "metadata": {},
   "source": [
    "### Findings (what did I find in this notebook?)\n",
    "\n",
    "- The `simulationPrice` (the price of a product in the simulation period) of items are highly right-skewed, with over **8500** items having a price **less than 100**.\n",
    "- Prices ranged from a minimum of **0.38** up to **9055.07**.\n",
    "- Out of the **1843** promoted items, **1653** items were promoted on one day, **157** items were promoted on two different days, and **33** items were promoted on three different days.\n",
    "- Items that were promoted more than once have a `simulationPrice` less than **365**.\n",
    "- For items with more than one promotion date, the second and third dates occur *after* the first and second dates.\n",
    "- A total of 14 unique promotion dates were found over a continuous two-week period, from **2018-06-30** to **2018-07-13**. Summer sale? Summer items?\n",
    "\n",
    "### Tasks (what did I do in this notebook?)\n",
    "\n",
    "- Explored `infos` dataset by plotting distributions of `simulationPrice` and finding unique promotion dates.\n",
    "- Separated promoted items from non-promoted items to analyse them separately. Furthermore, divided promoted items into 3 data subsets based on number of days they were promoted.\n",
    "- Made separate promotion date columns for items with more than one promotion day.\n",
    "- Converted promotion dates from object to datetime type.\n",
    "- Saved the three data subsets (`promo1`, `promo2`, `promo3`) in csv format to the home directory (not the original DMC-2020 folder).\n",
    "\n",
    "**Ismail Dawoodjee 12:17 PM 27-May-2020**"
   ]
  },
  {
   "cell_type": "markdown",
   "metadata": {},
   "source": [
    "# Data Exploration Part 1\n",
    "\n",
    "This notebook will focus on exploring the `infos` dataset. Import analysis and visualization libraries, and read in the pickled version of the `infos` dataset."
   ]
  },
  {
   "cell_type": "code",
   "execution_count": 1,
   "metadata": {},
   "outputs": [],
   "source": [
    "import numpy as np\n",
    "import pandas as pd\n",
    "import seaborn as sns\n",
    "import matplotlib.pyplot as plt\n",
    "%matplotlib inline"
   ]
  },
  {
   "cell_type": "code",
   "execution_count": 2,
   "metadata": {},
   "outputs": [],
   "source": [
    "infos = pd.read_pickle('infos.pkl')"
   ]
  },
  {
   "cell_type": "code",
   "execution_count": 3,
   "metadata": {},
   "outputs": [
    {
     "data": {
      "text/plain": [
       "(10463, 3)"
      ]
     },
     "execution_count": 3,
     "metadata": {},
     "output_type": "execute_result"
    }
   ],
   "source": [
    "infos.shape"
   ]
  },
  {
   "cell_type": "code",
   "execution_count": 4,
   "metadata": {},
   "outputs": [
    {
     "data": {
      "text/plain": [
       "Index(['itemID', 'simulationPrice', 'promotion'], dtype='object')"
      ]
     },
     "execution_count": 4,
     "metadata": {},
     "output_type": "execute_result"
    }
   ],
   "source": [
    "infos.columns"
   ]
  },
  {
   "cell_type": "code",
   "execution_count": 5,
   "metadata": {},
   "outputs": [
    {
     "name": "stdout",
     "output_type": "stream",
     "text": [
      "<class 'pandas.core.frame.DataFrame'>\n",
      "RangeIndex: 10463 entries, 0 to 10462\n",
      "Data columns (total 3 columns):\n",
      " #   Column           Non-Null Count  Dtype  \n",
      "---  ------           --------------  -----  \n",
      " 0   itemID           10463 non-null  int64  \n",
      " 1   simulationPrice  10463 non-null  float64\n",
      " 2   promotion        1843 non-null   object \n",
      "dtypes: float64(1), int64(1), object(1)\n",
      "memory usage: 245.4+ KB\n"
     ]
    }
   ],
   "source": [
    "infos.info()"
   ]
  },
  {
   "cell_type": "code",
   "execution_count": 6,
   "metadata": {},
   "outputs": [
    {
     "data": {
      "text/html": [
       "<div>\n",
       "<style scoped>\n",
       "    .dataframe tbody tr th:only-of-type {\n",
       "        vertical-align: middle;\n",
       "    }\n",
       "\n",
       "    .dataframe tbody tr th {\n",
       "        vertical-align: top;\n",
       "    }\n",
       "\n",
       "    .dataframe thead th {\n",
       "        text-align: right;\n",
       "    }\n",
       "</style>\n",
       "<table border=\"1\" class=\"dataframe\">\n",
       "  <thead>\n",
       "    <tr style=\"text-align: right;\">\n",
       "      <th></th>\n",
       "      <th>itemID</th>\n",
       "      <th>simulationPrice</th>\n",
       "    </tr>\n",
       "  </thead>\n",
       "  <tbody>\n",
       "    <tr>\n",
       "      <th>count</th>\n",
       "      <td>10463.000000</td>\n",
       "      <td>10463.000000</td>\n",
       "    </tr>\n",
       "    <tr>\n",
       "      <th>mean</th>\n",
       "      <td>5232.000000</td>\n",
       "      <td>122.010808</td>\n",
       "    </tr>\n",
       "    <tr>\n",
       "      <th>std</th>\n",
       "      <td>3020.552267</td>\n",
       "      <td>469.701306</td>\n",
       "    </tr>\n",
       "    <tr>\n",
       "      <th>min</th>\n",
       "      <td>1.000000</td>\n",
       "      <td>0.380000</td>\n",
       "    </tr>\n",
       "    <tr>\n",
       "      <th>25%</th>\n",
       "      <td>2616.500000</td>\n",
       "      <td>8.990000</td>\n",
       "    </tr>\n",
       "    <tr>\n",
       "      <th>50%</th>\n",
       "      <td>5232.000000</td>\n",
       "      <td>23.830000</td>\n",
       "    </tr>\n",
       "    <tr>\n",
       "      <th>75%</th>\n",
       "      <td>7847.500000</td>\n",
       "      <td>63.125000</td>\n",
       "    </tr>\n",
       "    <tr>\n",
       "      <th>max</th>\n",
       "      <td>10463.000000</td>\n",
       "      <td>9055.070000</td>\n",
       "    </tr>\n",
       "  </tbody>\n",
       "</table>\n",
       "</div>"
      ],
      "text/plain": [
       "             itemID  simulationPrice\n",
       "count  10463.000000     10463.000000\n",
       "mean    5232.000000       122.010808\n",
       "std     3020.552267       469.701306\n",
       "min        1.000000         0.380000\n",
       "25%     2616.500000         8.990000\n",
       "50%     5232.000000        23.830000\n",
       "75%     7847.500000        63.125000\n",
       "max    10463.000000      9055.070000"
      ]
     },
     "execution_count": 6,
     "metadata": {},
     "output_type": "execute_result"
    }
   ],
   "source": [
    "infos.describe()"
   ]
  },
  {
   "cell_type": "code",
   "execution_count": 7,
   "metadata": {},
   "outputs": [
    {
     "data": {
      "text/html": [
       "<div>\n",
       "<style scoped>\n",
       "    .dataframe tbody tr th:only-of-type {\n",
       "        vertical-align: middle;\n",
       "    }\n",
       "\n",
       "    .dataframe tbody tr th {\n",
       "        vertical-align: top;\n",
       "    }\n",
       "\n",
       "    .dataframe thead th {\n",
       "        text-align: right;\n",
       "    }\n",
       "</style>\n",
       "<table border=\"1\" class=\"dataframe\">\n",
       "  <thead>\n",
       "    <tr style=\"text-align: right;\">\n",
       "      <th></th>\n",
       "      <th>itemID</th>\n",
       "      <th>simulationPrice</th>\n",
       "      <th>promotion</th>\n",
       "    </tr>\n",
       "  </thead>\n",
       "  <tbody>\n",
       "    <tr>\n",
       "      <th>0</th>\n",
       "      <td>1</td>\n",
       "      <td>3.43</td>\n",
       "      <td>NaN</td>\n",
       "    </tr>\n",
       "    <tr>\n",
       "      <th>1</th>\n",
       "      <td>2</td>\n",
       "      <td>9.15</td>\n",
       "      <td>NaN</td>\n",
       "    </tr>\n",
       "    <tr>\n",
       "      <th>2</th>\n",
       "      <td>3</td>\n",
       "      <td>14.04</td>\n",
       "      <td>NaN</td>\n",
       "    </tr>\n",
       "    <tr>\n",
       "      <th>3</th>\n",
       "      <td>4</td>\n",
       "      <td>14.10</td>\n",
       "      <td>NaN</td>\n",
       "    </tr>\n",
       "    <tr>\n",
       "      <th>4</th>\n",
       "      <td>5</td>\n",
       "      <td>7.48</td>\n",
       "      <td>NaN</td>\n",
       "    </tr>\n",
       "    <tr>\n",
       "      <th>...</th>\n",
       "      <td>...</td>\n",
       "      <td>...</td>\n",
       "      <td>...</td>\n",
       "    </tr>\n",
       "    <tr>\n",
       "      <th>10458</th>\n",
       "      <td>10459</td>\n",
       "      <td>14.71</td>\n",
       "      <td>NaN</td>\n",
       "    </tr>\n",
       "    <tr>\n",
       "      <th>10459</th>\n",
       "      <td>10460</td>\n",
       "      <td>325.67</td>\n",
       "      <td>NaN</td>\n",
       "    </tr>\n",
       "    <tr>\n",
       "      <th>10460</th>\n",
       "      <td>10461</td>\n",
       "      <td>190.53</td>\n",
       "      <td>NaN</td>\n",
       "    </tr>\n",
       "    <tr>\n",
       "      <th>10461</th>\n",
       "      <td>10462</td>\n",
       "      <td>304.30</td>\n",
       "      <td>NaN</td>\n",
       "    </tr>\n",
       "    <tr>\n",
       "      <th>10462</th>\n",
       "      <td>10463</td>\n",
       "      <td>282.16</td>\n",
       "      <td>NaN</td>\n",
       "    </tr>\n",
       "  </tbody>\n",
       "</table>\n",
       "<p>10463 rows × 3 columns</p>\n",
       "</div>"
      ],
      "text/plain": [
       "       itemID  simulationPrice promotion\n",
       "0           1             3.43       NaN\n",
       "1           2             9.15       NaN\n",
       "2           3            14.04       NaN\n",
       "3           4            14.10       NaN\n",
       "4           5             7.48       NaN\n",
       "...       ...              ...       ...\n",
       "10458   10459            14.71       NaN\n",
       "10459   10460           325.67       NaN\n",
       "10460   10461           190.53       NaN\n",
       "10461   10462           304.30       NaN\n",
       "10462   10463           282.16       NaN\n",
       "\n",
       "[10463 rows x 3 columns]"
      ]
     },
     "execution_count": 7,
     "metadata": {},
     "output_type": "execute_result"
    }
   ],
   "source": [
    "infos"
   ]
  },
  {
   "cell_type": "code",
   "execution_count": 231,
   "metadata": {},
   "outputs": [
    {
     "data": {
      "text/plain": [
       "8639"
      ]
     },
     "execution_count": 231,
     "metadata": {},
     "output_type": "execute_result"
    }
   ],
   "source": [
    "(infos['simulationPrice'] < 100).sum()"
   ]
  },
  {
   "cell_type": "code",
   "execution_count": 169,
   "metadata": {},
   "outputs": [
    {
     "data": {
      "text/plain": [
       "<matplotlib.axes._subplots.AxesSubplot at 0x1d433771848>"
      ]
     },
     "execution_count": 169,
     "metadata": {},
     "output_type": "execute_result"
    },
    {
     "data": {
      "image/png": "[encoded data removed]",
      "text/plain": [
       "<Figure size 432x288 with 1 Axes>"
      ]
     },
     "metadata": {
      "needs_background": "light"
     },
     "output_type": "display_data"
    }
   ],
   "source": [
    "infos['simulationPrice'].plot.hist(bins = 50)"
   ]
  },
  {
   "cell_type": "code",
   "execution_count": 163,
   "metadata": {},
   "outputs": [
    {
     "data": {
      "text/plain": [
       "<matplotlib.axes._subplots.AxesSubplot at 0x1d43329cf88>"
      ]
     },
     "execution_count": 163,
     "metadata": {},
     "output_type": "execute_result"
    },
    {
     "data": {
      "image/png": "[encoded data removed]",
      "text/plain": [
       "<Figure size 432x288 with 1 Axes>"
      ]
     },
     "metadata": {
      "needs_background": "light"
     },
     "output_type": "display_data"
    }
   ],
   "source": [
    "sns.distplot(infos['simulationPrice'], kde = False)"
   ]
  },
  {
   "cell_type": "markdown",
   "metadata": {},
   "source": [
    "- Over 10000 items have a `simulationPrice_infos` less than 1000, with the distribution being highly right-skewed."
   ]
  },
  {
   "cell_type": "code",
   "execution_count": 47,
   "metadata": {},
   "outputs": [],
   "source": [
    "promo = infos[infos['promotion'].isnull() == False]"
   ]
  },
  {
   "cell_type": "code",
   "execution_count": 13,
   "metadata": {},
   "outputs": [
    {
     "data": {
      "text/html": [
       "<div>\n",
       "<style scoped>\n",
       "    .dataframe tbody tr th:only-of-type {\n",
       "        vertical-align: middle;\n",
       "    }\n",
       "\n",
       "    .dataframe tbody tr th {\n",
       "        vertical-align: top;\n",
       "    }\n",
       "\n",
       "    .dataframe thead th {\n",
       "        text-align: right;\n",
       "    }\n",
       "</style>\n",
       "<table border=\"1\" class=\"dataframe\">\n",
       "  <thead>\n",
       "    <tr style=\"text-align: right;\">\n",
       "      <th></th>\n",
       "      <th>itemID</th>\n",
       "      <th>simulationPrice</th>\n",
       "      <th>promotion</th>\n",
       "    </tr>\n",
       "  </thead>\n",
       "  <tbody>\n",
       "    <tr>\n",
       "      <th>25</th>\n",
       "      <td>26</td>\n",
       "      <td>14.27</td>\n",
       "      <td>2018-07-13</td>\n",
       "    </tr>\n",
       "    <tr>\n",
       "      <th>26</th>\n",
       "      <td>27</td>\n",
       "      <td>1.64</td>\n",
       "      <td>2018-07-13</td>\n",
       "    </tr>\n",
       "    <tr>\n",
       "      <th>28</th>\n",
       "      <td>29</td>\n",
       "      <td>56.13</td>\n",
       "      <td>2018-07-13</td>\n",
       "    </tr>\n",
       "    <tr>\n",
       "      <th>34</th>\n",
       "      <td>35</td>\n",
       "      <td>337.84</td>\n",
       "      <td>2018-07-01,2018-07-02,2018-07-13</td>\n",
       "    </tr>\n",
       "    <tr>\n",
       "      <th>57</th>\n",
       "      <td>58</td>\n",
       "      <td>277.72</td>\n",
       "      <td>2018-07-13</td>\n",
       "    </tr>\n",
       "    <tr>\n",
       "      <th>...</th>\n",
       "      <td>...</td>\n",
       "      <td>...</td>\n",
       "      <td>...</td>\n",
       "    </tr>\n",
       "    <tr>\n",
       "      <th>10446</th>\n",
       "      <td>10447</td>\n",
       "      <td>44.99</td>\n",
       "      <td>2018-07-10</td>\n",
       "    </tr>\n",
       "    <tr>\n",
       "      <th>10447</th>\n",
       "      <td>10448</td>\n",
       "      <td>63.00</td>\n",
       "      <td>2018-07-10</td>\n",
       "    </tr>\n",
       "    <tr>\n",
       "      <th>10449</th>\n",
       "      <td>10450</td>\n",
       "      <td>44.43</td>\n",
       "      <td>2018-07-10</td>\n",
       "    </tr>\n",
       "    <tr>\n",
       "      <th>10454</th>\n",
       "      <td>10455</td>\n",
       "      <td>62.84</td>\n",
       "      <td>2018-07-11</td>\n",
       "    </tr>\n",
       "    <tr>\n",
       "      <th>10456</th>\n",
       "      <td>10457</td>\n",
       "      <td>22.71</td>\n",
       "      <td>2018-07-11</td>\n",
       "    </tr>\n",
       "  </tbody>\n",
       "</table>\n",
       "<p>1843 rows × 3 columns</p>\n",
       "</div>"
      ],
      "text/plain": [
       "       itemID  simulationPrice                         promotion\n",
       "25         26            14.27                        2018-07-13\n",
       "26         27             1.64                        2018-07-13\n",
       "28         29            56.13                        2018-07-13\n",
       "34         35           337.84  2018-07-01,2018-07-02,2018-07-13\n",
       "57         58           277.72                        2018-07-13\n",
       "...       ...              ...                               ...\n",
       "10446   10447            44.99                        2018-07-10\n",
       "10447   10448            63.00                        2018-07-10\n",
       "10449   10450            44.43                        2018-07-10\n",
       "10454   10455            62.84                        2018-07-11\n",
       "10456   10457            22.71                        2018-07-11\n",
       "\n",
       "[1843 rows x 3 columns]"
      ]
     },
     "execution_count": 13,
     "metadata": {},
     "output_type": "execute_result"
    }
   ],
   "source": [
    "promo"
   ]
  },
  {
   "cell_type": "code",
   "execution_count": 17,
   "metadata": {},
   "outputs": [
    {
     "data": {
      "text/plain": [
       "[1653, 157, 33]"
      ]
     },
     "execution_count": 17,
     "metadata": {},
     "output_type": "execute_result"
    }
   ],
   "source": [
    "[(promo['promotion'].str.len() == 10).sum(), \n",
    "(promo['promotion'].str.len() == 21).sum(), \n",
    "(promo['promotion'].str.len() == 32).sum()]"
   ]
  },
  {
   "cell_type": "markdown",
   "metadata": {},
   "source": [
    "- Out of all the promoted items, **1653** items were promoted once, **157** items were promoted twice, and **33** items were promoted three times."
   ]
  },
  {
   "cell_type": "code",
   "execution_count": 48,
   "metadata": {},
   "outputs": [],
   "source": [
    "promo1 = promo[promo['promotion'].str.len() == 10]\n",
    "promo2 = promo[promo['promotion'].str.len() == 21]\n",
    "promo3 = promo[promo['promotion'].str.len() == 32]"
   ]
  },
  {
   "cell_type": "markdown",
   "metadata": {},
   "source": [
    "- Look at the `simulationPrice` range of promoted items."
   ]
  },
  {
   "cell_type": "code",
   "execution_count": 40,
   "metadata": {},
   "outputs": [
    {
     "data": {
      "text/plain": [
       "[             itemID  simulationPrice\n",
       " count   1653.000000      1653.000000\n",
       " mean    5295.734422        66.449268\n",
       " std     2995.130290       234.396236\n",
       " min       26.000000         0.390000\n",
       " 25%     2906.000000         8.570000\n",
       " 50%     5018.000000        22.360000\n",
       " 75%     7860.000000        53.770000\n",
       " max    10457.000000      6940.080000,\n",
       " ' ',\n",
       "              itemID  simulationPrice\n",
       " count    157.000000       157.000000\n",
       " mean    4856.611465        38.553439\n",
       " std     2877.678239        66.333702\n",
       " min       75.000000         0.970000\n",
       " 25%     3300.000000         5.340000\n",
       " 50%     4417.000000        13.640000\n",
       " 75%     7341.000000        31.480000\n",
       " max    10319.000000       364.940000,\n",
       " ' ',\n",
       "              itemID  simulationPrice\n",
       " count     33.000000        33.000000\n",
       " mean    4172.121212        30.787879\n",
       " std     2362.158808        65.321992\n",
       " min       35.000000         1.050000\n",
       " 25%     2855.000000         6.730000\n",
       " 50%     3748.000000        12.790000\n",
       " 75%     5048.000000        22.010000\n",
       " max    10112.000000       337.840000]"
      ]
     },
     "execution_count": 40,
     "metadata": {},
     "output_type": "execute_result"
    }
   ],
   "source": [
    "[promo1.describe(), ' ',\n",
    "promo2.describe(), ' ',\n",
    "promo3.describe()]"
   ]
  },
  {
   "cell_type": "markdown",
   "metadata": {},
   "source": [
    "- Items that were promoted more than once did not have a `simulationPrice` greater than 365."
   ]
  },
  {
   "cell_type": "markdown",
   "metadata": {},
   "source": [
    "- Convert `promotion` dates to datetime type and separate the dates on `promo2` and `promo3` datasets as well."
   ]
  },
  {
   "cell_type": "code",
   "execution_count": 58,
   "metadata": {},
   "outputs": [],
   "source": [
    "promo1.loc[:,'promotion'] = pd.to_datetime(promo1.loc[:,'promotion'], infer_datetime_format = True)"
   ]
  },
  {
   "cell_type": "code",
   "execution_count": 97,
   "metadata": {},
   "outputs": [],
   "source": [
    "date_split2 = promo2['promotion'].str.split(pat = ',', expand = True)"
   ]
  },
  {
   "cell_type": "code",
   "execution_count": null,
   "metadata": {},
   "outputs": [],
   "source": [
    "promo2.loc[:,'promotion'] = date_split2[0] \n",
    "promo2.loc[:,'promotion2'] = date_split2[1] "
   ]
  },
  {
   "cell_type": "code",
   "execution_count": 104,
   "metadata": {},
   "outputs": [],
   "source": [
    "promo2.loc[:,'promotion'] = pd.to_datetime(promo2.loc[:,'promotion'], infer_datetime_format = True)\n",
    "promo2.loc[:,'promotion2'] = pd.to_datetime(promo2.loc[:,'promotion2'], infer_datetime_format = True)"
   ]
  },
  {
   "cell_type": "code",
   "execution_count": 108,
   "metadata": {},
   "outputs": [],
   "source": [
    "date_split3 = promo3['promotion'].str.split(pat = ',', expand = True)"
   ]
  },
  {
   "cell_type": "code",
   "execution_count": null,
   "metadata": {},
   "outputs": [],
   "source": [
    "promo3.loc[:,'promotion'] = date_split3.loc[:,0] \n",
    "promo3.loc[:,'promotion2'] = date_split3.loc[:,1] \n",
    "promo3.loc[:,'promotion3'] = date_split3.loc[:,2] "
   ]
  },
  {
   "cell_type": "code",
   "execution_count": null,
   "metadata": {},
   "outputs": [],
   "source": [
    "promo3.loc[:,'promotion'] = pd.to_datetime(promo3.loc[:,'promotion'], infer_datetime_format = True)\n",
    "promo3.loc[:,'promotion2'] = pd.to_datetime(promo3.loc[:,'promotion2'], infer_datetime_format = True)\n",
    "promo3.loc[:,'promotion3'] = pd.to_datetime(promo3.loc[:,'promotion3'], infer_datetime_format = True)"
   ]
  },
  {
   "cell_type": "code",
   "execution_count": 255,
   "metadata": {},
   "outputs": [
    {
     "data": {
      "text/html": [
       "<div>\n",
       "<style scoped>\n",
       "    .dataframe tbody tr th:only-of-type {\n",
       "        vertical-align: middle;\n",
       "    }\n",
       "\n",
       "    .dataframe tbody tr th {\n",
       "        vertical-align: top;\n",
       "    }\n",
       "\n",
       "    .dataframe thead th {\n",
       "        text-align: right;\n",
       "    }\n",
       "</style>\n",
       "<table border=\"1\" class=\"dataframe\">\n",
       "  <thead>\n",
       "    <tr style=\"text-align: right;\">\n",
       "      <th></th>\n",
       "      <th>itemID</th>\n",
       "      <th>simulationPrice</th>\n",
       "      <th>promotion</th>\n",
       "    </tr>\n",
       "  </thead>\n",
       "  <tbody>\n",
       "    <tr>\n",
       "      <th>25</th>\n",
       "      <td>26</td>\n",
       "      <td>14.27</td>\n",
       "      <td>2018-07-13</td>\n",
       "    </tr>\n",
       "    <tr>\n",
       "      <th>26</th>\n",
       "      <td>27</td>\n",
       "      <td>1.64</td>\n",
       "      <td>2018-07-13</td>\n",
       "    </tr>\n",
       "    <tr>\n",
       "      <th>28</th>\n",
       "      <td>29</td>\n",
       "      <td>56.13</td>\n",
       "      <td>2018-07-13</td>\n",
       "    </tr>\n",
       "    <tr>\n",
       "      <th>57</th>\n",
       "      <td>58</td>\n",
       "      <td>277.72</td>\n",
       "      <td>2018-07-13</td>\n",
       "    </tr>\n",
       "    <tr>\n",
       "      <th>78</th>\n",
       "      <td>79</td>\n",
       "      <td>31.92</td>\n",
       "      <td>2018-07-05</td>\n",
       "    </tr>\n",
       "  </tbody>\n",
       "</table>\n",
       "</div>"
      ],
      "text/plain": [
       "    itemID  simulationPrice  promotion\n",
       "25      26            14.27 2018-07-13\n",
       "26      27             1.64 2018-07-13\n",
       "28      29            56.13 2018-07-13\n",
       "57      58           277.72 2018-07-13\n",
       "78      79            31.92 2018-07-05"
      ]
     },
     "execution_count": 255,
     "metadata": {},
     "output_type": "execute_result"
    }
   ],
   "source": [
    "promo1.head()"
   ]
  },
  {
   "cell_type": "code",
   "execution_count": 252,
   "metadata": {},
   "outputs": [
    {
     "data": {
      "text/html": [
       "<div>\n",
       "<style scoped>\n",
       "    .dataframe tbody tr th:only-of-type {\n",
       "        vertical-align: middle;\n",
       "    }\n",
       "\n",
       "    .dataframe tbody tr th {\n",
       "        vertical-align: top;\n",
       "    }\n",
       "\n",
       "    .dataframe thead th {\n",
       "        text-align: right;\n",
       "    }\n",
       "</style>\n",
       "<table border=\"1\" class=\"dataframe\">\n",
       "  <thead>\n",
       "    <tr style=\"text-align: right;\">\n",
       "      <th></th>\n",
       "      <th>itemID</th>\n",
       "      <th>simulationPrice</th>\n",
       "      <th>promotion</th>\n",
       "      <th>promotion2</th>\n",
       "    </tr>\n",
       "  </thead>\n",
       "  <tbody>\n",
       "    <tr>\n",
       "      <th>74</th>\n",
       "      <td>75</td>\n",
       "      <td>31.34</td>\n",
       "      <td>2018-07-05</td>\n",
       "      <td>2018-07-11</td>\n",
       "    </tr>\n",
       "    <tr>\n",
       "      <th>124</th>\n",
       "      <td>125</td>\n",
       "      <td>5.07</td>\n",
       "      <td>2018-07-08</td>\n",
       "      <td>2018-07-13</td>\n",
       "    </tr>\n",
       "    <tr>\n",
       "      <th>125</th>\n",
       "      <td>126</td>\n",
       "      <td>13.63</td>\n",
       "      <td>2018-07-05</td>\n",
       "      <td>2018-07-11</td>\n",
       "    </tr>\n",
       "    <tr>\n",
       "      <th>353</th>\n",
       "      <td>354</td>\n",
       "      <td>103.54</td>\n",
       "      <td>2018-07-08</td>\n",
       "      <td>2018-07-11</td>\n",
       "    </tr>\n",
       "    <tr>\n",
       "      <th>356</th>\n",
       "      <td>357</td>\n",
       "      <td>63.18</td>\n",
       "      <td>2018-06-30</td>\n",
       "      <td>2018-07-13</td>\n",
       "    </tr>\n",
       "  </tbody>\n",
       "</table>\n",
       "</div>"
      ],
      "text/plain": [
       "     itemID  simulationPrice  promotion promotion2\n",
       "74       75            31.34 2018-07-05 2018-07-11\n",
       "124     125             5.07 2018-07-08 2018-07-13\n",
       "125     126            13.63 2018-07-05 2018-07-11\n",
       "353     354           103.54 2018-07-08 2018-07-11\n",
       "356     357            63.18 2018-06-30 2018-07-13"
      ]
     },
     "execution_count": 252,
     "metadata": {},
     "output_type": "execute_result"
    }
   ],
   "source": [
    "promo2.head()"
   ]
  },
  {
   "cell_type": "code",
   "execution_count": 253,
   "metadata": {},
   "outputs": [
    {
     "data": {
      "text/html": [
       "<div>\n",
       "<style scoped>\n",
       "    .dataframe tbody tr th:only-of-type {\n",
       "        vertical-align: middle;\n",
       "    }\n",
       "\n",
       "    .dataframe tbody tr th {\n",
       "        vertical-align: top;\n",
       "    }\n",
       "\n",
       "    .dataframe thead th {\n",
       "        text-align: right;\n",
       "    }\n",
       "</style>\n",
       "<table border=\"1\" class=\"dataframe\">\n",
       "  <thead>\n",
       "    <tr style=\"text-align: right;\">\n",
       "      <th></th>\n",
       "      <th>itemID</th>\n",
       "      <th>simulationPrice</th>\n",
       "      <th>promotion</th>\n",
       "      <th>promotion2</th>\n",
       "      <th>promotion3</th>\n",
       "    </tr>\n",
       "  </thead>\n",
       "  <tbody>\n",
       "    <tr>\n",
       "      <th>34</th>\n",
       "      <td>35</td>\n",
       "      <td>337.84</td>\n",
       "      <td>2018-07-01</td>\n",
       "      <td>2018-07-02</td>\n",
       "      <td>2018-07-13</td>\n",
       "    </tr>\n",
       "    <tr>\n",
       "      <th>501</th>\n",
       "      <td>502</td>\n",
       "      <td>199.69</td>\n",
       "      <td>2018-06-30</td>\n",
       "      <td>2018-07-01</td>\n",
       "      <td>2018-07-11</td>\n",
       "    </tr>\n",
       "    <tr>\n",
       "      <th>1336</th>\n",
       "      <td>1337</td>\n",
       "      <td>2.89</td>\n",
       "      <td>2018-07-04</td>\n",
       "      <td>2018-07-05</td>\n",
       "      <td>2018-07-06</td>\n",
       "    </tr>\n",
       "    <tr>\n",
       "      <th>1879</th>\n",
       "      <td>1880</td>\n",
       "      <td>11.83</td>\n",
       "      <td>2018-07-04</td>\n",
       "      <td>2018-07-05</td>\n",
       "      <td>2018-07-06</td>\n",
       "    </tr>\n",
       "    <tr>\n",
       "      <th>2025</th>\n",
       "      <td>2026</td>\n",
       "      <td>12.92</td>\n",
       "      <td>2018-07-04</td>\n",
       "      <td>2018-07-05</td>\n",
       "      <td>2018-07-06</td>\n",
       "    </tr>\n",
       "  </tbody>\n",
       "</table>\n",
       "</div>"
      ],
      "text/plain": [
       "      itemID  simulationPrice  promotion promotion2 promotion3\n",
       "34        35           337.84 2018-07-01 2018-07-02 2018-07-13\n",
       "501      502           199.69 2018-06-30 2018-07-01 2018-07-11\n",
       "1336    1337             2.89 2018-07-04 2018-07-05 2018-07-06\n",
       "1879    1880            11.83 2018-07-04 2018-07-05 2018-07-06\n",
       "2025    2026            12.92 2018-07-04 2018-07-05 2018-07-06"
      ]
     },
     "execution_count": 253,
     "metadata": {},
     "output_type": "execute_result"
    }
   ],
   "source": [
    "promo3.head()"
   ]
  },
  {
   "cell_type": "code",
   "execution_count": 256,
   "metadata": {},
   "outputs": [
    {
     "name": "stdout",
     "output_type": "stream",
     "text": [
      "<class 'pandas.core.frame.DataFrame'>\n",
      "Int64Index: 1653 entries, 25 to 10456\n",
      "Data columns (total 3 columns):\n",
      " #   Column           Non-Null Count  Dtype         \n",
      "---  ------           --------------  -----         \n",
      " 0   itemID           1653 non-null   int64         \n",
      " 1   simulationPrice  1653 non-null   float64       \n",
      " 2   promotion        1653 non-null   datetime64[ns]\n",
      "dtypes: datetime64[ns](1), float64(1), int64(1)\n",
      "memory usage: 51.7 KB\n"
     ]
    }
   ],
   "source": [
    "promo1.info()"
   ]
  },
  {
   "cell_type": "code",
   "execution_count": 257,
   "metadata": {},
   "outputs": [
    {
     "name": "stdout",
     "output_type": "stream",
     "text": [
      "<class 'pandas.core.frame.DataFrame'>\n",
      "Int64Index: 157 entries, 74 to 10318\n",
      "Data columns (total 4 columns):\n",
      " #   Column           Non-Null Count  Dtype         \n",
      "---  ------           --------------  -----         \n",
      " 0   itemID           157 non-null    int64         \n",
      " 1   simulationPrice  157 non-null    float64       \n",
      " 2   promotion        157 non-null    datetime64[ns]\n",
      " 3   promotion2       157 non-null    datetime64[ns]\n",
      "dtypes: datetime64[ns](2), float64(1), int64(1)\n",
      "memory usage: 11.1 KB\n"
     ]
    }
   ],
   "source": [
    "promo2.info()"
   ]
  },
  {
   "cell_type": "code",
   "execution_count": 258,
   "metadata": {},
   "outputs": [
    {
     "name": "stdout",
     "output_type": "stream",
     "text": [
      "<class 'pandas.core.frame.DataFrame'>\n",
      "Int64Index: 33 entries, 34 to 10111\n",
      "Data columns (total 5 columns):\n",
      " #   Column           Non-Null Count  Dtype         \n",
      "---  ------           --------------  -----         \n",
      " 0   itemID           33 non-null     int64         \n",
      " 1   simulationPrice  33 non-null     float64       \n",
      " 2   promotion        33 non-null     datetime64[ns]\n",
      " 3   promotion2       33 non-null     datetime64[ns]\n",
      " 4   promotion3       33 non-null     datetime64[ns]\n",
      "dtypes: datetime64[ns](3), float64(1), int64(1)\n",
      "memory usage: 1.5 KB\n"
     ]
    }
   ],
   "source": [
    "promo3.info()"
   ]
  },
  {
   "cell_type": "markdown",
   "metadata": {},
   "source": [
    "- Explore the `simulationPrice` distribution of the three data subsets."
   ]
  },
  {
   "cell_type": "code",
   "execution_count": 168,
   "metadata": {},
   "outputs": [
    {
     "data": {
      "text/plain": [
       "<matplotlib.axes._subplots.AxesSubplot at 0x1d433690ec8>"
      ]
     },
     "execution_count": 168,
     "metadata": {},
     "output_type": "execute_result"
    },
    {
     "data": {
      "image/png": "[encoded data removed]",
      "text/plain": [
       "<Figure size 432x288 with 1 Axes>"
      ]
     },
     "metadata": {
      "needs_background": "light"
     },
     "output_type": "display_data"
    }
   ],
   "source": [
    "promo1['simulationPrice'].plot.hist(bins = 50)"
   ]
  },
  {
   "cell_type": "code",
   "execution_count": 160,
   "metadata": {},
   "outputs": [
    {
     "data": {
      "text/plain": [
       "<matplotlib.axes._subplots.AxesSubplot at 0x1d432060848>"
      ]
     },
     "execution_count": 160,
     "metadata": {},
     "output_type": "execute_result"
    },
    {
     "data": {
      "image/png": "[encoded data removed]",
      "text/plain": [
       "<Figure size 432x288 with 1 Axes>"
      ]
     },
     "metadata": {
      "needs_background": "light"
     },
     "output_type": "display_data"
    }
   ],
   "source": [
    "sns.distplot(promo1['simulationPrice'], kde = False)"
   ]
  },
  {
   "cell_type": "code",
   "execution_count": 174,
   "metadata": {},
   "outputs": [
    {
     "data": {
      "text/plain": [
       "<matplotlib.axes._subplots.AxesSubplot at 0x1d433b5f6c8>"
      ]
     },
     "execution_count": 174,
     "metadata": {},
     "output_type": "execute_result"
    },
    {
     "data": {
      "image/png": "[encoded data removed]",
      "text/plain": [
       "<Figure size 432x288 with 1 Axes>"
      ]
     },
     "metadata": {
      "needs_background": "light"
     },
     "output_type": "display_data"
    }
   ],
   "source": [
    "promo2['simulationPrice'].plot.hist(bins = 50)"
   ]
  },
  {
   "cell_type": "code",
   "execution_count": 161,
   "metadata": {},
   "outputs": [
    {
     "data": {
      "text/plain": [
       "<matplotlib.axes._subplots.AxesSubplot at 0x1d4321c79c8>"
      ]
     },
     "execution_count": 161,
     "metadata": {},
     "output_type": "execute_result"
    },
    {
     "data": {
      "image/png": "[encoded data removed]",
      "text/plain": [
       "<Figure size 432x288 with 1 Axes>"
      ]
     },
     "metadata": {
      "needs_background": "light"
     },
     "output_type": "display_data"
    }
   ],
   "source": [
    "sns.distplot(promo2['simulationPrice'], kde = False)"
   ]
  },
  {
   "cell_type": "code",
   "execution_count": 162,
   "metadata": {},
   "outputs": [
    {
     "data": {
      "text/plain": [
       "<matplotlib.axes._subplots.AxesSubplot at 0x1d433279688>"
      ]
     },
     "execution_count": 162,
     "metadata": {},
     "output_type": "execute_result"
    },
    {
     "data": {
      "image/png": "[encoded data removed]",
      "text/plain": [
       "<Figure size 432x288 with 1 Axes>"
      ]
     },
     "metadata": {
      "needs_background": "light"
     },
     "output_type": "display_data"
    }
   ],
   "source": [
    "sns.distplot(promo3['simulationPrice'], kde = False)"
   ]
  },
  {
   "cell_type": "markdown",
   "metadata": {},
   "source": [
    "- Check how many different promotion dates there are in each data subset."
   ]
  },
  {
   "cell_type": "code",
   "execution_count": 181,
   "metadata": {},
   "outputs": [
    {
     "data": {
      "text/plain": [
       "[14, (12, 13), (6, 9, 9)]"
      ]
     },
     "execution_count": 181,
     "metadata": {},
     "output_type": "execute_result"
    }
   ],
   "source": [
    "[promo1['promotion'].nunique(), \n",
    "(promo2['promotion'].nunique(), promo2['promotion2'].nunique()),\n",
    "(promo3['promotion'].nunique(), promo3['promotion2'].nunique(), promo3['promotion3'].nunique())]"
   ]
  },
  {
   "cell_type": "markdown",
   "metadata": {},
   "source": [
    "- For items with more than one promotion date, do the second and third dates occur AFTER the first and second dates?"
   ]
  },
  {
   "cell_type": "code",
   "execution_count": 192,
   "metadata": {},
   "outputs": [
    {
     "data": {
      "text/plain": [
       "True"
      ]
     },
     "execution_count": 192,
     "metadata": {},
     "output_type": "execute_result"
    }
   ],
   "source": [
    "(promo2['promotion2'] > promo2['promotion']).all()"
   ]
  },
  {
   "cell_type": "code",
   "execution_count": 195,
   "metadata": {},
   "outputs": [
    {
     "data": {
      "text/plain": [
       "(True, True)"
      ]
     },
     "execution_count": 195,
     "metadata": {},
     "output_type": "execute_result"
    }
   ],
   "source": [
    "(promo3['promotion2'] > promo3['promotion']).all(), (promo3['promotion3'] > promo3['promotion2']).all()"
   ]
  },
  {
   "cell_type": "markdown",
   "metadata": {},
   "source": [
    "- What are the unique promotion dates?"
   ]
  },
  {
   "cell_type": "code",
   "execution_count": 222,
   "metadata": {},
   "outputs": [
    {
     "data": {
      "text/plain": [
       "['promo1',\n",
       " {Timestamp('2018-06-30 00:00:00'),\n",
       "  Timestamp('2018-07-01 00:00:00'),\n",
       "  Timestamp('2018-07-02 00:00:00'),\n",
       "  Timestamp('2018-07-03 00:00:00'),\n",
       "  Timestamp('2018-07-04 00:00:00'),\n",
       "  Timestamp('2018-07-05 00:00:00'),\n",
       "  Timestamp('2018-07-06 00:00:00'),\n",
       "  Timestamp('2018-07-07 00:00:00'),\n",
       "  Timestamp('2018-07-08 00:00:00'),\n",
       "  Timestamp('2018-07-09 00:00:00'),\n",
       "  Timestamp('2018-07-10 00:00:00'),\n",
       "  Timestamp('2018-07-11 00:00:00'),\n",
       "  Timestamp('2018-07-12 00:00:00'),\n",
       "  Timestamp('2018-07-13 00:00:00')},\n",
       " 'promo2',\n",
       " {Timestamp('2018-06-30 00:00:00'),\n",
       "  Timestamp('2018-07-01 00:00:00'),\n",
       "  Timestamp('2018-07-02 00:00:00'),\n",
       "  Timestamp('2018-07-03 00:00:00'),\n",
       "  Timestamp('2018-07-04 00:00:00'),\n",
       "  Timestamp('2018-07-05 00:00:00'),\n",
       "  Timestamp('2018-07-06 00:00:00'),\n",
       "  Timestamp('2018-07-07 00:00:00'),\n",
       "  Timestamp('2018-07-08 00:00:00'),\n",
       "  Timestamp('2018-07-09 00:00:00'),\n",
       "  Timestamp('2018-07-10 00:00:00'),\n",
       "  Timestamp('2018-07-11 00:00:00')},\n",
       " ' ',\n",
       " {Timestamp('2018-07-01 00:00:00'),\n",
       "  Timestamp('2018-07-02 00:00:00'),\n",
       "  Timestamp('2018-07-03 00:00:00'),\n",
       "  Timestamp('2018-07-04 00:00:00'),\n",
       "  Timestamp('2018-07-05 00:00:00'),\n",
       "  Timestamp('2018-07-06 00:00:00'),\n",
       "  Timestamp('2018-07-07 00:00:00'),\n",
       "  Timestamp('2018-07-08 00:00:00'),\n",
       "  Timestamp('2018-07-09 00:00:00'),\n",
       "  Timestamp('2018-07-10 00:00:00'),\n",
       "  Timestamp('2018-07-11 00:00:00'),\n",
       "  Timestamp('2018-07-12 00:00:00'),\n",
       "  Timestamp('2018-07-13 00:00:00')},\n",
       " 'promo3',\n",
       " {Timestamp('2018-06-30 00:00:00'),\n",
       "  Timestamp('2018-07-01 00:00:00'),\n",
       "  Timestamp('2018-07-02 00:00:00'),\n",
       "  Timestamp('2018-07-03 00:00:00'),\n",
       "  Timestamp('2018-07-04 00:00:00'),\n",
       "  Timestamp('2018-07-05 00:00:00')},\n",
       " ' ',\n",
       " {Timestamp('2018-07-01 00:00:00'),\n",
       "  Timestamp('2018-07-02 00:00:00'),\n",
       "  Timestamp('2018-07-03 00:00:00'),\n",
       "  Timestamp('2018-07-04 00:00:00'),\n",
       "  Timestamp('2018-07-05 00:00:00'),\n",
       "  Timestamp('2018-07-06 00:00:00'),\n",
       "  Timestamp('2018-07-07 00:00:00'),\n",
       "  Timestamp('2018-07-10 00:00:00'),\n",
       "  Timestamp('2018-07-12 00:00:00')},\n",
       " ' ',\n",
       " {Timestamp('2018-07-04 00:00:00'),\n",
       "  Timestamp('2018-07-05 00:00:00'),\n",
       "  Timestamp('2018-07-06 00:00:00'),\n",
       "  Timestamp('2018-07-07 00:00:00'),\n",
       "  Timestamp('2018-07-08 00:00:00'),\n",
       "  Timestamp('2018-07-10 00:00:00'),\n",
       "  Timestamp('2018-07-11 00:00:00'),\n",
       "  Timestamp('2018-07-12 00:00:00'),\n",
       "  Timestamp('2018-07-13 00:00:00')}]"
      ]
     },
     "execution_count": 222,
     "metadata": {},
     "output_type": "execute_result"
    }
   ],
   "source": [
    "['promo1', set(promo1['promotion']), \n",
    " 'promo2', set(promo2['promotion']), ' ', set(promo2['promotion2']),\n",
    " 'promo3', set(promo3['promotion']), ' ', set(promo3['promotion2']), ' ', set(promo3['promotion3'])]"
   ]
  },
  {
   "cell_type": "markdown",
   "metadata": {},
   "source": [
    "- Looks like all promotions took place over a **two week period from 2018-06-30 to 2018-07-13**."
   ]
  },
  {
   "cell_type": "markdown",
   "metadata": {},
   "source": [
    "- Save the `promo` data subsets to home directory (not in the original DMC-2020 folder)."
   ]
  },
  {
   "cell_type": "code",
   "execution_count": 227,
   "metadata": {},
   "outputs": [],
   "source": [
    "promo1.to_csv('promo1.csv', index = False)\n",
    "promo2.to_csv('promo2.csv', index = False)\n",
    "promo3.to_csv('promo3.csv', index = False)"
   ]
  },
  {
   "cell_type": "code",
   "execution_count": null,
   "metadata": {},
   "outputs": [],
   "source": []
  }
 ],
 "metadata": {
  "kernelspec": {
   "display_name": "Python 3.7.5 64-bit ('nlp_course': conda)",
   "language": "python",
   "name": "python37564bitnlpcourseconda86a5b05d218b4c1395806f05482c8d94"
  },
  "language_info": {
   "codemirror_mode": {
    "name": "ipython",
    "version": 3
   },
   "file_extension": ".py",
   "mimetype": "text/x-python",
   "name": "python",
   "nbconvert_exporter": "python",
   "pygments_lexer": "ipython3",
   "version": "3.7.5"
  }
 },
 "nbformat": 4,
 "nbformat_minor": 2
}
