{
 "cells": [
  {
   "cell_type": "markdown",
   "metadata": {},
   "source": [
    "### Findings\n",
    "\n",
    "- Converting dates from \"object\" to \"datetime\" and saving them to home directory as CSV does not change anything. Reading in the dataset will still show \"object\" type. On the other hand, pickled files do preserve the \"datetime\" type.\n",
    "\n",
    "\n",
    "- There are **275** brands, with half (**5232**) of all items having no brand, i.e. brand = `0`.\n",
    "\n",
    "\n",
    "- There are **253** manufacturers, with no discernable pattern on the distribution of items.\n",
    "\n",
    "\n",
    "- Items belong to three different categories with the variable names `category1`, `category2` and `category3`. The feature description document says these `category` columns are categorical and hierarchical attributes (not sure what that means), which might mean they are **ordinal** features.\n",
    "\n",
    "\n",
    "- `category1` and `category2` has **8** labels from 1 to 8, while `category2` has 52 labels from 1 to 52.\n",
    "\n",
    "\n",
    "- `recommendedRetailPrice_items` (the recommended retail price for a product, mostly provided by the manufacturer) is highly right-skewed, just like `simulationPrice_infos`. A log scale on the y-axis is an excellent way to visualize right-skewed data.\n",
    "\n",
    "\n",
    "- The range of `recommendedRetailPrice` is from **2.46** to **6955**, with a mean **$\\mu_{rrp} = 118.28$**.\n",
    "\n",
    "\n",
    "- Out of all items, **7117** items had no `customerRatings` i.e. customer rating = `0`. Ratings are ranged from 1 to 5, with **2080** items having a rating of 5, **116** items having a rating of 1, and the rest are scattered in between. \n",
    "\n",
    "\n",
    "- The mean rating (excluding non-rated items) was quite high, at $\\mu_{cr} = 4.41$.\n",
    "\n",
    "\n",
    "- These ratings were all over the place, with values like 2.49 and 3.86, so an additional column was created to round them to half-integer values.\n",
    "\n",
    "\n",
    "\n",
    "### Tasks \n",
    "\n",
    "- Saved `promo` data subsets as pickle files instead of CSVs.\n",
    "\n",
    "\n",
    "- Completed univariate exploration of all variables in the `items` dataset, save for `itemID`.\n",
    "\n",
    "\n",
    "- Added an additional column named `modifiedRating` to the `items` dataset, created as follows:\n",
    "$$ mR = \\frac{\\text{round}(2 \\times cR)}{2}, $$\n",
    "where $mR$ is the `modifiedRating`, $cR$ is the `customerRating`, and `round` is the Python function for rounding to the nearest integer.\n",
    "\n",
    "\n",
    "- The modified `items` dataset was saved to the home directory and the previous version was overwritten.\n",
    "\n",
    "\n",
    "\n",
    "**Ismail Dawoodjee | 4:08 PM 29-May-2020**"
   ]
  },
  {
   "cell_type": "markdown",
   "metadata": {},
   "source": [
    "# Data Exploration Part 2\n",
    "\n",
    "This notebook will explore the `items` dataset. But I will first deal with the issue of datetime type features not being preserved after saving them as CSV."
   ]
  },
  {
   "cell_type": "code",
   "execution_count": 8,
   "metadata": {},
   "outputs": [
    {
     "name": "stdout",
     "output_type": "stream",
     "text": [
      "Wall time: 1.94 ms\n"
     ]
    }
   ],
   "source": [
    "%%time\n",
    "import numpy as np\n",
    "import pandas as pd\n",
    "import seaborn as sns\n",
    "import matplotlib.pyplot as plt\n",
    "%matplotlib inline\n",
    "sns.set(style = 'whitegrid')"
   ]
  },
  {
   "cell_type": "markdown",
   "metadata": {},
   "source": [
    "### Preserving datetime data type\n",
    "\n",
    "- Checking if datetime type is preserved after saving as CSV."
   ]
  },
  {
   "cell_type": "code",
   "execution_count": 17,
   "metadata": {},
   "outputs": [],
   "source": [
    "promo1 = pd.read_csv('promo1.csv')\n",
    "promo2 = pd.read_csv('promo2.csv')\n",
    "promo3 = pd.read_csv('promo3.csv')"
   ]
  },
  {
   "cell_type": "code",
   "execution_count": 16,
   "metadata": {},
   "outputs": [
    {
     "name": "stdout",
     "output_type": "stream",
     "text": [
      "<class 'pandas.core.frame.DataFrame'>\n",
      "RangeIndex: 1653 entries, 0 to 1652\n",
      "Data columns (total 3 columns):\n",
      " #   Column           Non-Null Count  Dtype  \n",
      "---  ------           --------------  -----  \n",
      " 0   itemID           1653 non-null   int64  \n",
      " 1   simulationPrice  1653 non-null   float64\n",
      " 2   promotion        1653 non-null   object \n",
      "dtypes: float64(1), int64(1), object(1)\n",
      "memory usage: 38.9+ KB\n"
     ]
    }
   ],
   "source": [
    "promo1.info()"
   ]
  },
  {
   "cell_type": "code",
   "execution_count": 18,
   "metadata": {},
   "outputs": [
    {
     "name": "stdout",
     "output_type": "stream",
     "text": [
      "<class 'pandas.core.frame.DataFrame'>\n",
      "RangeIndex: 157 entries, 0 to 156\n",
      "Data columns (total 4 columns):\n",
      " #   Column           Non-Null Count  Dtype  \n",
      "---  ------           --------------  -----  \n",
      " 0   itemID           157 non-null    int64  \n",
      " 1   simulationPrice  157 non-null    float64\n",
      " 2   promotion        157 non-null    object \n",
      " 3   promotion2       157 non-null    object \n",
      "dtypes: float64(1), int64(1), object(2)\n",
      "memory usage: 5.0+ KB\n"
     ]
    }
   ],
   "source": [
    "promo2.info()"
   ]
  },
  {
   "cell_type": "code",
   "execution_count": 19,
   "metadata": {},
   "outputs": [
    {
     "name": "stdout",
     "output_type": "stream",
     "text": [
      "<class 'pandas.core.frame.DataFrame'>\n",
      "RangeIndex: 33 entries, 0 to 32\n",
      "Data columns (total 5 columns):\n",
      " #   Column           Non-Null Count  Dtype  \n",
      "---  ------           --------------  -----  \n",
      " 0   itemID           33 non-null     int64  \n",
      " 1   simulationPrice  33 non-null     float64\n",
      " 2   promotion        33 non-null     object \n",
      " 3   promotion2       33 non-null     object \n",
      " 4   promotion3       33 non-null     object \n",
      "dtypes: float64(1), int64(1), object(3)\n",
      "memory usage: 1.4+ KB\n"
     ]
    }
   ],
   "source": [
    "promo3.info()"
   ]
  },
  {
   "cell_type": "markdown",
   "metadata": {},
   "source": [
    "- Nope. Not preserved. Save them as pickle format instead, after conversion to datetime, and put the CSV files into a separate Junk folder. Then confirm that datetime type is preserved after reading it in."
   ]
  },
  {
   "cell_type": "code",
   "execution_count": null,
   "metadata": {},
   "outputs": [],
   "source": [
    "promo1.loc[:,'promotion'] = pd.to_datetime(promo1.loc[:,'promotion'], infer_datetime_format = True)\n",
    "\n",
    "promo2.loc[:,'promotion'] = pd.to_datetime(promo2.loc[:,'promotion'], infer_datetime_format = True)\n",
    "promo2.loc[:,'promotion2'] = pd.to_datetime(promo2.loc[:,'promotion2'], infer_datetime_format = True)\n",
    "\n",
    "promo3.loc[:,'promotion'] = pd.to_datetime(promo3.loc[:,'promotion'], infer_datetime_format = True)\n",
    "promo3.loc[:,'promotion2'] = pd.to_datetime(promo3.loc[:,'promotion2'], infer_datetime_format = True)\n",
    "promo3.loc[:,'promotion3'] = pd.to_datetime(promo3.loc[:,'promotion3'], infer_datetime_format = True)\n",
    "\n",
    "promo1.to_pickle('promo1.pkl')\n",
    "promo2.to_pickle('promo2.pkl')\n",
    "promo3.to_pickle('promo3.pkl')"
   ]
  },
  {
   "cell_type": "code",
   "execution_count": 28,
   "metadata": {},
   "outputs": [],
   "source": [
    "promo3 = pd.read_pickle('promo3.pkl')"
   ]
  },
  {
   "cell_type": "code",
   "execution_count": 31,
   "metadata": {},
   "outputs": [
    {
     "name": "stdout",
     "output_type": "stream",
     "text": [
      "<class 'pandas.core.frame.DataFrame'>\n",
      "RangeIndex: 33 entries, 0 to 32\n",
      "Data columns (total 5 columns):\n",
      " #   Column           Non-Null Count  Dtype         \n",
      "---  ------           --------------  -----         \n",
      " 0   itemID           33 non-null     int64         \n",
      " 1   simulationPrice  33 non-null     float64       \n",
      " 2   promotion        33 non-null     datetime64[ns]\n",
      " 3   promotion2       33 non-null     datetime64[ns]\n",
      " 4   promotion3       33 non-null     datetime64[ns]\n",
      "dtypes: datetime64[ns](3), float64(1), int64(1)\n",
      "memory usage: 1.4 KB\n"
     ]
    }
   ],
   "source": [
    "promo3.info()"
   ]
  },
  {
   "cell_type": "markdown",
   "metadata": {},
   "source": [
    "### `Items` Dataset\n",
    "\n",
    "- Explore the `items` dataset."
   ]
  },
  {
   "cell_type": "code",
   "execution_count": 9,
   "metadata": {},
   "outputs": [],
   "source": [
    "items = pd.read_pickle('items.pkl')"
   ]
  },
  {
   "cell_type": "code",
   "execution_count": 3,
   "metadata": {},
   "outputs": [
    {
     "data": {
      "text/plain": [
       "(10463, 8)"
      ]
     },
     "execution_count": 3,
     "metadata": {},
     "output_type": "execute_result"
    }
   ],
   "source": [
    "items.shape"
   ]
  },
  {
   "cell_type": "code",
   "execution_count": 4,
   "metadata": {},
   "outputs": [
    {
     "data": {
      "text/plain": [
       "Index(['itemID', 'brand', 'manufacturer', 'customerRating', 'category1',\n",
       "       'category2', 'category3', 'recommendedRetailPrice'],\n",
       "      dtype='object')"
      ]
     },
     "execution_count": 4,
     "metadata": {},
     "output_type": "execute_result"
    }
   ],
   "source": [
    "items.columns"
   ]
  },
  {
   "cell_type": "code",
   "execution_count": 5,
   "metadata": {},
   "outputs": [
    {
     "name": "stdout",
     "output_type": "stream",
     "text": [
      "<class 'pandas.core.frame.DataFrame'>\n",
      "RangeIndex: 10463 entries, 0 to 10462\n",
      "Data columns (total 8 columns):\n",
      " #   Column                  Non-Null Count  Dtype  \n",
      "---  ------                  --------------  -----  \n",
      " 0   itemID                  10463 non-null  int64  \n",
      " 1   brand                   10463 non-null  int64  \n",
      " 2   manufacturer            10463 non-null  int64  \n",
      " 3   customerRating          10463 non-null  float64\n",
      " 4   category1               10463 non-null  int64  \n",
      " 5   category2               10463 non-null  int64  \n",
      " 6   category3               10463 non-null  int64  \n",
      " 7   recommendedRetailPrice  10463 non-null  float64\n",
      "dtypes: float64(2), int64(6)\n",
      "memory usage: 654.1 KB\n"
     ]
    }
   ],
   "source": [
    "items.info()"
   ]
  },
  {
   "cell_type": "code",
   "execution_count": 6,
   "metadata": {},
   "outputs": [
    {
     "data": {
      "text/html": [
       "<div>\n",
       "<style scoped>\n",
       "    .dataframe tbody tr th:only-of-type {\n",
       "        vertical-align: middle;\n",
       "    }\n",
       "\n",
       "    .dataframe tbody tr th {\n",
       "        vertical-align: top;\n",
       "    }\n",
       "\n",
       "    .dataframe thead th {\n",
       "        text-align: right;\n",
       "    }\n",
       "</style>\n",
       "<table border=\"1\" class=\"dataframe\">\n",
       "  <thead>\n",
       "    <tr style=\"text-align: right;\">\n",
       "      <th></th>\n",
       "      <th>itemID</th>\n",
       "      <th>brand</th>\n",
       "      <th>manufacturer</th>\n",
       "      <th>customerRating</th>\n",
       "      <th>category1</th>\n",
       "      <th>category2</th>\n",
       "      <th>category3</th>\n",
       "      <th>recommendedRetailPrice</th>\n",
       "    </tr>\n",
       "  </thead>\n",
       "  <tbody>\n",
       "    <tr>\n",
       "      <th>count</th>\n",
       "      <td>10463.000000</td>\n",
       "      <td>10463.000000</td>\n",
       "      <td>10463.000000</td>\n",
       "      <td>10463.000000</td>\n",
       "      <td>10463.000000</td>\n",
       "      <td>10463.000000</td>\n",
       "      <td>10463.000000</td>\n",
       "      <td>10463.000000</td>\n",
       "    </tr>\n",
       "    <tr>\n",
       "      <th>mean</th>\n",
       "      <td>5232.000000</td>\n",
       "      <td>56.108286</td>\n",
       "      <td>115.710982</td>\n",
       "      <td>1.408953</td>\n",
       "      <td>4.238077</td>\n",
       "      <td>22.506929</td>\n",
       "      <td>4.108573</td>\n",
       "      <td>118.283142</td>\n",
       "    </tr>\n",
       "    <tr>\n",
       "      <th>std</th>\n",
       "      <td>3020.552267</td>\n",
       "      <td>75.983983</td>\n",
       "      <td>77.269249</td>\n",
       "      <td>2.135633</td>\n",
       "      <td>2.530146</td>\n",
       "      <td>14.868889</td>\n",
       "      <td>2.534010</td>\n",
       "      <td>339.338973</td>\n",
       "    </tr>\n",
       "    <tr>\n",
       "      <th>min</th>\n",
       "      <td>1.000000</td>\n",
       "      <td>0.000000</td>\n",
       "      <td>1.000000</td>\n",
       "      <td>0.000000</td>\n",
       "      <td>1.000000</td>\n",
       "      <td>1.000000</td>\n",
       "      <td>1.000000</td>\n",
       "      <td>2.460000</td>\n",
       "    </tr>\n",
       "    <tr>\n",
       "      <th>25%</th>\n",
       "      <td>2616.500000</td>\n",
       "      <td>0.000000</td>\n",
       "      <td>47.000000</td>\n",
       "      <td>0.000000</td>\n",
       "      <td>2.000000</td>\n",
       "      <td>8.000000</td>\n",
       "      <td>2.000000</td>\n",
       "      <td>13.950000</td>\n",
       "    </tr>\n",
       "    <tr>\n",
       "      <th>50%</th>\n",
       "      <td>5232.000000</td>\n",
       "      <td>0.000000</td>\n",
       "      <td>107.000000</td>\n",
       "      <td>0.000000</td>\n",
       "      <td>4.000000</td>\n",
       "      <td>23.000000</td>\n",
       "      <td>4.000000</td>\n",
       "      <td>24.220000</td>\n",
       "    </tr>\n",
       "    <tr>\n",
       "      <th>75%</th>\n",
       "      <td>7847.500000</td>\n",
       "      <td>101.000000</td>\n",
       "      <td>173.000000</td>\n",
       "      <td>4.000000</td>\n",
       "      <td>7.000000</td>\n",
       "      <td>38.000000</td>\n",
       "      <td>7.000000</td>\n",
       "      <td>67.920000</td>\n",
       "    </tr>\n",
       "    <tr>\n",
       "      <th>max</th>\n",
       "      <td>10463.000000</td>\n",
       "      <td>274.000000</td>\n",
       "      <td>253.000000</td>\n",
       "      <td>5.000000</td>\n",
       "      <td>8.000000</td>\n",
       "      <td>52.000000</td>\n",
       "      <td>8.000000</td>\n",
       "      <td>6955.000000</td>\n",
       "    </tr>\n",
       "  </tbody>\n",
       "</table>\n",
       "</div>"
      ],
      "text/plain": [
       "             itemID         brand  manufacturer  customerRating     category1  \\\n",
       "count  10463.000000  10463.000000  10463.000000    10463.000000  10463.000000   \n",
       "mean    5232.000000     56.108286    115.710982        1.408953      4.238077   \n",
       "std     3020.552267     75.983983     77.269249        2.135633      2.530146   \n",
       "min        1.000000      0.000000      1.000000        0.000000      1.000000   \n",
       "25%     2616.500000      0.000000     47.000000        0.000000      2.000000   \n",
       "50%     5232.000000      0.000000    107.000000        0.000000      4.000000   \n",
       "75%     7847.500000    101.000000    173.000000        4.000000      7.000000   \n",
       "max    10463.000000    274.000000    253.000000        5.000000      8.000000   \n",
       "\n",
       "          category2     category3  recommendedRetailPrice  \n",
       "count  10463.000000  10463.000000            10463.000000  \n",
       "mean      22.506929      4.108573              118.283142  \n",
       "std       14.868889      2.534010              339.338973  \n",
       "min        1.000000      1.000000                2.460000  \n",
       "25%        8.000000      2.000000               13.950000  \n",
       "50%       23.000000      4.000000               24.220000  \n",
       "75%       38.000000      7.000000               67.920000  \n",
       "max       52.000000      8.000000             6955.000000  "
      ]
     },
     "execution_count": 6,
     "metadata": {},
     "output_type": "execute_result"
    }
   ],
   "source": [
    "items.describe()"
   ]
  },
  {
   "cell_type": "code",
   "execution_count": 7,
   "metadata": {},
   "outputs": [
    {
     "data": {
      "text/html": [
       "<div>\n",
       "<style scoped>\n",
       "    .dataframe tbody tr th:only-of-type {\n",
       "        vertical-align: middle;\n",
       "    }\n",
       "\n",
       "    .dataframe tbody tr th {\n",
       "        vertical-align: top;\n",
       "    }\n",
       "\n",
       "    .dataframe thead th {\n",
       "        text-align: right;\n",
       "    }\n",
       "</style>\n",
       "<table border=\"1\" class=\"dataframe\">\n",
       "  <thead>\n",
       "    <tr style=\"text-align: right;\">\n",
       "      <th></th>\n",
       "      <th>itemID</th>\n",
       "      <th>brand</th>\n",
       "      <th>manufacturer</th>\n",
       "      <th>customerRating</th>\n",
       "      <th>category1</th>\n",
       "      <th>category2</th>\n",
       "      <th>category3</th>\n",
       "      <th>recommendedRetailPrice</th>\n",
       "    </tr>\n",
       "  </thead>\n",
       "  <tbody>\n",
       "    <tr>\n",
       "      <th>0</th>\n",
       "      <td>1</td>\n",
       "      <td>0</td>\n",
       "      <td>1</td>\n",
       "      <td>4.38</td>\n",
       "      <td>1</td>\n",
       "      <td>1</td>\n",
       "      <td>1</td>\n",
       "      <td>8.84</td>\n",
       "    </tr>\n",
       "    <tr>\n",
       "      <th>1</th>\n",
       "      <td>2</td>\n",
       "      <td>0</td>\n",
       "      <td>2</td>\n",
       "      <td>3.00</td>\n",
       "      <td>1</td>\n",
       "      <td>2</td>\n",
       "      <td>1</td>\n",
       "      <td>16.92</td>\n",
       "    </tr>\n",
       "    <tr>\n",
       "      <th>2</th>\n",
       "      <td>3</td>\n",
       "      <td>0</td>\n",
       "      <td>3</td>\n",
       "      <td>5.00</td>\n",
       "      <td>1</td>\n",
       "      <td>3</td>\n",
       "      <td>1</td>\n",
       "      <td>15.89</td>\n",
       "    </tr>\n",
       "    <tr>\n",
       "      <th>3</th>\n",
       "      <td>4</td>\n",
       "      <td>0</td>\n",
       "      <td>2</td>\n",
       "      <td>4.44</td>\n",
       "      <td>1</td>\n",
       "      <td>2</td>\n",
       "      <td>1</td>\n",
       "      <td>40.17</td>\n",
       "    </tr>\n",
       "    <tr>\n",
       "      <th>4</th>\n",
       "      <td>5</td>\n",
       "      <td>0</td>\n",
       "      <td>2</td>\n",
       "      <td>2.33</td>\n",
       "      <td>1</td>\n",
       "      <td>1</td>\n",
       "      <td>1</td>\n",
       "      <td>17.04</td>\n",
       "    </tr>\n",
       "    <tr>\n",
       "      <th>...</th>\n",
       "      <td>...</td>\n",
       "      <td>...</td>\n",
       "      <td>...</td>\n",
       "      <td>...</td>\n",
       "      <td>...</td>\n",
       "      <td>...</td>\n",
       "      <td>...</td>\n",
       "      <td>...</td>\n",
       "    </tr>\n",
       "    <tr>\n",
       "      <th>10458</th>\n",
       "      <td>10459</td>\n",
       "      <td>180</td>\n",
       "      <td>253</td>\n",
       "      <td>0.00</td>\n",
       "      <td>8</td>\n",
       "      <td>44</td>\n",
       "      <td>8</td>\n",
       "      <td>56.57</td>\n",
       "    </tr>\n",
       "    <tr>\n",
       "      <th>10459</th>\n",
       "      <td>10460</td>\n",
       "      <td>0</td>\n",
       "      <td>253</td>\n",
       "      <td>0.00</td>\n",
       "      <td>8</td>\n",
       "      <td>44</td>\n",
       "      <td>8</td>\n",
       "      <td>163.81</td>\n",
       "    </tr>\n",
       "    <tr>\n",
       "      <th>10460</th>\n",
       "      <td>10461</td>\n",
       "      <td>0</td>\n",
       "      <td>253</td>\n",
       "      <td>0.00</td>\n",
       "      <td>8</td>\n",
       "      <td>44</td>\n",
       "      <td>8</td>\n",
       "      <td>128.01</td>\n",
       "    </tr>\n",
       "    <tr>\n",
       "      <th>10461</th>\n",
       "      <td>10462</td>\n",
       "      <td>180</td>\n",
       "      <td>253</td>\n",
       "      <td>0.00</td>\n",
       "      <td>8</td>\n",
       "      <td>44</td>\n",
       "      <td>8</td>\n",
       "      <td>166.97</td>\n",
       "    </tr>\n",
       "    <tr>\n",
       "      <th>10462</th>\n",
       "      <td>10463</td>\n",
       "      <td>0</td>\n",
       "      <td>253</td>\n",
       "      <td>0.00</td>\n",
       "      <td>8</td>\n",
       "      <td>44</td>\n",
       "      <td>8</td>\n",
       "      <td>154.82</td>\n",
       "    </tr>\n",
       "  </tbody>\n",
       "</table>\n",
       "<p>10463 rows × 8 columns</p>\n",
       "</div>"
      ],
      "text/plain": [
       "       itemID  brand  manufacturer  customerRating  category1  category2  \\\n",
       "0           1      0             1            4.38          1          1   \n",
       "1           2      0             2            3.00          1          2   \n",
       "2           3      0             3            5.00          1          3   \n",
       "3           4      0             2            4.44          1          2   \n",
       "4           5      0             2            2.33          1          1   \n",
       "...       ...    ...           ...             ...        ...        ...   \n",
       "10458   10459    180           253            0.00          8         44   \n",
       "10459   10460      0           253            0.00          8         44   \n",
       "10460   10461      0           253            0.00          8         44   \n",
       "10461   10462    180           253            0.00          8         44   \n",
       "10462   10463      0           253            0.00          8         44   \n",
       "\n",
       "       category3  recommendedRetailPrice  \n",
       "0              1                    8.84  \n",
       "1              1                   16.92  \n",
       "2              1                   15.89  \n",
       "3              1                   40.17  \n",
       "4              1                   17.04  \n",
       "...          ...                     ...  \n",
       "10458          8                   56.57  \n",
       "10459          8                  163.81  \n",
       "10460          8                  128.01  \n",
       "10461          8                  166.97  \n",
       "10462          8                  154.82  \n",
       "\n",
       "[10463 rows x 8 columns]"
      ]
     },
     "execution_count": 7,
     "metadata": {},
     "output_type": "execute_result"
    }
   ],
   "source": [
    "items"
   ]
  },
  {
   "cell_type": "markdown",
   "metadata": {},
   "source": [
    "### Variable `brand`"
   ]
  },
  {
   "cell_type": "code",
   "execution_count": 10,
   "metadata": {},
   "outputs": [
    {
     "data": {
      "text/plain": [
       "275"
      ]
     },
     "execution_count": 10,
     "metadata": {},
     "output_type": "execute_result"
    }
   ],
   "source": [
    "items['brand'].nunique()"
   ]
  },
  {
   "cell_type": "code",
   "execution_count": 11,
   "metadata": {},
   "outputs": [
    {
     "data": {
      "text/plain": [
       "array([  0,   1,   2,   3,   4,   5,   6,   7,   8,   9,  10,  11,  12,\n",
       "        13,  14,  15,  16,  17,  18,  19,  20,  21,  22,  23,  24,  25,\n",
       "        26,  27,  28,  29,  30,  31,  32,  33,  34,  35,  36,  37,  38,\n",
       "        39,  40,  41,  42,  43,  44,  45,  46,  47,  48,  49,  50,  51,\n",
       "        52,  53,  54,  55,  56,  57,  58,  59,  60,  61,  62,  63,  64,\n",
       "        65,  66,  67,  68,  69,  70,  71,  72,  73,  74,  75,  76,  77,\n",
       "        78,  79,  80,  81,  82,  83,  84,  85,  86,  87,  88,  89,  90,\n",
       "        91,  92,  93,  94,  95,  96,  97,  98,  99, 100, 101, 102, 103,\n",
       "       104, 105, 106, 107, 108, 109, 110, 111, 112, 113, 114, 115, 116,\n",
       "       117, 118, 119, 120, 121, 122, 123, 124, 125, 126, 127, 128, 129,\n",
       "       130, 131, 132, 133, 134, 135, 136, 137, 138, 139, 140, 141, 142,\n",
       "       143, 144, 145, 146, 147, 148, 149, 150, 151, 152, 153, 154, 155,\n",
       "       156, 157, 158, 159, 160, 161, 162, 163, 164, 165, 166, 167, 168,\n",
       "       169, 170, 171, 172, 173, 174, 175, 176, 177, 178, 179, 180, 181,\n",
       "       182, 183, 184, 185, 186, 187, 188, 189, 190, 191, 192, 193, 194,\n",
       "       195, 196, 197, 198, 199, 200, 201, 202, 203, 204, 205, 206, 207,\n",
       "       208, 209, 210, 211, 212, 213, 214, 215, 216, 217, 218, 219, 220,\n",
       "       221, 222, 223, 224, 225, 226, 227, 228, 229, 230, 231, 232, 233,\n",
       "       234, 235, 236, 237, 238, 239, 240, 241, 242, 243, 244, 245, 246,\n",
       "       247, 248, 249, 250, 251, 252, 253, 254, 255, 256, 257, 258, 259,\n",
       "       260, 261, 262, 263, 264, 265, 266, 267, 268, 269, 270, 271, 272,\n",
       "       273, 274], dtype=int64)"
      ]
     },
     "execution_count": 11,
     "metadata": {},
     "output_type": "execute_result"
    }
   ],
   "source": [
    "items['brand'].unique()"
   ]
  },
  {
   "cell_type": "code",
   "execution_count": 12,
   "metadata": {},
   "outputs": [
    {
     "data": {
      "text/plain": [
       "0      5232\n",
       "101     242\n",
       "82      198\n",
       "93      161\n",
       "116     125\n",
       "       ... \n",
       "25        1\n",
       "42        1\n",
       "172       1\n",
       "220       1\n",
       "164       1\n",
       "Name: brand, Length: 275, dtype: int64"
      ]
     },
     "execution_count": 12,
     "metadata": {},
     "output_type": "execute_result"
    }
   ],
   "source": [
    "items['brand'].value_counts()"
   ]
  },
  {
   "cell_type": "code",
   "execution_count": 27,
   "metadata": {},
   "outputs": [
    {
     "data": {
      "text/plain": [
       "56"
      ]
     },
     "execution_count": 27,
     "metadata": {},
     "output_type": "execute_result"
    }
   ],
   "source": [
    "(items['brand'].value_counts() == 1).sum()"
   ]
  },
  {
   "cell_type": "code",
   "execution_count": 300,
   "metadata": {},
   "outputs": [
    {
     "data": {
      "text/plain": [
       "<matplotlib.axes._subplots.AxesSubplot at 0x17188b8a508>"
      ]
     },
     "execution_count": 300,
     "metadata": {},
     "output_type": "execute_result"
    },
    {
     "data": {
      "image/png": "[encoded data removed]",
      "text/plain": [
       "<Figure size 432x288 with 1 Axes>"
      ]
     },
     "metadata": {},
     "output_type": "display_data"
    }
   ],
   "source": [
    "sns.distplot(items['brand'], kde = False, bins = 11, hist_kws = dict(edgecolor = \"k\"))"
   ]
  },
  {
   "cell_type": "code",
   "execution_count": 26,
   "metadata": {},
   "outputs": [],
   "source": [
    "nonzero_brands = items[items['brand'] != 0]"
   ]
  },
  {
   "cell_type": "code",
   "execution_count": 27,
   "metadata": {},
   "outputs": [
    {
     "data": {
      "text/plain": [
       "<matplotlib.axes._subplots.AxesSubplot at 0x27537e75bc8>"
      ]
     },
     "execution_count": 27,
     "metadata": {},
     "output_type": "execute_result"
    },
    {
     "data": {
      "image/png": "[encoded data removed]",
      "text/plain": [
       "<Figure size 432x288 with 1 Axes>"
      ]
     },
     "metadata": {},
     "output_type": "display_data"
    }
   ],
   "source": [
    "sns.distplot(nonzero_brands['brand'], kde = False, bins = 11, hist_kws = dict(edgecolor = \"k\"))"
   ]
  },
  {
   "cell_type": "markdown",
   "metadata": {},
   "source": [
    "- There are **275** unique brands (`brand_items`), labelled from 0 to 274. \n",
    "- Out of 10463 items, **5232** items belong to the brand label `0`, which indicates they do not have a brand. All other brands have less than 250 items and 56 brands only have 1 item."
   ]
  },
  {
   "cell_type": "markdown",
   "metadata": {},
   "source": [
    "### Variable `manufacturer`"
   ]
  },
  {
   "cell_type": "code",
   "execution_count": 29,
   "metadata": {},
   "outputs": [
    {
     "data": {
      "text/plain": [
       "253"
      ]
     },
     "execution_count": 29,
     "metadata": {},
     "output_type": "execute_result"
    }
   ],
   "source": [
    "items['manufacturer'].nunique()"
   ]
  },
  {
   "cell_type": "code",
   "execution_count": 35,
   "metadata": {},
   "outputs": [
    {
     "data": {
      "text/plain": [
       "array([  1,   2,   3,   4,   5,   6,   7,   8,   9,  10,  11,  12,  13,\n",
       "        14,  15,  16,  17,  18,  19,  20,  21,  22,  23,  24,  25,  26,\n",
       "        27,  28,  29,  30,  31,  32,  33,  34,  35,  36,  37,  38,  39,\n",
       "        40,  41,  42,  43,  44,  45,  46,  47,  48,  49,  50,  51,  52,\n",
       "        53,  54,  55,  56,  57,  58,  59,  60,  61,  62,  63,  64,  65,\n",
       "        66,  67,  68,  69,  70,  71,  72,  73,  74,  75,  76,  77,  78,\n",
       "        79,  80,  81,  82,  83,  84,  85,  86,  87,  88,  89,  90,  91,\n",
       "        92,  93,  94,  95,  96,  97,  98,  99, 100, 101, 102, 103, 104,\n",
       "       105, 106, 107, 108, 109, 110, 111, 112, 113, 114, 115, 116, 117,\n",
       "       118, 119, 120, 121, 122, 123, 124, 125, 126, 127, 128, 129, 130,\n",
       "       131, 132, 133, 134, 135, 136, 137, 138, 139, 140, 141, 142, 143,\n",
       "       144, 145, 146, 147, 148, 149, 150, 151, 152, 153, 154, 155, 156,\n",
       "       157, 158, 159, 160, 161, 162, 163, 164, 165, 166, 167, 168, 169,\n",
       "       170, 171, 172, 173, 174, 175, 176, 177, 178, 179, 180, 181, 182,\n",
       "       183, 184, 185, 186, 187, 188, 189, 190, 191, 192, 193, 194, 195,\n",
       "       196, 197, 198, 199, 200, 201, 202, 203, 204, 205, 206, 207, 208,\n",
       "       209, 210, 211, 212, 213, 214, 215, 216, 217, 218, 219, 220, 221,\n",
       "       222, 223, 224, 225, 226, 227, 228, 229, 230, 231, 232, 233, 234,\n",
       "       235, 236, 237, 238, 239, 240, 241, 242, 243, 244, 245, 246, 247,\n",
       "       248, 249, 250, 251, 252, 253], dtype=int64)"
      ]
     },
     "execution_count": 35,
     "metadata": {},
     "output_type": "execute_result"
    }
   ],
   "source": [
    "items['manufacturer'].unique()"
   ]
  },
  {
   "cell_type": "code",
   "execution_count": 36,
   "metadata": {},
   "outputs": [
    {
     "data": {
      "text/plain": [
       "86     481\n",
       "159    448\n",
       "164    348\n",
       "2      343\n",
       "121    266\n",
       "      ... \n",
       "119      1\n",
       "193      1\n",
       "145      1\n",
       "105      1\n",
       "196      1\n",
       "Name: manufacturer, Length: 253, dtype: int64"
      ]
     },
     "execution_count": 36,
     "metadata": {},
     "output_type": "execute_result"
    }
   ],
   "source": [
    "items['manufacturer'].value_counts()"
   ]
  },
  {
   "cell_type": "code",
   "execution_count": 37,
   "metadata": {},
   "outputs": [
    {
     "data": {
      "text/plain": [
       "27"
      ]
     },
     "execution_count": 37,
     "metadata": {},
     "output_type": "execute_result"
    }
   ],
   "source": [
    "(items['manufacturer'].value_counts() == 1).sum()"
   ]
  },
  {
   "cell_type": "code",
   "execution_count": 5,
   "metadata": {},
   "outputs": [
    {
     "data": {
      "text/plain": [
       "<matplotlib.axes._subplots.AxesSubplot at 0x1de24d0fb88>"
      ]
     },
     "execution_count": 5,
     "metadata": {},
     "output_type": "execute_result"
    },
    {
     "data": {
      "image/png": "[encoded data removed]",
      "text/plain": [
       "<Figure size 432x288 with 1 Axes>"
      ]
     },
     "metadata": {},
     "output_type": "display_data"
    }
   ],
   "source": [
    "sns.distplot(items['manufacturer'], kde = False, bins = 10, hist_kws = dict(edgecolor = \"k\"))"
   ]
  },
  {
   "cell_type": "markdown",
   "metadata": {},
   "source": [
    "- There are **253** unique manufacturers (`manufacturer_items`), labelled from 1 to 253.\n",
    "- All manufacturers produced less than 500 items, and 27 manufacturers produced only 1 item.\n",
    "- The items are more random and evenly distributed over manufacturers unlike the item distribution over brands, where 5232 items are from Brand 0."
   ]
  },
  {
   "cell_type": "markdown",
   "metadata": {},
   "source": [
    "### Variable `category1`"
   ]
  },
  {
   "cell_type": "code",
   "execution_count": 44,
   "metadata": {},
   "outputs": [
    {
     "data": {
      "text/plain": [
       "8"
      ]
     },
     "execution_count": 44,
     "metadata": {},
     "output_type": "execute_result"
    }
   ],
   "source": [
    "items['category1'].nunique()"
   ]
  },
  {
   "cell_type": "code",
   "execution_count": 45,
   "metadata": {},
   "outputs": [
    {
     "data": {
      "text/plain": [
       "2    2348\n",
       "1    1823\n",
       "8    1734\n",
       "5    1679\n",
       "7    1121\n",
       "4     969\n",
       "6     489\n",
       "3     300\n",
       "Name: category1, dtype: int64"
      ]
     },
     "execution_count": 45,
     "metadata": {},
     "output_type": "execute_result"
    }
   ],
   "source": [
    "items['category1'].value_counts()"
   ]
  },
  {
   "cell_type": "code",
   "execution_count": 147,
   "metadata": {},
   "outputs": [
    {
     "data": {
      "text/plain": [
       "<matplotlib.axes._subplots.AxesSubplot at 0x17184188308>"
      ]
     },
     "execution_count": 147,
     "metadata": {},
     "output_type": "execute_result"
    },
    {
     "data": {
      "image/png": "[encoded data removed]",
      "text/plain": [
       "<Figure size 432x288 with 1 Axes>"
      ]
     },
     "metadata": {},
     "output_type": "display_data"
    }
   ],
   "source": [
    "sns.countplot(x = items['category1'], saturation = 1)"
   ]
  },
  {
   "cell_type": "markdown",
   "metadata": {},
   "source": [
    "- There are **8** unique labels for `category1_items`, from 1 to 8, with almost 2400 items belonging to Label 2 and 300 items belonging to Label 3."
   ]
  },
  {
   "cell_type": "markdown",
   "metadata": {},
   "source": [
    "### Variable `category2`"
   ]
  },
  {
   "cell_type": "code",
   "execution_count": 55,
   "metadata": {},
   "outputs": [
    {
     "data": {
      "text/plain": [
       "52"
      ]
     },
     "execution_count": 55,
     "metadata": {},
     "output_type": "execute_result"
    }
   ],
   "source": [
    "items['category2'].nunique()"
   ]
  },
  {
   "cell_type": "code",
   "execution_count": 58,
   "metadata": {},
   "outputs": [
    {
     "data": {
      "text/plain": [
       "array([ 1,  2,  3,  4,  5,  6,  7,  8,  9, 10, 11, 12, 13, 14, 15, 16, 17,\n",
       "       18, 19, 20, 21, 22, 23, 24, 25, 26, 27, 28, 29, 30, 31, 32, 33, 34,\n",
       "       35, 36, 37, 38, 39, 40, 41, 42, 43, 44, 45, 46, 47, 48, 49, 50, 51,\n",
       "       52], dtype=int64)"
      ]
     },
     "execution_count": 58,
     "metadata": {},
     "output_type": "execute_result"
    }
   ],
   "source": [
    "items['category2'].unique()"
   ]
  },
  {
   "cell_type": "code",
   "execution_count": 36,
   "metadata": {},
   "outputs": [
    {
     "data": {
      "text/plain": [
       "<matplotlib.axes._subplots.AxesSubplot at 0x275389eda48>"
      ]
     },
     "execution_count": 36,
     "metadata": {},
     "output_type": "execute_result"
    },
    {
     "data": {
      "image/png": "[encoded data removed]",
      "text/plain": [
       "<Figure size 432x288 with 1 Axes>"
      ]
     },
     "metadata": {},
     "output_type": "display_data"
    }
   ],
   "source": [
    "sns.distplot(items['category2'], kde = False, bins = 17, hist_kws = dict(edgecolor = \"k\"))"
   ]
  },
  {
   "cell_type": "markdown",
   "metadata": {},
   "source": [
    "- There are **52** unique labels for `category2_items`, from 1 to 52. Like `category1`, the item distribution over `category2` appears to be random."
   ]
  },
  {
   "cell_type": "markdown",
   "metadata": {},
   "source": [
    "### Variable `category3`"
   ]
  },
  {
   "cell_type": "code",
   "execution_count": 115,
   "metadata": {},
   "outputs": [
    {
     "data": {
      "text/plain": [
       "8"
      ]
     },
     "execution_count": 115,
     "metadata": {},
     "output_type": "execute_result"
    }
   ],
   "source": [
    "items['category3'].nunique()"
   ]
  },
  {
   "cell_type": "code",
   "execution_count": 117,
   "metadata": {},
   "outputs": [
    {
     "data": {
      "text/plain": [
       "2    2400\n",
       "1    1823\n",
       "8    1735\n",
       "4    1680\n",
       "6    1018\n",
       "7     957\n",
       "3     646\n",
       "5     204\n",
       "Name: category3, dtype: int64"
      ]
     },
     "execution_count": 117,
     "metadata": {},
     "output_type": "execute_result"
    }
   ],
   "source": [
    "items['category3'].value_counts()"
   ]
  },
  {
   "cell_type": "code",
   "execution_count": 150,
   "metadata": {},
   "outputs": [
    {
     "data": {
      "text/plain": [
       "<matplotlib.axes._subplots.AxesSubplot at 0x171842b6c08>"
      ]
     },
     "execution_count": 150,
     "metadata": {},
     "output_type": "execute_result"
    },
    {
     "data": {
      "image/png": "[encoded data removed]",
      "text/plain": [
       "<Figure size 432x288 with 1 Axes>"
      ]
     },
     "metadata": {},
     "output_type": "display_data"
    }
   ],
   "source": [
    "sns.countplot(items['category3'], saturation = 1)"
   ]
  },
  {
   "cell_type": "markdown",
   "metadata": {},
   "source": [
    "- There are **8** unique labels for `category3_items`, from 1 to 8. \n",
    "- The distribution pattern appears similar to `category1`, except for the Labels 4, 5 and 6."
   ]
  },
  {
   "cell_type": "markdown",
   "metadata": {},
   "source": [
    "### Variable `customerRating`"
   ]
  },
  {
   "cell_type": "code",
   "execution_count": 155,
   "metadata": {},
   "outputs": [
    {
     "data": {
      "text/plain": [
       "99"
      ]
     },
     "execution_count": 155,
     "metadata": {},
     "output_type": "execute_result"
    }
   ],
   "source": [
    "items['customerRating'].nunique()"
   ]
  },
  {
   "cell_type": "code",
   "execution_count": 158,
   "metadata": {},
   "outputs": [
    {
     "data": {
      "text/plain": [
       "array([4.38, 3.  , 5.  , 4.44, 2.33, 4.2 , 4.  , 4.88, 3.33, 0.  , 4.83,\n",
       "       3.71, 2.6 , 4.6 , 3.75, 1.  , 2.5 , 4.5 , 4.75, 4.89, 4.67, 4.33,\n",
       "       4.8 , 3.67, 2.75, 1.5 , 3.4 , 3.5 , 4.25, 2.  , 4.4 , 2.67, 4.91,\n",
       "       2.57, 3.24, 4.14, 2.13, 4.92, 4.43, 1.8 , 3.9 , 4.85, 2.83, 1.67,\n",
       "       2.25, 2.06, 4.82, 4.7 , 4.97, 4.59, 4.41, 2.49, 3.25, 4.58, 2.93,\n",
       "       4.28, 2.63, 3.57, 3.2 , 4.79, 4.13, 3.97, 4.57, 4.05, 4.47, 4.22,\n",
       "       3.43, 3.14, 3.41, 4.63, 3.8 , 3.26, 4.36, 4.72, 4.86, 4.71, 4.11,\n",
       "       4.76, 1.6 , 4.64, 3.86, 1.33, 3.6 , 4.69, 3.17, 4.17, 4.68, 2.04,\n",
       "       4.77, 3.83, 4.93, 3.73, 4.42, 4.3 , 4.95, 3.27, 3.13, 4.9 , 3.88])"
      ]
     },
     "execution_count": 158,
     "metadata": {},
     "output_type": "execute_result"
    }
   ],
   "source": [
    "items['customerRating'].unique()"
   ]
  },
  {
   "cell_type": "code",
   "execution_count": 157,
   "metadata": {},
   "outputs": [
    {
     "data": {
      "text/plain": [
       "0.00    7117\n",
       "5.00    2080\n",
       "4.00     301\n",
       "3.00     186\n",
       "4.50     116\n",
       "        ... \n",
       "1.33       1\n",
       "4.36       1\n",
       "4.72       1\n",
       "2.57       1\n",
       "1.80       1\n",
       "Name: customerRating, Length: 99, dtype: int64"
      ]
     },
     "execution_count": 157,
     "metadata": {},
     "output_type": "execute_result"
    }
   ],
   "source": [
    "items['customerRating'].value_counts() "
   ]
  },
  {
   "cell_type": "code",
   "execution_count": 307,
   "metadata": {},
   "outputs": [
    {
     "data": {
      "text/plain": [
       "<matplotlib.axes._subplots.AxesSubplot at 0x17188ecc5c8>"
      ]
     },
     "execution_count": 307,
     "metadata": {},
     "output_type": "execute_result"
    },
    {
     "data": {
      "image/png": "[encoded data removed]",
      "text/plain": [
       "<Figure size 432x288 with 1 Axes>"
      ]
     },
     "metadata": {},
     "output_type": "display_data"
    }
   ],
   "source": [
    "sns.distplot(items['customerRating'], kde = False, bins = 10, hist_kws = dict(edgecolor = \"k\"))"
   ]
  },
  {
   "cell_type": "markdown",
   "metadata": {},
   "source": [
    "- There are two peaks in `customerRating` seen in the opposite extreme ends at ratings 0 and 5. \n",
    "- No rating (rating = `0`) is given to **7117** items while rating 5 is given to **2080** items. Other ratings are given to 301 or fewer items. A total of **3346** items were rated by customers.\n",
    "- The ratings themselves appear to be continuous, where many ratings are given at a precision of 0.01, e.g. 4.72.\n",
    "- These overly precise ratings are multiplied by 2, rounded to the nearest integer and divided by 2 to obtain 11 half-integer ratings from 0 to 5 (actually 10 half-integers because there are no 0.5 ratings). "
   ]
  },
  {
   "cell_type": "code",
   "execution_count": 17,
   "metadata": {},
   "outputs": [],
   "source": [
    "halfint = round(items['customerRating'] * 2) / 2"
   ]
  },
  {
   "cell_type": "code",
   "execution_count": 18,
   "metadata": {},
   "outputs": [
    {
     "data": {
      "text/plain": [
       "10"
      ]
     },
     "execution_count": 18,
     "metadata": {},
     "output_type": "execute_result"
    }
   ],
   "source": [
    "halfint.nunique()"
   ]
  },
  {
   "cell_type": "code",
   "execution_count": 19,
   "metadata": {},
   "outputs": [
    {
     "data": {
      "text/plain": [
       "0.0    7117\n",
       "5.0    2153\n",
       "4.0     362\n",
       "4.5     247\n",
       "3.0     208\n",
       "1.0     116\n",
       "2.0     104\n",
       "3.5      96\n",
       "2.5      43\n",
       "1.5      17\n",
       "Name: customerRating, dtype: int64"
      ]
     },
     "execution_count": 19,
     "metadata": {},
     "output_type": "execute_result"
    }
   ],
   "source": [
    "halfint.value_counts()"
   ]
  },
  {
   "cell_type": "code",
   "execution_count": 42,
   "metadata": {},
   "outputs": [
    {
     "data": {
      "text/plain": [
       "array([0., 1.])"
      ]
     },
     "execution_count": 42,
     "metadata": {},
     "output_type": "execute_result"
    }
   ],
   "source": [
    "# there are no ratings between 0 and 1\n",
    "less_than_1 = items['customerRating'].unique() <= 1\n",
    "items['customerRating'].unique()[less_than_1]"
   ]
  },
  {
   "cell_type": "code",
   "execution_count": 20,
   "metadata": {},
   "outputs": [],
   "source": [
    "nonzero_ratings = halfint[halfint != 0]"
   ]
  },
  {
   "cell_type": "code",
   "execution_count": 25,
   "metadata": {},
   "outputs": [
    {
     "data": {
      "text/plain": [
       "<matplotlib.axes._subplots.AxesSubplot at 0x27537ea2348>"
      ]
     },
     "execution_count": 25,
     "metadata": {},
     "output_type": "execute_result"
    },
    {
     "data": {
      "image/png": "[encoded data removed]",
      "text/plain": [
       "<Figure size 432x288 with 1 Axes>"
      ]
     },
     "metadata": {},
     "output_type": "display_data"
    }
   ],
   "source": [
    "sns.countplot(nonzero_ratings, saturation = 1)"
   ]
  },
  {
   "cell_type": "code",
   "execution_count": 22,
   "metadata": {},
   "outputs": [
    {
     "data": {
      "text/plain": [
       "4.405708308427974"
      ]
     },
     "execution_count": 22,
     "metadata": {},
     "output_type": "execute_result"
    }
   ],
   "source": [
    "# mean of non-zero ratings\n",
    "nonzero_ratings.mean()"
   ]
  },
  {
   "cell_type": "code",
   "execution_count": 49,
   "metadata": {},
   "outputs": [],
   "source": [
    "items.insert(loc = 4, column = 'modifiedRating', value = halfint)"
   ]
  },
  {
   "cell_type": "code",
   "execution_count": 54,
   "metadata": {},
   "outputs": [
    {
     "data": {
      "text/html": [
       "<div>\n",
       "<style scoped>\n",
       "    .dataframe tbody tr th:only-of-type {\n",
       "        vertical-align: middle;\n",
       "    }\n",
       "\n",
       "    .dataframe tbody tr th {\n",
       "        vertical-align: top;\n",
       "    }\n",
       "\n",
       "    .dataframe thead th {\n",
       "        text-align: right;\n",
       "    }\n",
       "</style>\n",
       "<table border=\"1\" class=\"dataframe\">\n",
       "  <thead>\n",
       "    <tr style=\"text-align: right;\">\n",
       "      <th></th>\n",
       "      <th>itemID</th>\n",
       "      <th>brand</th>\n",
       "      <th>manufacturer</th>\n",
       "      <th>customerRating</th>\n",
       "      <th>modifiedRating</th>\n",
       "      <th>category1</th>\n",
       "      <th>category2</th>\n",
       "      <th>category3</th>\n",
       "      <th>recommendedRetailPrice</th>\n",
       "    </tr>\n",
       "  </thead>\n",
       "  <tbody>\n",
       "    <tr>\n",
       "      <th>0</th>\n",
       "      <td>1</td>\n",
       "      <td>0</td>\n",
       "      <td>1</td>\n",
       "      <td>4.38</td>\n",
       "      <td>4.5</td>\n",
       "      <td>1</td>\n",
       "      <td>1</td>\n",
       "      <td>1</td>\n",
       "      <td>8.84</td>\n",
       "    </tr>\n",
       "    <tr>\n",
       "      <th>1</th>\n",
       "      <td>2</td>\n",
       "      <td>0</td>\n",
       "      <td>2</td>\n",
       "      <td>3.00</td>\n",
       "      <td>3.0</td>\n",
       "      <td>1</td>\n",
       "      <td>2</td>\n",
       "      <td>1</td>\n",
       "      <td>16.92</td>\n",
       "    </tr>\n",
       "    <tr>\n",
       "      <th>2</th>\n",
       "      <td>3</td>\n",
       "      <td>0</td>\n",
       "      <td>3</td>\n",
       "      <td>5.00</td>\n",
       "      <td>5.0</td>\n",
       "      <td>1</td>\n",
       "      <td>3</td>\n",
       "      <td>1</td>\n",
       "      <td>15.89</td>\n",
       "    </tr>\n",
       "    <tr>\n",
       "      <th>3</th>\n",
       "      <td>4</td>\n",
       "      <td>0</td>\n",
       "      <td>2</td>\n",
       "      <td>4.44</td>\n",
       "      <td>4.5</td>\n",
       "      <td>1</td>\n",
       "      <td>2</td>\n",
       "      <td>1</td>\n",
       "      <td>40.17</td>\n",
       "    </tr>\n",
       "    <tr>\n",
       "      <th>4</th>\n",
       "      <td>5</td>\n",
       "      <td>0</td>\n",
       "      <td>2</td>\n",
       "      <td>2.33</td>\n",
       "      <td>2.5</td>\n",
       "      <td>1</td>\n",
       "      <td>1</td>\n",
       "      <td>1</td>\n",
       "      <td>17.04</td>\n",
       "    </tr>\n",
       "  </tbody>\n",
       "</table>\n",
       "</div>"
      ],
      "text/plain": [
       "   itemID  brand  manufacturer  customerRating  modifiedRating  category1  \\\n",
       "0       1      0             1            4.38             4.5          1   \n",
       "1       2      0             2            3.00             3.0          1   \n",
       "2       3      0             3            5.00             5.0          1   \n",
       "3       4      0             2            4.44             4.5          1   \n",
       "4       5      0             2            2.33             2.5          1   \n",
       "\n",
       "   category2  category3  recommendedRetailPrice  \n",
       "0          1          1                    8.84  \n",
       "1          2          1                   16.92  \n",
       "2          3          1                   15.89  \n",
       "3          2          1                   40.17  \n",
       "4          1          1                   17.04  "
      ]
     },
     "execution_count": 54,
     "metadata": {},
     "output_type": "execute_result"
    }
   ],
   "source": [
    "items.head()"
   ]
  },
  {
   "cell_type": "markdown",
   "metadata": {},
   "source": [
    "- A sizeable chunk of rated items had a very good rating of 5 (2153 / 3346). The mean rating is quite high, at about 4.41.\n",
    "- The half-integer column of ratings was added as a new column named `modifiedRating` into the `items` dataset.\n",
    "- Save the modified dataset into the home directory, overwriting the old `items.pkl` dataset."
   ]
  },
  {
   "cell_type": "code",
   "execution_count": 90,
   "metadata": {},
   "outputs": [],
   "source": [
    "items.to_pickle('items.pkl')"
   ]
  },
  {
   "cell_type": "markdown",
   "metadata": {},
   "source": [
    "### Variable `recommendedRetailPrice`"
   ]
  },
  {
   "cell_type": "code",
   "execution_count": 76,
   "metadata": {},
   "outputs": [
    {
     "data": {
      "text/plain": [
       "<matplotlib.axes._subplots.AxesSubplot at 0x1de27c75748>"
      ]
     },
     "execution_count": 76,
     "metadata": {},
     "output_type": "execute_result"
    },
    {
     "data": {
      "image/png": "[encoded data removed]",
      "text/plain": [
       "<Figure size 432x288 with 1 Axes>"
      ]
     },
     "metadata": {},
     "output_type": "display_data"
    }
   ],
   "source": [
    "sns.distplot(items['recommendedRetailPrice'], kde = False, bins = 14, hist_kws = dict(edgecolor = \"k\"))"
   ]
  },
  {
   "cell_type": "markdown",
   "metadata": {},
   "source": [
    "- The `recommendedRetailPrice` is highly right-skewed, so use a log scale on the y-axis to have an easier time looking at the distribution."
   ]
  },
  {
   "cell_type": "code",
   "execution_count": 79,
   "metadata": {},
   "outputs": [
    {
     "data": {
      "text/plain": [
       "Text(0, 0.5, 'Frequency')"
      ]
     },
     "execution_count": 79,
     "metadata": {},
     "output_type": "execute_result"
    },
    {
     "data": {
      "image/png": "[encoded data removed]",
      "text/plain": [
       "<Figure size 432x288 with 1 Axes>"
      ]
     },
     "metadata": {},
     "output_type": "display_data"
    }
   ],
   "source": [
    "sns.distplot(items['recommendedRetailPrice'], kde = False,\n",
    "             bins = 14, hist_kws = dict(edgecolor = \"k\"))\n",
    "plt.yscale('log')\n",
    "plt.ylabel('Frequency')"
   ]
  },
  {
   "cell_type": "code",
   "execution_count": 63,
   "metadata": {},
   "outputs": [
    {
     "data": {
      "text/plain": [
       "(8416, 10197)"
      ]
     },
     "execution_count": 63,
     "metadata": {},
     "output_type": "execute_result"
    }
   ],
   "source": [
    "(items['recommendedRetailPrice'] < 100).sum(), (items['recommendedRetailPrice'] < 1000).sum()"
   ]
  },
  {
   "cell_type": "code",
   "execution_count": 80,
   "metadata": {},
   "outputs": [
    {
     "data": {
      "text/plain": [
       "7"
      ]
     },
     "execution_count": 80,
     "metadata": {},
     "output_type": "execute_result"
    }
   ],
   "source": [
    "(items['recommendedRetailPrice'] > 4000).sum()"
   ]
  },
  {
   "cell_type": "markdown",
   "metadata": {},
   "source": [
    "- Over 8400 items have a `recommendedRetailPrice` less than 100 and almost 10200 items have a `RetailPrice` less than 1000.\n",
    "- The y-log plot also shows that there are only 7 items with a `RetailPrice` over 4000."
   ]
  },
  {
   "cell_type": "markdown",
   "metadata": {},
   "source": [
    "### Revisiting variable `simulationPrice` from `infos` dataset"
   ]
  },
  {
   "cell_type": "markdown",
   "metadata": {},
   "source": [
    "- Want to replot `simulationPrice_infos` with y-log scale."
   ]
  },
  {
   "cell_type": "code",
   "execution_count": 81,
   "metadata": {},
   "outputs": [],
   "source": [
    "infos = pd.read_pickle('infos.pkl')"
   ]
  },
  {
   "cell_type": "code",
   "execution_count": 85,
   "metadata": {},
   "outputs": [
    {
     "data": {
      "text/plain": [
       "<matplotlib.axes._subplots.AxesSubplot at 0x1de27a61f88>"
      ]
     },
     "execution_count": 85,
     "metadata": {},
     "output_type": "execute_result"
    },
    {
     "data": {
      "image/png": "[encoded data removed]",
      "text/plain": [
       "<Figure size 432x288 with 1 Axes>"
      ]
     },
     "metadata": {},
     "output_type": "display_data"
    }
   ],
   "source": [
    "sns.distplot(infos['simulationPrice'], kde = False, bins = 18, hist_kws = dict(edgecolor = \"k\"))"
   ]
  },
  {
   "cell_type": "code",
   "execution_count": 88,
   "metadata": {},
   "outputs": [
    {
     "data": {
      "text/plain": [
       "Text(0, 0.5, 'Frequency')"
      ]
     },
     "execution_count": 88,
     "metadata": {},
     "output_type": "execute_result"
    },
    {
     "data": {
      "image/png": "[encoded data removed]",
      "text/plain": [
       "<Figure size 432x288 with 1 Axes>"
      ]
     },
     "metadata": {},
     "output_type": "display_data"
    }
   ],
   "source": [
    "sns.distplot(infos['simulationPrice'], kde = False, bins = 18, hist_kws = dict(edgecolor = \"k\"))\n",
    "plt.yscale('log')\n",
    "plt.ylabel('Frequency')"
   ]
  },
  {
   "cell_type": "code",
   "execution_count": null,
   "metadata": {},
   "outputs": [],
   "source": []
  }
 ],
 "metadata": {
  "kernelspec": {
   "display_name": "Python 3.7.5 64-bit ('nlp_course': conda)",
   "language": "python",
   "name": "python37564bitnlpcourseconda86a5b05d218b4c1395806f05482c8d94"
  },
  "language_info": {
   "codemirror_mode": {
    "name": "ipython",
    "version": 3
   },
   "file_extension": ".py",
   "mimetype": "text/x-python",
   "name": "python",
   "nbconvert_exporter": "python",
   "pygments_lexer": "ipython3",
   "version": "3.7.5"
  }
 },
 "nbformat": 4,
 "nbformat_minor": 2
}
